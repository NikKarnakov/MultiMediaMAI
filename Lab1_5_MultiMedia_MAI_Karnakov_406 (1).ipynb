{
  "nbformat": 4,
  "nbformat_minor": 0,
  "metadata": {
    "colab": {
      "provenance": []
    },
    "kernelspec": {
      "name": "python3",
      "display_name": "Python 3"
    },
    "language_info": {
      "name": "python"
    }
  },
  "cells": [
    {
      "cell_type": "markdown",
      "source": [
        "##### Группа: М8О-406Б-21\n",
        "##### Студент: Карнаков Н.Д."
      ],
      "metadata": {
        "id": "t057Zanl78H2"
      }
    },
    {
      "cell_type": "markdown",
      "source": [
        "# Лабораторная работа № 1-5"
      ],
      "metadata": {
        "id": "yNFD-S6Y8JVT"
      }
    },
    {
      "cell_type": "markdown",
      "source": [
        "# Задача классификации"
      ],
      "metadata": {
        "id": "bPLQQB5PbvPX"
      }
    },
    {
      "cell_type": "markdown",
      "source": [
        "## 1. Выбор начальных условий\n",
        "\n",
        "a. Выбрать набор данных для задачи классификации (у каждого студента должен быть уникальный набор данных) и обосновать его выбор (реальная практическая задача)\n",
        "\n",
        "Для задачи классификации мною был выбран датасет с Kaggle - Pima Indians Diabetes Database.\n",
        "\n",
        "https://www.kaggle.com/datasets/uciml/pima-indians-diabetes-database/data (дата обращения - 05.01.2025)\n",
        "\n",
        "Краткое описание датасета:\n",
        "\n",
        "Этот датасет был создан Национальным институтом диабета, болезней органов пищеварения и почек. Его цель — диагностическое предсказание наличия или отсутствия диабета у пациента на основе ряда диагностических измерений, представленных в данных. При отборе записей из более крупной базы данных были применены определённые ограничения. В частности, все пациенты в этом датасете — женщины не моложе 21 года, принадлежащие к этнической группе индейцев пима.\n",
        "\n",
        "Ключевые аргументы по выбору данного датасета:\n",
        "\n",
        "1.   Задача диагностики диабета имеет большое практическое значение, так как диабет — это распространённое хроническое заболевание, требующее своевременного выявления и лечения;\n",
        "2.   Работа с этим датасетом позволяет понять, как использовать машинное обучение для решения реальных медицинских задач, таких как предсказание наличия заболевания на основе медицинских данных.\n",
        "\n",
        "Параметры, представленные в датасете:\n",
        "\n",
        "**Pregnancies** — количество беременностей.  \n",
        "**Glucose** — концентрация глюкозы в плазме через 2 часа после проведения перорального теста на толерантность к глюкозе.  \n",
        "**BloodPressure** — диастолическое артериальное давление (в мм рт. ст.).  \n",
        "**SkinThickness** — толщина кожной складки на трицепсе (в мм).  \n",
        "**Insulin** — уровень инсулина в сыворотке крови через 2 часа (в мкЕд/мл).   \n",
        "**BMI** — индекс массы тела (вес в кг / (рост в м)²).   \n",
        "**DiabetesPedigreeFunction** — коэффициент наследственной предрасположенности к диабету.  \n",
        "**Age** — возраст (в годах).  \n",
        "**Outcome** — целевая переменная (0 или 1): 268 из 768 записей имеют значение 1, остальные — 0.  "
      ],
      "metadata": {
        "id": "b15Hd86NrGgy"
      }
    },
    {
      "cell_type": "markdown",
      "source": [
        "### Загрузка датасета"
      ],
      "metadata": {
        "id": "mb-MuClYGJEN"
      }
    },
    {
      "cell_type": "markdown",
      "source": [
        "Загружаем файл kaggle.json с ключом API для доступа к Kaggle."
      ],
      "metadata": {
        "id": "NHBDpnNQ-je0"
      }
    },
    {
      "cell_type": "code",
      "source": [
        "from google.colab import files\n",
        "files.upload()"
      ],
      "metadata": {
        "colab": {
          "base_uri": "https://localhost:8080/",
          "height": 90
        },
        "id": "MpgGlU-LEKFm",
        "outputId": "eb19f498-f856-42e8-9e49-d0996c9e01a2"
      },
      "execution_count": 2,
      "outputs": [
        {
          "output_type": "display_data",
          "data": {
            "text/plain": [
              "<IPython.core.display.HTML object>"
            ],
            "text/html": [
              "\n",
              "     <input type=\"file\" id=\"files-878e8310-303a-44ed-a733-0184b3dda717\" name=\"files[]\" multiple disabled\n",
              "        style=\"border:none\" />\n",
              "     <output id=\"result-878e8310-303a-44ed-a733-0184b3dda717\">\n",
              "      Upload widget is only available when the cell has been executed in the\n",
              "      current browser session. Please rerun this cell to enable.\n",
              "      </output>\n",
              "      <script>// Copyright 2017 Google LLC\n",
              "//\n",
              "// Licensed under the Apache License, Version 2.0 (the \"License\");\n",
              "// you may not use this file except in compliance with the License.\n",
              "// You may obtain a copy of the License at\n",
              "//\n",
              "//      http://www.apache.org/licenses/LICENSE-2.0\n",
              "//\n",
              "// Unless required by applicable law or agreed to in writing, software\n",
              "// distributed under the License is distributed on an \"AS IS\" BASIS,\n",
              "// WITHOUT WARRANTIES OR CONDITIONS OF ANY KIND, either express or implied.\n",
              "// See the License for the specific language governing permissions and\n",
              "// limitations under the License.\n",
              "\n",
              "/**\n",
              " * @fileoverview Helpers for google.colab Python module.\n",
              " */\n",
              "(function(scope) {\n",
              "function span(text, styleAttributes = {}) {\n",
              "  const element = document.createElement('span');\n",
              "  element.textContent = text;\n",
              "  for (const key of Object.keys(styleAttributes)) {\n",
              "    element.style[key] = styleAttributes[key];\n",
              "  }\n",
              "  return element;\n",
              "}\n",
              "\n",
              "// Max number of bytes which will be uploaded at a time.\n",
              "const MAX_PAYLOAD_SIZE = 100 * 1024;\n",
              "\n",
              "function _uploadFiles(inputId, outputId) {\n",
              "  const steps = uploadFilesStep(inputId, outputId);\n",
              "  const outputElement = document.getElementById(outputId);\n",
              "  // Cache steps on the outputElement to make it available for the next call\n",
              "  // to uploadFilesContinue from Python.\n",
              "  outputElement.steps = steps;\n",
              "\n",
              "  return _uploadFilesContinue(outputId);\n",
              "}\n",
              "\n",
              "// This is roughly an async generator (not supported in the browser yet),\n",
              "// where there are multiple asynchronous steps and the Python side is going\n",
              "// to poll for completion of each step.\n",
              "// This uses a Promise to block the python side on completion of each step,\n",
              "// then passes the result of the previous step as the input to the next step.\n",
              "function _uploadFilesContinue(outputId) {\n",
              "  const outputElement = document.getElementById(outputId);\n",
              "  const steps = outputElement.steps;\n",
              "\n",
              "  const next = steps.next(outputElement.lastPromiseValue);\n",
              "  return Promise.resolve(next.value.promise).then((value) => {\n",
              "    // Cache the last promise value to make it available to the next\n",
              "    // step of the generator.\n",
              "    outputElement.lastPromiseValue = value;\n",
              "    return next.value.response;\n",
              "  });\n",
              "}\n",
              "\n",
              "/**\n",
              " * Generator function which is called between each async step of the upload\n",
              " * process.\n",
              " * @param {string} inputId Element ID of the input file picker element.\n",
              " * @param {string} outputId Element ID of the output display.\n",
              " * @return {!Iterable<!Object>} Iterable of next steps.\n",
              " */\n",
              "function* uploadFilesStep(inputId, outputId) {\n",
              "  const inputElement = document.getElementById(inputId);\n",
              "  inputElement.disabled = false;\n",
              "\n",
              "  const outputElement = document.getElementById(outputId);\n",
              "  outputElement.innerHTML = '';\n",
              "\n",
              "  const pickedPromise = new Promise((resolve) => {\n",
              "    inputElement.addEventListener('change', (e) => {\n",
              "      resolve(e.target.files);\n",
              "    });\n",
              "  });\n",
              "\n",
              "  const cancel = document.createElement('button');\n",
              "  inputElement.parentElement.appendChild(cancel);\n",
              "  cancel.textContent = 'Cancel upload';\n",
              "  const cancelPromise = new Promise((resolve) => {\n",
              "    cancel.onclick = () => {\n",
              "      resolve(null);\n",
              "    };\n",
              "  });\n",
              "\n",
              "  // Wait for the user to pick the files.\n",
              "  const files = yield {\n",
              "    promise: Promise.race([pickedPromise, cancelPromise]),\n",
              "    response: {\n",
              "      action: 'starting',\n",
              "    }\n",
              "  };\n",
              "\n",
              "  cancel.remove();\n",
              "\n",
              "  // Disable the input element since further picks are not allowed.\n",
              "  inputElement.disabled = true;\n",
              "\n",
              "  if (!files) {\n",
              "    return {\n",
              "      response: {\n",
              "        action: 'complete',\n",
              "      }\n",
              "    };\n",
              "  }\n",
              "\n",
              "  for (const file of files) {\n",
              "    const li = document.createElement('li');\n",
              "    li.append(span(file.name, {fontWeight: 'bold'}));\n",
              "    li.append(span(\n",
              "        `(${file.type || 'n/a'}) - ${file.size} bytes, ` +\n",
              "        `last modified: ${\n",
              "            file.lastModifiedDate ? file.lastModifiedDate.toLocaleDateString() :\n",
              "                                    'n/a'} - `));\n",
              "    const percent = span('0% done');\n",
              "    li.appendChild(percent);\n",
              "\n",
              "    outputElement.appendChild(li);\n",
              "\n",
              "    const fileDataPromise = new Promise((resolve) => {\n",
              "      const reader = new FileReader();\n",
              "      reader.onload = (e) => {\n",
              "        resolve(e.target.result);\n",
              "      };\n",
              "      reader.readAsArrayBuffer(file);\n",
              "    });\n",
              "    // Wait for the data to be ready.\n",
              "    let fileData = yield {\n",
              "      promise: fileDataPromise,\n",
              "      response: {\n",
              "        action: 'continue',\n",
              "      }\n",
              "    };\n",
              "\n",
              "    // Use a chunked sending to avoid message size limits. See b/62115660.\n",
              "    let position = 0;\n",
              "    do {\n",
              "      const length = Math.min(fileData.byteLength - position, MAX_PAYLOAD_SIZE);\n",
              "      const chunk = new Uint8Array(fileData, position, length);\n",
              "      position += length;\n",
              "\n",
              "      const base64 = btoa(String.fromCharCode.apply(null, chunk));\n",
              "      yield {\n",
              "        response: {\n",
              "          action: 'append',\n",
              "          file: file.name,\n",
              "          data: base64,\n",
              "        },\n",
              "      };\n",
              "\n",
              "      let percentDone = fileData.byteLength === 0 ?\n",
              "          100 :\n",
              "          Math.round((position / fileData.byteLength) * 100);\n",
              "      percent.textContent = `${percentDone}% done`;\n",
              "\n",
              "    } while (position < fileData.byteLength);\n",
              "  }\n",
              "\n",
              "  // All done.\n",
              "  yield {\n",
              "    response: {\n",
              "      action: 'complete',\n",
              "    }\n",
              "  };\n",
              "}\n",
              "\n",
              "scope.google = scope.google || {};\n",
              "scope.google.colab = scope.google.colab || {};\n",
              "scope.google.colab._files = {\n",
              "  _uploadFiles,\n",
              "  _uploadFilesContinue,\n",
              "};\n",
              "})(self);\n",
              "</script> "
            ]
          },
          "metadata": {}
        },
        {
          "output_type": "stream",
          "name": "stdout",
          "text": [
            "Saving kaggle.json to kaggle.json\n"
          ]
        },
        {
          "output_type": "execute_result",
          "data": {
            "text/plain": [
              "{'kaggle.json': b'{\"username\":\"nikitavorona\",\"key\":\"a4ac2c86c1454a47d83c32856e07ff09\"}'}"
            ]
          },
          "metadata": {},
          "execution_count": 2
        }
      ]
    },
    {
      "cell_type": "markdown",
      "source": [
        "Создаём папку .kaggle в collab.\n",
        "Копируем файл kaggle.json (содержащий API-токен для аутентификации в Kaggle) в эту папку.\n",
        "Устанавливаем права доступа на файл kaggle.json, чтобы только текущий пользователь мог его читать и изменять (600).\n",
        "Эти шаги необходимы для безопасной аутентификации и работы с API Kaggle.\n"
      ],
      "metadata": {
        "id": "NOsPECa6EebI"
      }
    },
    {
      "cell_type": "code",
      "source": [
        "!mkdir -p ~/.kaggle\n",
        "!cp kaggle.json ~/.kaggle/\n",
        "!chmod 600 ~/.kaggle/kaggle.json"
      ],
      "metadata": {
        "id": "MOLys_bNES93"
      },
      "execution_count": 3,
      "outputs": []
    },
    {
      "cell_type": "markdown",
      "source": [
        "Устанавливаем библиотеку kaggle.\n",
        "Она позволяет работать с API Kaggle и загружать датасеты.\n",
        "Параметр -q отключает вывод подробной информации об установке.\n"
      ],
      "metadata": {
        "id": "M8WzbVxXEpdQ"
      }
    },
    {
      "cell_type": "code",
      "source": [
        "!pip install -q kaggle"
      ],
      "metadata": {
        "id": "FQEy0S0JEpE5"
      },
      "execution_count": 4,
      "outputs": []
    },
    {
      "cell_type": "markdown",
      "source": [
        "Загружаем набор данных Pima Indians Diabetes Database из Kaggle."
      ],
      "metadata": {
        "id": "e2jtMQaOFDH3"
      }
    },
    {
      "cell_type": "code",
      "source": [
        "!kaggle datasets download -d uciml/pima-indians-diabetes-database"
      ],
      "metadata": {
        "colab": {
          "base_uri": "https://localhost:8080/"
        },
        "id": "tTDARqh_FHNf",
        "outputId": "1616645c-bc7e-4058-c664-fad4bc5cf0ec"
      },
      "execution_count": 5,
      "outputs": [
        {
          "output_type": "stream",
          "name": "stdout",
          "text": [
            "Dataset URL: https://www.kaggle.com/datasets/uciml/pima-indians-diabetes-database\n",
            "License(s): CC0-1.0\n",
            "Downloading pima-indians-diabetes-database.zip to /content\n",
            "  0% 0.00/8.91k [00:00<?, ?B/s]\n",
            "100% 8.91k/8.91k [00:00<00:00, 15.3MB/s]\n"
          ]
        }
      ]
    },
    {
      "cell_type": "markdown",
      "source": [
        "Распаковываем набор данных в каталог ./data"
      ],
      "metadata": {
        "id": "TbP6xL6xFmEc"
      }
    },
    {
      "cell_type": "code",
      "source": [
        "!unzip -q pima-indians-diabetes-database.zip -d ./data"
      ],
      "metadata": {
        "id": "7QkzyZDYFmjc"
      },
      "execution_count": 6,
      "outputs": []
    },
    {
      "cell_type": "markdown",
      "source": [
        "Проверяем наличие файла с данными"
      ],
      "metadata": {
        "id": "6U0ty34HF0ol"
      }
    },
    {
      "cell_type": "code",
      "source": [
        "import os\n",
        "\n",
        "os.listdir('./data')"
      ],
      "metadata": {
        "colab": {
          "base_uri": "https://localhost:8080/"
        },
        "id": "3Djge8vDF2PX",
        "outputId": "a98a5aa0-9755-4166-fe4a-c244a4d8e0da"
      },
      "execution_count": 7,
      "outputs": [
        {
          "output_type": "execute_result",
          "data": {
            "text/plain": [
              "['diabetes.csv']"
            ]
          },
          "metadata": {},
          "execution_count": 7
        }
      ]
    },
    {
      "cell_type": "markdown",
      "source": [
        "Импортируем библиотеку pandas для работы с табличными данными.\n",
        "Считываем данные из файла 'diabetes.csv', расположенного по следующему пути:\n",
        "diabetes.csv, и сохраняем их в переменную raw_data в виде DataFrame.\n",
        "Отображаем первые 10 строк датасета с помощью метода head(20) для ознакомления с содержимым данных."
      ],
      "metadata": {
        "id": "W1Ii5blxCBh8"
      }
    },
    {
      "cell_type": "code",
      "source": [
        "import pandas as pd\n",
        "\n",
        "raw_data = pd.read_csv('/content/data/diabetes.csv')\n",
        "raw_data.head(20)"
      ],
      "metadata": {
        "colab": {
          "base_uri": "https://localhost:8080/",
          "height": 696
        },
        "id": "ElWEH1CiJa29",
        "outputId": "4442f8e7-affb-4147-c48d-e4d1eda19f34"
      },
      "execution_count": 8,
      "outputs": [
        {
          "output_type": "execute_result",
          "data": {
            "text/plain": [
              "    Pregnancies  Glucose  BloodPressure  SkinThickness  Insulin   BMI  \\\n",
              "0             6      148             72             35        0  33.6   \n",
              "1             1       85             66             29        0  26.6   \n",
              "2             8      183             64              0        0  23.3   \n",
              "3             1       89             66             23       94  28.1   \n",
              "4             0      137             40             35      168  43.1   \n",
              "5             5      116             74              0        0  25.6   \n",
              "6             3       78             50             32       88  31.0   \n",
              "7            10      115              0              0        0  35.3   \n",
              "8             2      197             70             45      543  30.5   \n",
              "9             8      125             96              0        0   0.0   \n",
              "10            4      110             92              0        0  37.6   \n",
              "11           10      168             74              0        0  38.0   \n",
              "12           10      139             80              0        0  27.1   \n",
              "13            1      189             60             23      846  30.1   \n",
              "14            5      166             72             19      175  25.8   \n",
              "15            7      100              0              0        0  30.0   \n",
              "16            0      118             84             47      230  45.8   \n",
              "17            7      107             74              0        0  29.6   \n",
              "18            1      103             30             38       83  43.3   \n",
              "19            1      115             70             30       96  34.6   \n",
              "\n",
              "    DiabetesPedigreeFunction  Age  Outcome  \n",
              "0                      0.627   50        1  \n",
              "1                      0.351   31        0  \n",
              "2                      0.672   32        1  \n",
              "3                      0.167   21        0  \n",
              "4                      2.288   33        1  \n",
              "5                      0.201   30        0  \n",
              "6                      0.248   26        1  \n",
              "7                      0.134   29        0  \n",
              "8                      0.158   53        1  \n",
              "9                      0.232   54        1  \n",
              "10                     0.191   30        0  \n",
              "11                     0.537   34        1  \n",
              "12                     1.441   57        0  \n",
              "13                     0.398   59        1  \n",
              "14                     0.587   51        1  \n",
              "15                     0.484   32        1  \n",
              "16                     0.551   31        1  \n",
              "17                     0.254   31        1  \n",
              "18                     0.183   33        0  \n",
              "19                     0.529   32        1  "
            ],
            "text/html": [
              "\n",
              "  <div id=\"df-03623976-e31b-4309-880e-32abc02e2b8b\" class=\"colab-df-container\">\n",
              "    <div>\n",
              "<style scoped>\n",
              "    .dataframe tbody tr th:only-of-type {\n",
              "        vertical-align: middle;\n",
              "    }\n",
              "\n",
              "    .dataframe tbody tr th {\n",
              "        vertical-align: top;\n",
              "    }\n",
              "\n",
              "    .dataframe thead th {\n",
              "        text-align: right;\n",
              "    }\n",
              "</style>\n",
              "<table border=\"1\" class=\"dataframe\">\n",
              "  <thead>\n",
              "    <tr style=\"text-align: right;\">\n",
              "      <th></th>\n",
              "      <th>Pregnancies</th>\n",
              "      <th>Glucose</th>\n",
              "      <th>BloodPressure</th>\n",
              "      <th>SkinThickness</th>\n",
              "      <th>Insulin</th>\n",
              "      <th>BMI</th>\n",
              "      <th>DiabetesPedigreeFunction</th>\n",
              "      <th>Age</th>\n",
              "      <th>Outcome</th>\n",
              "    </tr>\n",
              "  </thead>\n",
              "  <tbody>\n",
              "    <tr>\n",
              "      <th>0</th>\n",
              "      <td>6</td>\n",
              "      <td>148</td>\n",
              "      <td>72</td>\n",
              "      <td>35</td>\n",
              "      <td>0</td>\n",
              "      <td>33.6</td>\n",
              "      <td>0.627</td>\n",
              "      <td>50</td>\n",
              "      <td>1</td>\n",
              "    </tr>\n",
              "    <tr>\n",
              "      <th>1</th>\n",
              "      <td>1</td>\n",
              "      <td>85</td>\n",
              "      <td>66</td>\n",
              "      <td>29</td>\n",
              "      <td>0</td>\n",
              "      <td>26.6</td>\n",
              "      <td>0.351</td>\n",
              "      <td>31</td>\n",
              "      <td>0</td>\n",
              "    </tr>\n",
              "    <tr>\n",
              "      <th>2</th>\n",
              "      <td>8</td>\n",
              "      <td>183</td>\n",
              "      <td>64</td>\n",
              "      <td>0</td>\n",
              "      <td>0</td>\n",
              "      <td>23.3</td>\n",
              "      <td>0.672</td>\n",
              "      <td>32</td>\n",
              "      <td>1</td>\n",
              "    </tr>\n",
              "    <tr>\n",
              "      <th>3</th>\n",
              "      <td>1</td>\n",
              "      <td>89</td>\n",
              "      <td>66</td>\n",
              "      <td>23</td>\n",
              "      <td>94</td>\n",
              "      <td>28.1</td>\n",
              "      <td>0.167</td>\n",
              "      <td>21</td>\n",
              "      <td>0</td>\n",
              "    </tr>\n",
              "    <tr>\n",
              "      <th>4</th>\n",
              "      <td>0</td>\n",
              "      <td>137</td>\n",
              "      <td>40</td>\n",
              "      <td>35</td>\n",
              "      <td>168</td>\n",
              "      <td>43.1</td>\n",
              "      <td>2.288</td>\n",
              "      <td>33</td>\n",
              "      <td>1</td>\n",
              "    </tr>\n",
              "    <tr>\n",
              "      <th>5</th>\n",
              "      <td>5</td>\n",
              "      <td>116</td>\n",
              "      <td>74</td>\n",
              "      <td>0</td>\n",
              "      <td>0</td>\n",
              "      <td>25.6</td>\n",
              "      <td>0.201</td>\n",
              "      <td>30</td>\n",
              "      <td>0</td>\n",
              "    </tr>\n",
              "    <tr>\n",
              "      <th>6</th>\n",
              "      <td>3</td>\n",
              "      <td>78</td>\n",
              "      <td>50</td>\n",
              "      <td>32</td>\n",
              "      <td>88</td>\n",
              "      <td>31.0</td>\n",
              "      <td>0.248</td>\n",
              "      <td>26</td>\n",
              "      <td>1</td>\n",
              "    </tr>\n",
              "    <tr>\n",
              "      <th>7</th>\n",
              "      <td>10</td>\n",
              "      <td>115</td>\n",
              "      <td>0</td>\n",
              "      <td>0</td>\n",
              "      <td>0</td>\n",
              "      <td>35.3</td>\n",
              "      <td>0.134</td>\n",
              "      <td>29</td>\n",
              "      <td>0</td>\n",
              "    </tr>\n",
              "    <tr>\n",
              "      <th>8</th>\n",
              "      <td>2</td>\n",
              "      <td>197</td>\n",
              "      <td>70</td>\n",
              "      <td>45</td>\n",
              "      <td>543</td>\n",
              "      <td>30.5</td>\n",
              "      <td>0.158</td>\n",
              "      <td>53</td>\n",
              "      <td>1</td>\n",
              "    </tr>\n",
              "    <tr>\n",
              "      <th>9</th>\n",
              "      <td>8</td>\n",
              "      <td>125</td>\n",
              "      <td>96</td>\n",
              "      <td>0</td>\n",
              "      <td>0</td>\n",
              "      <td>0.0</td>\n",
              "      <td>0.232</td>\n",
              "      <td>54</td>\n",
              "      <td>1</td>\n",
              "    </tr>\n",
              "    <tr>\n",
              "      <th>10</th>\n",
              "      <td>4</td>\n",
              "      <td>110</td>\n",
              "      <td>92</td>\n",
              "      <td>0</td>\n",
              "      <td>0</td>\n",
              "      <td>37.6</td>\n",
              "      <td>0.191</td>\n",
              "      <td>30</td>\n",
              "      <td>0</td>\n",
              "    </tr>\n",
              "    <tr>\n",
              "      <th>11</th>\n",
              "      <td>10</td>\n",
              "      <td>168</td>\n",
              "      <td>74</td>\n",
              "      <td>0</td>\n",
              "      <td>0</td>\n",
              "      <td>38.0</td>\n",
              "      <td>0.537</td>\n",
              "      <td>34</td>\n",
              "      <td>1</td>\n",
              "    </tr>\n",
              "    <tr>\n",
              "      <th>12</th>\n",
              "      <td>10</td>\n",
              "      <td>139</td>\n",
              "      <td>80</td>\n",
              "      <td>0</td>\n",
              "      <td>0</td>\n",
              "      <td>27.1</td>\n",
              "      <td>1.441</td>\n",
              "      <td>57</td>\n",
              "      <td>0</td>\n",
              "    </tr>\n",
              "    <tr>\n",
              "      <th>13</th>\n",
              "      <td>1</td>\n",
              "      <td>189</td>\n",
              "      <td>60</td>\n",
              "      <td>23</td>\n",
              "      <td>846</td>\n",
              "      <td>30.1</td>\n",
              "      <td>0.398</td>\n",
              "      <td>59</td>\n",
              "      <td>1</td>\n",
              "    </tr>\n",
              "    <tr>\n",
              "      <th>14</th>\n",
              "      <td>5</td>\n",
              "      <td>166</td>\n",
              "      <td>72</td>\n",
              "      <td>19</td>\n",
              "      <td>175</td>\n",
              "      <td>25.8</td>\n",
              "      <td>0.587</td>\n",
              "      <td>51</td>\n",
              "      <td>1</td>\n",
              "    </tr>\n",
              "    <tr>\n",
              "      <th>15</th>\n",
              "      <td>7</td>\n",
              "      <td>100</td>\n",
              "      <td>0</td>\n",
              "      <td>0</td>\n",
              "      <td>0</td>\n",
              "      <td>30.0</td>\n",
              "      <td>0.484</td>\n",
              "      <td>32</td>\n",
              "      <td>1</td>\n",
              "    </tr>\n",
              "    <tr>\n",
              "      <th>16</th>\n",
              "      <td>0</td>\n",
              "      <td>118</td>\n",
              "      <td>84</td>\n",
              "      <td>47</td>\n",
              "      <td>230</td>\n",
              "      <td>45.8</td>\n",
              "      <td>0.551</td>\n",
              "      <td>31</td>\n",
              "      <td>1</td>\n",
              "    </tr>\n",
              "    <tr>\n",
              "      <th>17</th>\n",
              "      <td>7</td>\n",
              "      <td>107</td>\n",
              "      <td>74</td>\n",
              "      <td>0</td>\n",
              "      <td>0</td>\n",
              "      <td>29.6</td>\n",
              "      <td>0.254</td>\n",
              "      <td>31</td>\n",
              "      <td>1</td>\n",
              "    </tr>\n",
              "    <tr>\n",
              "      <th>18</th>\n",
              "      <td>1</td>\n",
              "      <td>103</td>\n",
              "      <td>30</td>\n",
              "      <td>38</td>\n",
              "      <td>83</td>\n",
              "      <td>43.3</td>\n",
              "      <td>0.183</td>\n",
              "      <td>33</td>\n",
              "      <td>0</td>\n",
              "    </tr>\n",
              "    <tr>\n",
              "      <th>19</th>\n",
              "      <td>1</td>\n",
              "      <td>115</td>\n",
              "      <td>70</td>\n",
              "      <td>30</td>\n",
              "      <td>96</td>\n",
              "      <td>34.6</td>\n",
              "      <td>0.529</td>\n",
              "      <td>32</td>\n",
              "      <td>1</td>\n",
              "    </tr>\n",
              "  </tbody>\n",
              "</table>\n",
              "</div>\n",
              "    <div class=\"colab-df-buttons\">\n",
              "\n",
              "  <div class=\"colab-df-container\">\n",
              "    <button class=\"colab-df-convert\" onclick=\"convertToInteractive('df-03623976-e31b-4309-880e-32abc02e2b8b')\"\n",
              "            title=\"Convert this dataframe to an interactive table.\"\n",
              "            style=\"display:none;\">\n",
              "\n",
              "  <svg xmlns=\"http://www.w3.org/2000/svg\" height=\"24px\" viewBox=\"0 -960 960 960\">\n",
              "    <path d=\"M120-120v-720h720v720H120Zm60-500h600v-160H180v160Zm220 220h160v-160H400v160Zm0 220h160v-160H400v160ZM180-400h160v-160H180v160Zm440 0h160v-160H620v160ZM180-180h160v-160H180v160Zm440 0h160v-160H620v160Z\"/>\n",
              "  </svg>\n",
              "    </button>\n",
              "\n",
              "  <style>\n",
              "    .colab-df-container {\n",
              "      display:flex;\n",
              "      gap: 12px;\n",
              "    }\n",
              "\n",
              "    .colab-df-convert {\n",
              "      background-color: #E8F0FE;\n",
              "      border: none;\n",
              "      border-radius: 50%;\n",
              "      cursor: pointer;\n",
              "      display: none;\n",
              "      fill: #1967D2;\n",
              "      height: 32px;\n",
              "      padding: 0 0 0 0;\n",
              "      width: 32px;\n",
              "    }\n",
              "\n",
              "    .colab-df-convert:hover {\n",
              "      background-color: #E2EBFA;\n",
              "      box-shadow: 0px 1px 2px rgba(60, 64, 67, 0.3), 0px 1px 3px 1px rgba(60, 64, 67, 0.15);\n",
              "      fill: #174EA6;\n",
              "    }\n",
              "\n",
              "    .colab-df-buttons div {\n",
              "      margin-bottom: 4px;\n",
              "    }\n",
              "\n",
              "    [theme=dark] .colab-df-convert {\n",
              "      background-color: #3B4455;\n",
              "      fill: #D2E3FC;\n",
              "    }\n",
              "\n",
              "    [theme=dark] .colab-df-convert:hover {\n",
              "      background-color: #434B5C;\n",
              "      box-shadow: 0px 1px 3px 1px rgba(0, 0, 0, 0.15);\n",
              "      filter: drop-shadow(0px 1px 2px rgba(0, 0, 0, 0.3));\n",
              "      fill: #FFFFFF;\n",
              "    }\n",
              "  </style>\n",
              "\n",
              "    <script>\n",
              "      const buttonEl =\n",
              "        document.querySelector('#df-03623976-e31b-4309-880e-32abc02e2b8b button.colab-df-convert');\n",
              "      buttonEl.style.display =\n",
              "        google.colab.kernel.accessAllowed ? 'block' : 'none';\n",
              "\n",
              "      async function convertToInteractive(key) {\n",
              "        const element = document.querySelector('#df-03623976-e31b-4309-880e-32abc02e2b8b');\n",
              "        const dataTable =\n",
              "          await google.colab.kernel.invokeFunction('convertToInteractive',\n",
              "                                                    [key], {});\n",
              "        if (!dataTable) return;\n",
              "\n",
              "        const docLinkHtml = 'Like what you see? Visit the ' +\n",
              "          '<a target=\"_blank\" href=https://colab.research.google.com/notebooks/data_table.ipynb>data table notebook</a>'\n",
              "          + ' to learn more about interactive tables.';\n",
              "        element.innerHTML = '';\n",
              "        dataTable['output_type'] = 'display_data';\n",
              "        await google.colab.output.renderOutput(dataTable, element);\n",
              "        const docLink = document.createElement('div');\n",
              "        docLink.innerHTML = docLinkHtml;\n",
              "        element.appendChild(docLink);\n",
              "      }\n",
              "    </script>\n",
              "  </div>\n",
              "\n",
              "\n",
              "<div id=\"df-3ffce6e7-dab6-4ea9-837c-7a93a5557e6d\">\n",
              "  <button class=\"colab-df-quickchart\" onclick=\"quickchart('df-3ffce6e7-dab6-4ea9-837c-7a93a5557e6d')\"\n",
              "            title=\"Suggest charts\"\n",
              "            style=\"display:none;\">\n",
              "\n",
              "<svg xmlns=\"http://www.w3.org/2000/svg\" height=\"24px\"viewBox=\"0 0 24 24\"\n",
              "     width=\"24px\">\n",
              "    <g>\n",
              "        <path d=\"M19 3H5c-1.1 0-2 .9-2 2v14c0 1.1.9 2 2 2h14c1.1 0 2-.9 2-2V5c0-1.1-.9-2-2-2zM9 17H7v-7h2v7zm4 0h-2V7h2v10zm4 0h-2v-4h2v4z\"/>\n",
              "    </g>\n",
              "</svg>\n",
              "  </button>\n",
              "\n",
              "<style>\n",
              "  .colab-df-quickchart {\n",
              "      --bg-color: #E8F0FE;\n",
              "      --fill-color: #1967D2;\n",
              "      --hover-bg-color: #E2EBFA;\n",
              "      --hover-fill-color: #174EA6;\n",
              "      --disabled-fill-color: #AAA;\n",
              "      --disabled-bg-color: #DDD;\n",
              "  }\n",
              "\n",
              "  [theme=dark] .colab-df-quickchart {\n",
              "      --bg-color: #3B4455;\n",
              "      --fill-color: #D2E3FC;\n",
              "      --hover-bg-color: #434B5C;\n",
              "      --hover-fill-color: #FFFFFF;\n",
              "      --disabled-bg-color: #3B4455;\n",
              "      --disabled-fill-color: #666;\n",
              "  }\n",
              "\n",
              "  .colab-df-quickchart {\n",
              "    background-color: var(--bg-color);\n",
              "    border: none;\n",
              "    border-radius: 50%;\n",
              "    cursor: pointer;\n",
              "    display: none;\n",
              "    fill: var(--fill-color);\n",
              "    height: 32px;\n",
              "    padding: 0;\n",
              "    width: 32px;\n",
              "  }\n",
              "\n",
              "  .colab-df-quickchart:hover {\n",
              "    background-color: var(--hover-bg-color);\n",
              "    box-shadow: 0 1px 2px rgba(60, 64, 67, 0.3), 0 1px 3px 1px rgba(60, 64, 67, 0.15);\n",
              "    fill: var(--button-hover-fill-color);\n",
              "  }\n",
              "\n",
              "  .colab-df-quickchart-complete:disabled,\n",
              "  .colab-df-quickchart-complete:disabled:hover {\n",
              "    background-color: var(--disabled-bg-color);\n",
              "    fill: var(--disabled-fill-color);\n",
              "    box-shadow: none;\n",
              "  }\n",
              "\n",
              "  .colab-df-spinner {\n",
              "    border: 2px solid var(--fill-color);\n",
              "    border-color: transparent;\n",
              "    border-bottom-color: var(--fill-color);\n",
              "    animation:\n",
              "      spin 1s steps(1) infinite;\n",
              "  }\n",
              "\n",
              "  @keyframes spin {\n",
              "    0% {\n",
              "      border-color: transparent;\n",
              "      border-bottom-color: var(--fill-color);\n",
              "      border-left-color: var(--fill-color);\n",
              "    }\n",
              "    20% {\n",
              "      border-color: transparent;\n",
              "      border-left-color: var(--fill-color);\n",
              "      border-top-color: var(--fill-color);\n",
              "    }\n",
              "    30% {\n",
              "      border-color: transparent;\n",
              "      border-left-color: var(--fill-color);\n",
              "      border-top-color: var(--fill-color);\n",
              "      border-right-color: var(--fill-color);\n",
              "    }\n",
              "    40% {\n",
              "      border-color: transparent;\n",
              "      border-right-color: var(--fill-color);\n",
              "      border-top-color: var(--fill-color);\n",
              "    }\n",
              "    60% {\n",
              "      border-color: transparent;\n",
              "      border-right-color: var(--fill-color);\n",
              "    }\n",
              "    80% {\n",
              "      border-color: transparent;\n",
              "      border-right-color: var(--fill-color);\n",
              "      border-bottom-color: var(--fill-color);\n",
              "    }\n",
              "    90% {\n",
              "      border-color: transparent;\n",
              "      border-bottom-color: var(--fill-color);\n",
              "    }\n",
              "  }\n",
              "</style>\n",
              "\n",
              "  <script>\n",
              "    async function quickchart(key) {\n",
              "      const quickchartButtonEl =\n",
              "        document.querySelector('#' + key + ' button');\n",
              "      quickchartButtonEl.disabled = true;  // To prevent multiple clicks.\n",
              "      quickchartButtonEl.classList.add('colab-df-spinner');\n",
              "      try {\n",
              "        const charts = await google.colab.kernel.invokeFunction(\n",
              "            'suggestCharts', [key], {});\n",
              "      } catch (error) {\n",
              "        console.error('Error during call to suggestCharts:', error);\n",
              "      }\n",
              "      quickchartButtonEl.classList.remove('colab-df-spinner');\n",
              "      quickchartButtonEl.classList.add('colab-df-quickchart-complete');\n",
              "    }\n",
              "    (() => {\n",
              "      let quickchartButtonEl =\n",
              "        document.querySelector('#df-3ffce6e7-dab6-4ea9-837c-7a93a5557e6d button');\n",
              "      quickchartButtonEl.style.display =\n",
              "        google.colab.kernel.accessAllowed ? 'block' : 'none';\n",
              "    })();\n",
              "  </script>\n",
              "</div>\n",
              "\n",
              "    </div>\n",
              "  </div>\n"
            ],
            "application/vnd.google.colaboratory.intrinsic+json": {
              "type": "dataframe",
              "variable_name": "raw_data",
              "summary": "{\n  \"name\": \"raw_data\",\n  \"rows\": 768,\n  \"fields\": [\n    {\n      \"column\": \"Pregnancies\",\n      \"properties\": {\n        \"dtype\": \"number\",\n        \"std\": 3,\n        \"min\": 0,\n        \"max\": 17,\n        \"num_unique_values\": 17,\n        \"samples\": [\n          6,\n          1,\n          3\n        ],\n        \"semantic_type\": \"\",\n        \"description\": \"\"\n      }\n    },\n    {\n      \"column\": \"Glucose\",\n      \"properties\": {\n        \"dtype\": \"number\",\n        \"std\": 31,\n        \"min\": 0,\n        \"max\": 199,\n        \"num_unique_values\": 136,\n        \"samples\": [\n          151,\n          101,\n          112\n        ],\n        \"semantic_type\": \"\",\n        \"description\": \"\"\n      }\n    },\n    {\n      \"column\": \"BloodPressure\",\n      \"properties\": {\n        \"dtype\": \"number\",\n        \"std\": 19,\n        \"min\": 0,\n        \"max\": 122,\n        \"num_unique_values\": 47,\n        \"samples\": [\n          86,\n          46,\n          85\n        ],\n        \"semantic_type\": \"\",\n        \"description\": \"\"\n      }\n    },\n    {\n      \"column\": \"SkinThickness\",\n      \"properties\": {\n        \"dtype\": \"number\",\n        \"std\": 15,\n        \"min\": 0,\n        \"max\": 99,\n        \"num_unique_values\": 51,\n        \"samples\": [\n          7,\n          12,\n          48\n        ],\n        \"semantic_type\": \"\",\n        \"description\": \"\"\n      }\n    },\n    {\n      \"column\": \"Insulin\",\n      \"properties\": {\n        \"dtype\": \"number\",\n        \"std\": 115,\n        \"min\": 0,\n        \"max\": 846,\n        \"num_unique_values\": 186,\n        \"samples\": [\n          52,\n          41,\n          183\n        ],\n        \"semantic_type\": \"\",\n        \"description\": \"\"\n      }\n    },\n    {\n      \"column\": \"BMI\",\n      \"properties\": {\n        \"dtype\": \"number\",\n        \"std\": 7.8841603203754405,\n        \"min\": 0.0,\n        \"max\": 67.1,\n        \"num_unique_values\": 248,\n        \"samples\": [\n          19.9,\n          31.0,\n          38.1\n        ],\n        \"semantic_type\": \"\",\n        \"description\": \"\"\n      }\n    },\n    {\n      \"column\": \"DiabetesPedigreeFunction\",\n      \"properties\": {\n        \"dtype\": \"number\",\n        \"std\": 0.33132859501277484,\n        \"min\": 0.078,\n        \"max\": 2.42,\n        \"num_unique_values\": 517,\n        \"samples\": [\n          1.731,\n          0.426,\n          0.138\n        ],\n        \"semantic_type\": \"\",\n        \"description\": \"\"\n      }\n    },\n    {\n      \"column\": \"Age\",\n      \"properties\": {\n        \"dtype\": \"number\",\n        \"std\": 11,\n        \"min\": 21,\n        \"max\": 81,\n        \"num_unique_values\": 52,\n        \"samples\": [\n          60,\n          47,\n          72\n        ],\n        \"semantic_type\": \"\",\n        \"description\": \"\"\n      }\n    },\n    {\n      \"column\": \"Outcome\",\n      \"properties\": {\n        \"dtype\": \"number\",\n        \"std\": 0,\n        \"min\": 0,\n        \"max\": 1,\n        \"num_unique_values\": 2,\n        \"samples\": [\n          0,\n          1\n        ],\n        \"semantic_type\": \"\",\n        \"description\": \"\"\n      }\n    }\n  ]\n}"
            }
          },
          "metadata": {},
          "execution_count": 8
        }
      ]
    },
    {
      "cell_type": "markdown",
      "source": [
        "### Выбор метрик и их обоснование\n",
        "\n",
        "c. Выбрать метрики качества и обосновать их выбор\n",
        "\n",
        "Для оценки качества моделей в задаче классификации были выбраны следующие метрики:\n",
        "\n",
        "1. **Accuracy**: Общая доля правильно классифицированных примеров. Выбирается как базовая метрика для оценки, насколько модель хорошо справляется с задачей.  \n",
        "2. **F1-score**: Учитывая несбалансированность классов, эта метрика позволяет учесть как точность (precision), так и полноту (recall), что важно для корректной оценки модели.  \n",
        "3. **Матрица ошибок (Confusion Matrix)**: Для анализа распределения ошибок между классами и выявления тех категорий, которые модель путает."
      ],
      "metadata": {
        "id": "la1cn_8bsgI-"
      }
    },
    {
      "cell_type": "markdown",
      "source": [
        "Напишем функцию для оценки классификационной модели с использованием различных метрик.\n",
        "\n",
        "accuracy_score, f1_score, classification_report из sklearn.metrics используются для вычисления точности, F1-мерки и подробного отчета о классификации, соответственно.\n",
        "\n",
        "Если предсказанные значения (y_pred) или истинные метки (y_test) представлены как вероятности (с типом данных float), они приводятся к бинарному виду с использованием порога 0.5 (значения больше или равные 0.5 преобразуются в 1, остальные — в 0).\n",
        "\n",
        "Для каждой метрики из списка metrics (например, 'accuracy', 'f1', 'classification_report') выполняется соответствующий расчет:\n",
        "**Точность (accuracy)**: вычисляется с помощью accuracy_score.  \n",
        "**F1-мерка (f1)**: вычисляется с помощью f1_score.  \n",
        "**Отчет о классификации (classification_report)**: генерируется с помощью classification_report, который выводит подробную информацию по меткам, включая точность, полноту, F1-мерку и поддержку для каждого класса.\n"
      ],
      "metadata": {
        "id": "lUoJbuB4QG9v"
      }
    },
    {
      "cell_type": "code",
      "source": [
        "from sklearn.metrics import accuracy_score, f1_score, classification_report\n",
        "\n",
        "def print_evaluation(y_test, y_pred, metrics=['accuracy', 'f1', 'classification_report\\n']):\n",
        "    y_test = np.array(y_test)\n",
        "    y_pred = np.array(y_pred)\n",
        "\n",
        "    # Обработка вероятностей\n",
        "    if np.issubdtype(y_pred.dtype, np.floating):\n",
        "        threshold = 0.5\n",
        "        y_pred = (y_pred >= threshold).astype(int)\n",
        "    if np.issubdtype(y_test.dtype, np.floating):\n",
        "        y_test = (y_test >= threshold).astype(int)\n",
        "\n",
        "    # Вычисление метрик и сохранение в словаре\n",
        "    results = {}\n",
        "    for metric in metrics:\n",
        "        if metric == 'accuracy':\n",
        "            results['accuracy'] = accuracy_score(y_test, y_pred)\n",
        "        elif metric == 'f1':\n",
        "            results['f1'] = f1_score(y_test, y_pred)\n",
        "        elif metric == 'classification_report\\n':\n",
        "            results['classification_report'] = classification_report(y_test, y_pred, zero_division=0)\n",
        "\n",
        "    # Вывод результатов\n",
        "    for metric, value in results.items():\n",
        "        print(\"\\n\")\n",
        "        print(f\"{metric.capitalize()}: {value}\\n\")"
      ],
      "metadata": {
        "id": "n0Spnfa-KHvf"
      },
      "execution_count": 9,
      "outputs": []
    },
    {
      "cell_type": "markdown",
      "source": [
        "Напишем функцию для визуализации матрицы ошибок (confusion matrix), которая используется для оценки качества классификации модели.\n",
        "\n",
        "1. Импорт библиотек\n",
        "\n",
        "seaborn и matplotlib.pyplot: библиотеки для визуализации данных. seaborn используется для построения тепловых карт, а matplotlib.pyplot — для создания графиков.  \n",
        "confusion_matrix из sklearn.metrics: функция для вычисления матрицы ошибок.\n",
        "\n",
        "2. Вычисление матрицы ошибок\n",
        "\n",
        "Функция confusion_matrix(y_test, y_pred) вычисляет матрицу ошибок, которая отображает количество правильных и неправильных предсказаний для каждого класса. Результатом будет двумерный массив, где:\n",
        "\n",
        "* Первая строка и первый столбец — это количество правильных и ошибочных классификаций для класса 0.  \n",
        "\n",
        "* Вторая строка и второй столбец — это количество правильных и ошибочных классификаций для класса 1."
      ],
      "metadata": {
        "id": "C_rGoD4uWQ-Y"
      }
    },
    {
      "cell_type": "code",
      "source": [
        "import seaborn as sns\n",
        "import matplotlib.pyplot as plt\n",
        "from sklearn.metrics import confusion_matrix\n",
        "\n",
        "def show_confusion_matrix(y_test, y_pred, labels=[\"Класс 0\", \"Класс 1\"], cmap=\"Blues\", fmt=\".2f\"):\n",
        "    cm = confusion_matrix(y_test, y_pred)\n",
        "\n",
        "    plt.figure(figsize=(8, 6))\n",
        "    sns.heatmap(cm, annot=True, fmt=fmt, cmap=cmap, xticklabels=labels, yticklabels=labels)\n",
        "    plt.xlabel(\"Предсказанная метка\")\n",
        "    plt.ylabel(\"Истинная метка\")\n",
        "    plt.title(\"Матрица ошибок\")\n",
        "    plt.show()"
      ],
      "metadata": {
        "id": "gO20tEv94fax"
      },
      "execution_count": 10,
      "outputs": []
    },
    {
      "cell_type": "markdown",
      "source": [
        "## 2. Создание бейзлайна и оценка качества\n",
        "\n",
        "a. Обучить модели из sklearn для классификации для выбранных наборов данных  \n",
        "b. Оценить качество моделей для классификации по выбранным метрикам на выбранных наборах данных"
      ],
      "metadata": {
        "id": "CNe19lgasp8C"
      }
    },
    {
      "cell_type": "markdown",
      "source": [
        "Выполним разделение данных на обучающую и тестовую выборки для дальнейшего обучения и оценки модели.\n",
        "\n",
        "train_test_split из sklearn.model_selection: функция для разделения данных на обучающую и тестовую выборки.\n",
        "\n",
        "Создается матрица признаков (raw_x), исключая столбец Outcome (целевая переменная) из набора данных. Параметр axis=1 указывает, что удаляется столбец.\n",
        "Целевая переменная (raw_y) извлекается из столбца Outcome.\n",
        "\n",
        "raw_x_train и raw_y_train: обучающие данные (80% от общего числа).  \n",
        "raw_x_test и raw_y_test: тестовые данные (20% от общего числа).\n",
        "\n",
        "test_size=0.2: задает долю тестовой выборки (20%).\n",
        "random_state=42: фиксирует случайность, чтобы разделение данных было воспроизводимым при повторном запуске.\n",
        "\n",
        "По итогу raw_x_train и raw_x_test содержат признаки (независимые переменные) для обучения и тестирования модели.\n",
        "\n",
        "raw_y_train и raw_y_test содержат целевые метки (зависимая переменная Outcome) для обучения и проверки качества модели.\n",
        "\n",
        "\n"
      ],
      "metadata": {
        "id": "wyUONwCTr5jU"
      }
    },
    {
      "cell_type": "code",
      "source": [
        "from sklearn.model_selection import train_test_split\n",
        "\n",
        "raw_x = raw_data.drop('Outcome', axis=1)\n",
        "raw_y = raw_data['Outcome']\n",
        "\n",
        "raw_x_train, raw_x_test, raw_y_train, raw_y_test = train_test_split(raw_x, raw_y, test_size=0.2, random_state=42)"
      ],
      "metadata": {
        "id": "TmbeQUzpuD9C"
      },
      "execution_count": 11,
      "outputs": []
    },
    {
      "cell_type": "markdown",
      "source": [
        "### Обучение моделей\n",
        "#### KNN\n",
        "\n",
        "K-Nearest Neighbors (KNN) или метод k-ближайших соседей — это простой, но мощный алгоритм машинного обучения, используемый для задач классификации и регрессии.\n",
        "\n",
        "Принцип работы:\n",
        "\n",
        "1.   Обучение: KNN — это алгоритм «ленивого обучения», что означает, что он не строит явную модель во время обучения. Вместо этого он просто запоминает все обучающие данные.\n",
        "2.   Предсказание:\n",
        "    * Для нового объекта алгоритм находит k ближайших к нему объектов из обучающей выборки (соседей).\n",
        "    * В задаче классификации новому объекту присваивается класс, который наиболее распространен среди его k соседей (голосовании большинством).\n",
        "\n"
      ],
      "metadata": {
        "id": "3qONjSchuNLo"
      }
    },
    {
      "cell_type": "markdown",
      "source": [
        "Реализуем классификацию с использованием алгоритма k-ближайших соседей (k-NN) и оценивает качество модели.\n",
        "\n",
        "train_test_split: для разделения данных (уже использовалось ранее).\n",
        "KNeighborsClassifier: для создания и обучения модели KNN.\n",
        "numpy: для работы с массивами данных.\n",
        "\n",
        "Создается объект классификатора KNN с числом соседей n_neighbors=7.\n",
        "\n",
        "Модель обучается на обучающей выборке (raw_x_train и raw_y_train).\n",
        "\n",
        "Модель предсказывает метки для тестовой выборки (raw_x_test).\n",
        "\n"
      ],
      "metadata": {
        "id": "4LzInGh58JdL"
      }
    },
    {
      "cell_type": "code",
      "source": [
        "from sklearn.neighbors import KNeighborsClassifier\n",
        "import numpy as np\n",
        "\n",
        "modelKNN = KNeighborsClassifier(n_neighbors=7)\n",
        "modelKNN.fit(raw_x_train,raw_y_train)\n",
        "\n",
        "raw_y_pred = modelKNN.predict(raw_x_test)\n",
        "print_evaluation(raw_y_test, raw_y_pred)"
      ],
      "metadata": {
        "colab": {
          "base_uri": "https://localhost:8080/"
        },
        "id": "MIVZ9vBbKM1C",
        "outputId": "4adc2529-251b-4742-b093-fc5274e2293e"
      },
      "execution_count": 30,
      "outputs": [
        {
          "output_type": "stream",
          "name": "stdout",
          "text": [
            "\n",
            "\n",
            "Accuracy: 0.6883116883116883\n",
            "\n",
            "\n",
            "\n",
            "F1: 0.5862068965517241\n",
            "\n",
            "\n",
            "\n",
            "Classification_report:               precision    recall  f1-score   support\n",
            "\n",
            "           0       0.77      0.73      0.75        99\n",
            "           1       0.56      0.62      0.59        55\n",
            "\n",
            "    accuracy                           0.69       154\n",
            "   macro avg       0.67      0.67      0.67       154\n",
            "weighted avg       0.70      0.69      0.69       154\n",
            "\n",
            "\n"
          ]
        }
      ]
    },
    {
      "cell_type": "markdown",
      "source": [
        "Выведем матрицу ошибок для KNN"
      ],
      "metadata": {
        "id": "5p835tu78wF5"
      }
    },
    {
      "cell_type": "code",
      "source": [
        "show_confusion_matrix(raw_y_test, raw_y_pred)"
      ],
      "metadata": {
        "colab": {
          "base_uri": "https://localhost:8080/",
          "height": 564
        },
        "id": "TwwK73L3RCti",
        "outputId": "8f74a632-4438-470e-f937-28886f6adb02"
      },
      "execution_count": 31,
      "outputs": [
        {
          "output_type": "display_data",
          "data": {
            "text/plain": [
              "<Figure size 800x600 with 2 Axes>"
            ],
            "image/png": "[encoded data removed]"
          },
          "metadata": {}
        }
      ]
    },
    {
      "cell_type": "markdown",
      "source": [
        "#### Логистическая регрессия\n",
        "\n",
        "Логистическая регрессия — это статистический метод, используемый для прогнозирования вероятности принадлежности объекта к определенному классу. Это один из самых популярных алгоритмов машинного обучения для задач бинарной классификации, где нужно разделить объекты на два класса (например, \"спам\" или \"не спам\", \"болен\" или \"здоров\")."
      ],
      "metadata": {
        "id": "zRRJkh8buje-"
      }
    },
    {
      "cell_type": "markdown",
      "source": [
        "1. Импорт моделей:\n",
        "    * LogisticRegression: реализация логистической регрессии для задач классификации.\n",
        "    * LinearRegression: реализация линейной регрессии для задач регрессии.\n",
        "2. Импорт метрики:\n",
        "    * mean_squared_error: MSE (Mean Squared Error, среднеквадратичная ошибка) — это метрика, которая измеряет среднее квадратичное отклонение предсказанных значений от истинных значений. MSE показывает, насколько точно модель предсказывает значения целевой переменной. Чем меньше значение MSE, тем точнее модель.\n",
        "\n",
        " Сначала создается объект логистической регрессии с фиксированным значением random_state=42 для воспроизводимости и параметром max_iter=100000, который задает максимальное количество итераций для сходимости алгоритма. Затем модель обучается на обучающих данных с помощью метода fit, принимающего на вход обучающие признаки и метки (raw_x_train и raw_y_train). После этого модель предсказывает метки для тестовой выборки с использованием метода predict. Для оценки качества предсказаний вычисляется среднеквадратичная ошибка (MSE) между истинными и предсказанными метками, а также используются другие метрики классификации, такие как точность и F1-метрика, которые выводятся с помощью ранее определенной функции print_evaluation.\n"
      ],
      "metadata": {
        "id": "LeP1BbGt-XLI"
      }
    },
    {
      "cell_type": "code",
      "source": [
        "from sklearn.linear_model import LogisticRegression, LinearRegression\n",
        "from sklearn.metrics import mean_squared_error\n",
        "\n",
        "modelLogisticRegression = LogisticRegression(random_state=42, max_iter=100000)\n",
        "modelLogisticRegression.fit(raw_x_train,raw_y_train)\n",
        "\n",
        "raw_y_pred2 = modelLogisticRegression.predict(raw_x_test)\n",
        "print(\"MSE score:\", mean_squared_error(raw_y_test, raw_y_pred2))\n",
        "print_evaluation(raw_y_test, raw_y_pred2)"
      ],
      "metadata": {
        "colab": {
          "base_uri": "https://localhost:8080/"
        },
        "id": "exAYmH-xRSis",
        "outputId": "0ab6765b-1029-4bba-fe7e-8c17867e5440"
      },
      "execution_count": 32,
      "outputs": [
        {
          "output_type": "stream",
          "name": "stdout",
          "text": [
            "MSE score: 0.2532467532467532\n",
            "\n",
            "\n",
            "Accuracy: 0.7467532467532467\n",
            "\n",
            "\n",
            "\n",
            "F1: 0.6548672566371682\n",
            "\n",
            "\n",
            "\n",
            "Classification_report:               precision    recall  f1-score   support\n",
            "\n",
            "           0       0.81      0.79      0.80        99\n",
            "           1       0.64      0.67      0.65        55\n",
            "\n",
            "    accuracy                           0.75       154\n",
            "   macro avg       0.73      0.73      0.73       154\n",
            "weighted avg       0.75      0.75      0.75       154\n",
            "\n",
            "\n"
          ]
        }
      ]
    },
    {
      "cell_type": "markdown",
      "source": [
        "Выведем матрицу ошибок для логистической регрессии"
      ],
      "metadata": {
        "id": "HIPHfpaM_0wk"
      }
    },
    {
      "cell_type": "code",
      "source": [
        "show_confusion_matrix(raw_y_test, raw_y_pred2)"
      ],
      "metadata": {
        "colab": {
          "base_uri": "https://localhost:8080/",
          "height": 564
        },
        "id": "UtCvbhDa_54a",
        "outputId": "ae6854ab-0c6f-495e-b710-eb8732606d72"
      },
      "execution_count": 33,
      "outputs": [
        {
          "output_type": "display_data",
          "data": {
            "text/plain": [
              "<Figure size 800x600 with 2 Axes>"
            ],
            "image/png": "[encoded data removed]"
          },
          "metadata": {}
        }
      ]
    },
    {
      "cell_type": "markdown",
      "source": [
        "#### Линейная регрессия\n",
        "\n",
        "Линейная регрессия - это один из самых простых и широко используемых алгоритмов машинного обучения для решения задач регрессии. Цель регрессии - предсказать значение непрерывной целевой переменной на основе значений одной или нескольких входных переменных (признаков)."
      ],
      "metadata": {
        "id": "ZP2FX9a6un22"
      }
    },
    {
      "cell_type": "markdown",
      "source": [
        "Сначала создается объект линейной регрессии с помощью класса LinearRegression. Затем модель обучается на обучающих данных, переданных в метод fit, где raw_x_train — обучающие признаки, а raw_y_train — соответствующие метки. После обучения модель предсказывает значения для тестовой выборки с помощью метода predict, используя тестовые признаки raw_x_test. Для оценки качества предсказаний вычисляется среднеквадратичная ошибка (MSE) между истинными значениями меток raw_y_test и предсказанными значениями raw_y_pred3. Также вызывается функция print_evaluation для вывода дополнительных метрик классификации, таких как точность и F1-метрика"
      ],
      "metadata": {
        "id": "daj79qpOAiiO"
      }
    },
    {
      "cell_type": "code",
      "source": [
        "modelLinearRegression = LinearRegression()\n",
        "modelLinearRegression.fit(raw_x_train,raw_y_train)\n",
        "\n",
        "raw_y_pred3 = modelLinearRegression.predict(raw_x_test)\n",
        "print(\"MSE score:\", mean_squared_error(raw_y_test, raw_y_pred3))\n",
        "print_evaluation(raw_y_test, raw_y_pred3)"
      ],
      "metadata": {
        "colab": {
          "base_uri": "https://localhost:8080/"
        },
        "id": "7oFq1f_DRzLO",
        "outputId": "7f5c2977-afd1-4cb5-cd1f-625751179a31"
      },
      "execution_count": 34,
      "outputs": [
        {
          "output_type": "stream",
          "name": "stdout",
          "text": [
            "MSE score: 0.17104527280850104\n",
            "\n",
            "\n",
            "Accuracy: 0.7597402597402597\n",
            "\n",
            "\n",
            "\n",
            "F1: 0.6666666666666666\n",
            "\n",
            "\n",
            "\n",
            "Classification_report:               precision    recall  f1-score   support\n",
            "\n",
            "           0       0.82      0.81      0.81        99\n",
            "           1       0.66      0.67      0.67        55\n",
            "\n",
            "    accuracy                           0.76       154\n",
            "   macro avg       0.74      0.74      0.74       154\n",
            "weighted avg       0.76      0.76      0.76       154\n",
            "\n",
            "\n"
          ]
        }
      ]
    },
    {
      "cell_type": "markdown",
      "source": [
        "#### Решающее дерево\n",
        "\n",
        "Решающее дерево (Decision Tree) — это алгоритм машинного обучения, используемый для задач классификации и регрессии. Он представляет собой древовидную структуру, где каждый узел представляет собой вопрос о данных, каждая ветвь — ответ на этот вопрос, а каждый лист — предсказание (класс или значение)."
      ],
      "metadata": {
        "id": "KYahP8yDutx_"
      }
    },
    {
      "cell_type": "markdown",
      "source": [
        "Сначала создается объект класса DecisionTreeClassifier с фиксированным значением random_state=42 для обеспечения воспроизводимости результатов. Затем модель обучается на обучающих данных с помощью метода fit, где raw_x_train представляет обучающие признаки, а raw_y_train — соответствующие метки. После обучения модель предсказывает метки для тестовой выборки с использованием метода predict и тестовых данных raw_x_test. Для оценки качества предсказаний вызывается функция print_evaluation, которая вычисляет и выводит ключевые метрики классификации, такие как точность, F1-метрика и отчет классификации."
      ],
      "metadata": {
        "id": "1XrBsp-VBO7U"
      }
    },
    {
      "cell_type": "code",
      "source": [
        "from sklearn.tree import DecisionTreeClassifier\n",
        "\n",
        "modelDecisionTree = DecisionTreeClassifier(random_state=42)\n",
        "modelDecisionTree.fit(raw_x_train, raw_y_train)\n",
        "\n",
        "raw_y_pred4 = modelDecisionTree.predict(raw_x_test)\n",
        "print_evaluation(raw_y_test, raw_y_pred4)"
      ],
      "metadata": {
        "colab": {
          "base_uri": "https://localhost:8080/"
        },
        "id": "QBVNfg54R6En",
        "outputId": "d2a5c63b-d300-4a0f-c892-f9e9e023d17f"
      },
      "execution_count": 35,
      "outputs": [
        {
          "output_type": "stream",
          "name": "stdout",
          "text": [
            "\n",
            "\n",
            "Accuracy: 0.7467532467532467\n",
            "\n",
            "\n",
            "\n",
            "F1: 0.6722689075630253\n",
            "\n",
            "\n",
            "\n",
            "Classification_report:               precision    recall  f1-score   support\n",
            "\n",
            "           0       0.83      0.76      0.79        99\n",
            "           1       0.62      0.73      0.67        55\n",
            "\n",
            "    accuracy                           0.75       154\n",
            "   macro avg       0.73      0.74      0.73       154\n",
            "weighted avg       0.76      0.75      0.75       154\n",
            "\n",
            "\n"
          ]
        }
      ]
    },
    {
      "cell_type": "markdown",
      "source": [
        "Выведем матрицу ошибок для решающего дерева"
      ],
      "metadata": {
        "id": "Tc-Deh6iBV7V"
      }
    },
    {
      "cell_type": "code",
      "source": [
        "show_confusion_matrix(raw_y_test, raw_y_pred4)"
      ],
      "metadata": {
        "colab": {
          "base_uri": "https://localhost:8080/",
          "height": 564
        },
        "id": "Nl9ZJXWNR-EI",
        "outputId": "2a2b7f0e-548d-4399-c1b1-b9bd94342646"
      },
      "execution_count": 36,
      "outputs": [
        {
          "output_type": "display_data",
          "data": {
            "text/plain": [
              "<Figure size 800x600 with 2 Axes>"
            ],
            "image/png": "[encoded data removed]"
          },
          "metadata": {}
        }
      ]
    },
    {
      "cell_type": "markdown",
      "source": [
        "#### Случайный лес\n",
        "\n",
        "Случайный лес (Random Forest) — это мощный алгоритм машинного обучения, используемый для задач классификации и регрессии. Он относится к методам ансамблевого обучения, что означает, что он объединяет предсказания нескольких базовых моделей для получения более точного и стабильного результата."
      ],
      "metadata": {
        "id": "fDEgsyz2u3xd"
      }
    },
    {
      "cell_type": "markdown",
      "source": [
        "Сначала создается объект класса RandomForestClassifier с параметром n_estimators=100, задающим количество деревьев в лесу, и фиксированным значением random_state=42 для воспроизводимости результатов. Затем модель обучается на обучающих данных с использованием метода fit, где raw_x_train — это обучающие признаки, а raw_y_train — соответствующие метки. После обучения модель предсказывает метки для тестовой выборки с помощью метода predict и тестовых данных raw_x_test. Для оценки качества предсказаний вызывается функция print_evaluation, которая рассчитывает и выводит ключевые метрики классификации, такие как точность, F1-метрика и отчет классификации."
      ],
      "metadata": {
        "id": "YWGJMf5PBxXp"
      }
    },
    {
      "cell_type": "code",
      "source": [
        "from sklearn.ensemble import RandomForestClassifier\n",
        "\n",
        "modelRandomForest = RandomForestClassifier(n_estimators=100, random_state=42)\n",
        "modelRandomForest.fit(raw_x_train, raw_y_train)\n",
        "\n",
        "raw_y_pred5 = modelRandomForest.predict(raw_x_test)\n",
        "print_evaluation(raw_y_test, raw_y_pred5)"
      ],
      "metadata": {
        "colab": {
          "base_uri": "https://localhost:8080/"
        },
        "id": "vP4Y2VM9SFUt",
        "outputId": "c01fc3e0-dbf8-4e4f-9ac2-9723dcba5296"
      },
      "execution_count": 37,
      "outputs": [
        {
          "output_type": "stream",
          "name": "stdout",
          "text": [
            "\n",
            "\n",
            "Accuracy: 0.7207792207792207\n",
            "\n",
            "\n",
            "\n",
            "F1: 0.6126126126126126\n",
            "\n",
            "\n",
            "\n",
            "Classification_report:               precision    recall  f1-score   support\n",
            "\n",
            "           0       0.79      0.78      0.78        99\n",
            "           1       0.61      0.62      0.61        55\n",
            "\n",
            "    accuracy                           0.72       154\n",
            "   macro avg       0.70      0.70      0.70       154\n",
            "weighted avg       0.72      0.72      0.72       154\n",
            "\n",
            "\n"
          ]
        }
      ]
    },
    {
      "cell_type": "markdown",
      "source": [
        "Выведем матрицу ошибок для случайного леса"
      ],
      "metadata": {
        "id": "J0OizpQsB0-l"
      }
    },
    {
      "cell_type": "code",
      "source": [
        "show_confusion_matrix(raw_y_test, raw_y_pred5)"
      ],
      "metadata": {
        "colab": {
          "base_uri": "https://localhost:8080/",
          "height": 564
        },
        "id": "VIDXbuztSVh9",
        "outputId": "8e296eb4-c199-4769-9a42-ee5fdc16f1ff"
      },
      "execution_count": 38,
      "outputs": [
        {
          "output_type": "display_data",
          "data": {
            "text/plain": [
              "<Figure size 800x600 with 2 Axes>"
            ],
            "image/png": "[encoded data removed]"
          },
          "metadata": {}
        }
      ]
    },
    {
      "cell_type": "markdown",
      "source": [
        "#### Градиентный бустинг\n",
        "\n",
        "Градиентный бустинг (Gradient Boosting) — это мощный алгоритм машинного обучения, используемый для задач классификации и регрессии. Как и случайный лес, он относится к методам ансамблевого обучения, но отличается способом построения ансамбля."
      ],
      "metadata": {
        "id": "jM9w-gdHu-gr"
      }
    },
    {
      "cell_type": "markdown",
      "source": [
        "Сначала создается объект класса GradientBoostingClassifier с параметрами n_estimators=100, задающим количество деревьев в ансамбле, и learning_rate=0.1, определяющим скорость обучения модели. Также используется параметр random_state=42 для обеспечения воспроизводимости результатов. Затем модель обучается на обучающих данных с помощью метода fit, где raw_x_train — это обучающие признаки, а raw_y_train — соответствующие метки. После обучения модель предсказывает метки для тестовой выборки с использованием метода predict и тестовых данных raw_x_test. Для оценки качества предсказаний вызывается функция print_evaluation, которая вычисляет и выводит основные метрики классификации, такие как точность, F1-метрика и отчет классификации."
      ],
      "metadata": {
        "id": "Ay2Ua8DICNMt"
      }
    },
    {
      "cell_type": "code",
      "source": [
        "from sklearn.ensemble import GradientBoostingClassifier\n",
        "\n",
        "modelGradientBoosting = GradientBoostingClassifier(n_estimators=100, learning_rate=0.1, random_state=42)\n",
        "modelGradientBoosting.fit(raw_x_train, raw_y_train)\n",
        "\n",
        "raw_y_pred6 = modelGradientBoosting.predict(raw_x_test)\n",
        "print_evaluation(raw_y_test, raw_y_pred6)"
      ],
      "metadata": {
        "colab": {
          "base_uri": "https://localhost:8080/"
        },
        "id": "JsqonrrGSbM_",
        "outputId": "00416362-f54b-4ed7-a841-5983f32ab0ef"
      },
      "execution_count": 39,
      "outputs": [
        {
          "output_type": "stream",
          "name": "stdout",
          "text": [
            "\n",
            "\n",
            "Accuracy: 0.7402597402597403\n",
            "\n",
            "\n",
            "\n",
            "F1: 0.6491228070175439\n",
            "\n",
            "\n",
            "\n",
            "Classification_report:               precision    recall  f1-score   support\n",
            "\n",
            "           0       0.81      0.78      0.79        99\n",
            "           1       0.63      0.67      0.65        55\n",
            "\n",
            "    accuracy                           0.74       154\n",
            "   macro avg       0.72      0.73      0.72       154\n",
            "weighted avg       0.75      0.74      0.74       154\n",
            "\n",
            "\n"
          ]
        }
      ]
    },
    {
      "cell_type": "markdown",
      "source": [
        "Выведем матрицу ошибок для градиентного бустинга"
      ],
      "metadata": {
        "id": "KfmevJQlCPNS"
      }
    },
    {
      "cell_type": "code",
      "source": [
        "show_confusion_matrix(raw_y_test, raw_y_pred6)"
      ],
      "metadata": {
        "colab": {
          "base_uri": "https://localhost:8080/",
          "height": 564
        },
        "id": "7PjXzZFZSipB",
        "outputId": "5963304d-bb36-4d7f-96e5-fc43456da9ee"
      },
      "execution_count": 40,
      "outputs": [
        {
          "output_type": "display_data",
          "data": {
            "text/plain": [
              "<Figure size 800x600 with 2 Axes>"
            ],
            "image/png": "[encoded data removed]"
          },
          "metadata": {}
        }
      ]
    },
    {
      "cell_type": "markdown",
      "source": [
        "## 3. Улучшение бейзлайна\n",
        "\n",
        "a.\tСформулировать гипотезы (препроцессинг данных, визуализация данных, формирование новых признаков, подбор гиперпараметров на кросс-валидации и т.д.)  \n",
        "b.\tПроверить гипотезы  \n",
        "c.\tСформировать улучшенный бейзлайн по результатам проверки гипотез  \n",
        "d.\tОбучить модели с улучшенным бейзлайном (для классификации и регрессии) для выбранных наборов данных  \n",
        "e.\tОценить качество моделей с улучшенным бейзлайном (для классификации и регрессии) по выбранным метрикам на выбранных наборах данных  \n",
        "f.\tСравнить результаты моделей с улучшенным бейзлайном в сравнении с результатами из пункта 2   \n",
        "g.\tСделать выводы"
      ],
      "metadata": {
        "id": "XxXjlLsKvEkH"
      }
    },
    {
      "cell_type": "markdown",
      "source": [
        "#### Пункты a-c\n",
        "\n",
        "Выполним препроцессинг данных, визуализируем некоторую информацию и исследуем датасет"
      ],
      "metadata": {
        "id": "gAqyBpu8DGnM"
      }
    },
    {
      "cell_type": "code",
      "source": [
        "df = pd.read_csv('/content/data/diabetes.csv')\n",
        "df.head(10)"
      ],
      "metadata": {
        "colab": {
          "base_uri": "https://localhost:8080/",
          "height": 383
        },
        "id": "A0PM-JJ_SnHw",
        "outputId": "4de55761-60d3-483f-de81-46ac9dab78ca"
      },
      "execution_count": 41,
      "outputs": [
        {
          "output_type": "execute_result",
          "data": {
            "text/plain": [
              "   Pregnancies  Glucose  BloodPressure  SkinThickness  Insulin   BMI  \\\n",
              "0            6      148             72             35        0  33.6   \n",
              "1            1       85             66             29        0  26.6   \n",
              "2            8      183             64              0        0  23.3   \n",
              "3            1       89             66             23       94  28.1   \n",
              "4            0      137             40             35      168  43.1   \n",
              "5            5      116             74              0        0  25.6   \n",
              "6            3       78             50             32       88  31.0   \n",
              "7           10      115              0              0        0  35.3   \n",
              "8            2      197             70             45      543  30.5   \n",
              "9            8      125             96              0        0   0.0   \n",
              "\n",
              "   DiabetesPedigreeFunction  Age  Outcome  \n",
              "0                     0.627   50        1  \n",
              "1                     0.351   31        0  \n",
              "2                     0.672   32        1  \n",
              "3                     0.167   21        0  \n",
              "4                     2.288   33        1  \n",
              "5                     0.201   30        0  \n",
              "6                     0.248   26        1  \n",
              "7                     0.134   29        0  \n",
              "8                     0.158   53        1  \n",
              "9                     0.232   54        1  "
            ],
            "text/html": [
              "\n",
              "  <div id=\"df-24856438-f9b3-4099-8a8d-0476bdaa1f88\" class=\"colab-df-container\">\n",
              "    <div>\n",
              "<style scoped>\n",
              "    .dataframe tbody tr th:only-of-type {\n",
              "        vertical-align: middle;\n",
              "    }\n",
              "\n",
              "    .dataframe tbody tr th {\n",
              "        vertical-align: top;\n",
              "    }\n",
              "\n",
              "    .dataframe thead th {\n",
              "        text-align: right;\n",
              "    }\n",
              "</style>\n",
              "<table border=\"1\" class=\"dataframe\">\n",
              "  <thead>\n",
              "    <tr style=\"text-align: right;\">\n",
              "      <th></th>\n",
              "      <th>Pregnancies</th>\n",
              "      <th>Glucose</th>\n",
              "      <th>BloodPressure</th>\n",
              "      <th>SkinThickness</th>\n",
              "      <th>Insulin</th>\n",
              "      <th>BMI</th>\n",
              "      <th>DiabetesPedigreeFunction</th>\n",
              "      <th>Age</th>\n",
              "      <th>Outcome</th>\n",
              "    </tr>\n",
              "  </thead>\n",
              "  <tbody>\n",
              "    <tr>\n",
              "      <th>0</th>\n",
              "      <td>6</td>\n",
              "      <td>148</td>\n",
              "      <td>72</td>\n",
              "      <td>35</td>\n",
              "      <td>0</td>\n",
              "      <td>33.6</td>\n",
              "      <td>0.627</td>\n",
              "      <td>50</td>\n",
              "      <td>1</td>\n",
              "    </tr>\n",
              "    <tr>\n",
              "      <th>1</th>\n",
              "      <td>1</td>\n",
              "      <td>85</td>\n",
              "      <td>66</td>\n",
              "      <td>29</td>\n",
              "      <td>0</td>\n",
              "      <td>26.6</td>\n",
              "      <td>0.351</td>\n",
              "      <td>31</td>\n",
              "      <td>0</td>\n",
              "    </tr>\n",
              "    <tr>\n",
              "      <th>2</th>\n",
              "      <td>8</td>\n",
              "      <td>183</td>\n",
              "      <td>64</td>\n",
              "      <td>0</td>\n",
              "      <td>0</td>\n",
              "      <td>23.3</td>\n",
              "      <td>0.672</td>\n",
              "      <td>32</td>\n",
              "      <td>1</td>\n",
              "    </tr>\n",
              "    <tr>\n",
              "      <th>3</th>\n",
              "      <td>1</td>\n",
              "      <td>89</td>\n",
              "      <td>66</td>\n",
              "      <td>23</td>\n",
              "      <td>94</td>\n",
              "      <td>28.1</td>\n",
              "      <td>0.167</td>\n",
              "      <td>21</td>\n",
              "      <td>0</td>\n",
              "    </tr>\n",
              "    <tr>\n",
              "      <th>4</th>\n",
              "      <td>0</td>\n",
              "      <td>137</td>\n",
              "      <td>40</td>\n",
              "      <td>35</td>\n",
              "      <td>168</td>\n",
              "      <td>43.1</td>\n",
              "      <td>2.288</td>\n",
              "      <td>33</td>\n",
              "      <td>1</td>\n",
              "    </tr>\n",
              "    <tr>\n",
              "      <th>5</th>\n",
              "      <td>5</td>\n",
              "      <td>116</td>\n",
              "      <td>74</td>\n",
              "      <td>0</td>\n",
              "      <td>0</td>\n",
              "      <td>25.6</td>\n",
              "      <td>0.201</td>\n",
              "      <td>30</td>\n",
              "      <td>0</td>\n",
              "    </tr>\n",
              "    <tr>\n",
              "      <th>6</th>\n",
              "      <td>3</td>\n",
              "      <td>78</td>\n",
              "      <td>50</td>\n",
              "      <td>32</td>\n",
              "      <td>88</td>\n",
              "      <td>31.0</td>\n",
              "      <td>0.248</td>\n",
              "      <td>26</td>\n",
              "      <td>1</td>\n",
              "    </tr>\n",
              "    <tr>\n",
              "      <th>7</th>\n",
              "      <td>10</td>\n",
              "      <td>115</td>\n",
              "      <td>0</td>\n",
              "      <td>0</td>\n",
              "      <td>0</td>\n",
              "      <td>35.3</td>\n",
              "      <td>0.134</td>\n",
              "      <td>29</td>\n",
              "      <td>0</td>\n",
              "    </tr>\n",
              "    <tr>\n",
              "      <th>8</th>\n",
              "      <td>2</td>\n",
              "      <td>197</td>\n",
              "      <td>70</td>\n",
              "      <td>45</td>\n",
              "      <td>543</td>\n",
              "      <td>30.5</td>\n",
              "      <td>0.158</td>\n",
              "      <td>53</td>\n",
              "      <td>1</td>\n",
              "    </tr>\n",
              "    <tr>\n",
              "      <th>9</th>\n",
              "      <td>8</td>\n",
              "      <td>125</td>\n",
              "      <td>96</td>\n",
              "      <td>0</td>\n",
              "      <td>0</td>\n",
              "      <td>0.0</td>\n",
              "      <td>0.232</td>\n",
              "      <td>54</td>\n",
              "      <td>1</td>\n",
              "    </tr>\n",
              "  </tbody>\n",
              "</table>\n",
              "</div>\n",
              "    <div class=\"colab-df-buttons\">\n",
              "\n",
              "  <div class=\"colab-df-container\">\n",
              "    <button class=\"colab-df-convert\" onclick=\"convertToInteractive('df-24856438-f9b3-4099-8a8d-0476bdaa1f88')\"\n",
              "            title=\"Convert this dataframe to an interactive table.\"\n",
              "            style=\"display:none;\">\n",
              "\n",
              "  <svg xmlns=\"http://www.w3.org/2000/svg\" height=\"24px\" viewBox=\"0 -960 960 960\">\n",
              "    <path d=\"M120-120v-720h720v720H120Zm60-500h600v-160H180v160Zm220 220h160v-160H400v160Zm0 220h160v-160H400v160ZM180-400h160v-160H180v160Zm440 0h160v-160H620v160ZM180-180h160v-160H180v160Zm440 0h160v-160H620v160Z\"/>\n",
              "  </svg>\n",
              "    </button>\n",
              "\n",
              "  <style>\n",
              "    .colab-df-container {\n",
              "      display:flex;\n",
              "      gap: 12px;\n",
              "    }\n",
              "\n",
              "    .colab-df-convert {\n",
              "      background-color: #E8F0FE;\n",
              "      border: none;\n",
              "      border-radius: 50%;\n",
              "      cursor: pointer;\n",
              "      display: none;\n",
              "      fill: #1967D2;\n",
              "      height: 32px;\n",
              "      padding: 0 0 0 0;\n",
              "      width: 32px;\n",
              "    }\n",
              "\n",
              "    .colab-df-convert:hover {\n",
              "      background-color: #E2EBFA;\n",
              "      box-shadow: 0px 1px 2px rgba(60, 64, 67, 0.3), 0px 1px 3px 1px rgba(60, 64, 67, 0.15);\n",
              "      fill: #174EA6;\n",
              "    }\n",
              "\n",
              "    .colab-df-buttons div {\n",
              "      margin-bottom: 4px;\n",
              "    }\n",
              "\n",
              "    [theme=dark] .colab-df-convert {\n",
              "      background-color: #3B4455;\n",
              "      fill: #D2E3FC;\n",
              "    }\n",
              "\n",
              "    [theme=dark] .colab-df-convert:hover {\n",
              "      background-color: #434B5C;\n",
              "      box-shadow: 0px 1px 3px 1px rgba(0, 0, 0, 0.15);\n",
              "      filter: drop-shadow(0px 1px 2px rgba(0, 0, 0, 0.3));\n",
              "      fill: #FFFFFF;\n",
              "    }\n",
              "  </style>\n",
              "\n",
              "    <script>\n",
              "      const buttonEl =\n",
              "        document.querySelector('#df-24856438-f9b3-4099-8a8d-0476bdaa1f88 button.colab-df-convert');\n",
              "      buttonEl.style.display =\n",
              "        google.colab.kernel.accessAllowed ? 'block' : 'none';\n",
              "\n",
              "      async function convertToInteractive(key) {\n",
              "        const element = document.querySelector('#df-24856438-f9b3-4099-8a8d-0476bdaa1f88');\n",
              "        const dataTable =\n",
              "          await google.colab.kernel.invokeFunction('convertToInteractive',\n",
              "                                                    [key], {});\n",
              "        if (!dataTable) return;\n",
              "\n",
              "        const docLinkHtml = 'Like what you see? Visit the ' +\n",
              "          '<a target=\"_blank\" href=https://colab.research.google.com/notebooks/data_table.ipynb>data table notebook</a>'\n",
              "          + ' to learn more about interactive tables.';\n",
              "        element.innerHTML = '';\n",
              "        dataTable['output_type'] = 'display_data';\n",
              "        await google.colab.output.renderOutput(dataTable, element);\n",
              "        const docLink = document.createElement('div');\n",
              "        docLink.innerHTML = docLinkHtml;\n",
              "        element.appendChild(docLink);\n",
              "      }\n",
              "    </script>\n",
              "  </div>\n",
              "\n",
              "\n",
              "<div id=\"df-86c51a6d-506c-4aad-8096-c585edec0255\">\n",
              "  <button class=\"colab-df-quickchart\" onclick=\"quickchart('df-86c51a6d-506c-4aad-8096-c585edec0255')\"\n",
              "            title=\"Suggest charts\"\n",
              "            style=\"display:none;\">\n",
              "\n",
              "<svg xmlns=\"http://www.w3.org/2000/svg\" height=\"24px\"viewBox=\"0 0 24 24\"\n",
              "     width=\"24px\">\n",
              "    <g>\n",
              "        <path d=\"M19 3H5c-1.1 0-2 .9-2 2v14c0 1.1.9 2 2 2h14c1.1 0 2-.9 2-2V5c0-1.1-.9-2-2-2zM9 17H7v-7h2v7zm4 0h-2V7h2v10zm4 0h-2v-4h2v4z\"/>\n",
              "    </g>\n",
              "</svg>\n",
              "  </button>\n",
              "\n",
              "<style>\n",
              "  .colab-df-quickchart {\n",
              "      --bg-color: #E8F0FE;\n",
              "      --fill-color: #1967D2;\n",
              "      --hover-bg-color: #E2EBFA;\n",
              "      --hover-fill-color: #174EA6;\n",
              "      --disabled-fill-color: #AAA;\n",
              "      --disabled-bg-color: #DDD;\n",
              "  }\n",
              "\n",
              "  [theme=dark] .colab-df-quickchart {\n",
              "      --bg-color: #3B4455;\n",
              "      --fill-color: #D2E3FC;\n",
              "      --hover-bg-color: #434B5C;\n",
              "      --hover-fill-color: #FFFFFF;\n",
              "      --disabled-bg-color: #3B4455;\n",
              "      --disabled-fill-color: #666;\n",
              "  }\n",
              "\n",
              "  .colab-df-quickchart {\n",
              "    background-color: var(--bg-color);\n",
              "    border: none;\n",
              "    border-radius: 50%;\n",
              "    cursor: pointer;\n",
              "    display: none;\n",
              "    fill: var(--fill-color);\n",
              "    height: 32px;\n",
              "    padding: 0;\n",
              "    width: 32px;\n",
              "  }\n",
              "\n",
              "  .colab-df-quickchart:hover {\n",
              "    background-color: var(--hover-bg-color);\n",
              "    box-shadow: 0 1px 2px rgba(60, 64, 67, 0.3), 0 1px 3px 1px rgba(60, 64, 67, 0.15);\n",
              "    fill: var(--button-hover-fill-color);\n",
              "  }\n",
              "\n",
              "  .colab-df-quickchart-complete:disabled,\n",
              "  .colab-df-quickchart-complete:disabled:hover {\n",
              "    background-color: var(--disabled-bg-color);\n",
              "    fill: var(--disabled-fill-color);\n",
              "    box-shadow: none;\n",
              "  }\n",
              "\n",
              "  .colab-df-spinner {\n",
              "    border: 2px solid var(--fill-color);\n",
              "    border-color: transparent;\n",
              "    border-bottom-color: var(--fill-color);\n",
              "    animation:\n",
              "      spin 1s steps(1) infinite;\n",
              "  }\n",
              "\n",
              "  @keyframes spin {\n",
              "    0% {\n",
              "      border-color: transparent;\n",
              "      border-bottom-color: var(--fill-color);\n",
              "      border-left-color: var(--fill-color);\n",
              "    }\n",
              "    20% {\n",
              "      border-color: transparent;\n",
              "      border-left-color: var(--fill-color);\n",
              "      border-top-color: var(--fill-color);\n",
              "    }\n",
              "    30% {\n",
              "      border-color: transparent;\n",
              "      border-left-color: var(--fill-color);\n",
              "      border-top-color: var(--fill-color);\n",
              "      border-right-color: var(--fill-color);\n",
              "    }\n",
              "    40% {\n",
              "      border-color: transparent;\n",
              "      border-right-color: var(--fill-color);\n",
              "      border-top-color: var(--fill-color);\n",
              "    }\n",
              "    60% {\n",
              "      border-color: transparent;\n",
              "      border-right-color: var(--fill-color);\n",
              "    }\n",
              "    80% {\n",
              "      border-color: transparent;\n",
              "      border-right-color: var(--fill-color);\n",
              "      border-bottom-color: var(--fill-color);\n",
              "    }\n",
              "    90% {\n",
              "      border-color: transparent;\n",
              "      border-bottom-color: var(--fill-color);\n",
              "    }\n",
              "  }\n",
              "</style>\n",
              "\n",
              "  <script>\n",
              "    async function quickchart(key) {\n",
              "      const quickchartButtonEl =\n",
              "        document.querySelector('#' + key + ' button');\n",
              "      quickchartButtonEl.disabled = true;  // To prevent multiple clicks.\n",
              "      quickchartButtonEl.classList.add('colab-df-spinner');\n",
              "      try {\n",
              "        const charts = await google.colab.kernel.invokeFunction(\n",
              "            'suggestCharts', [key], {});\n",
              "      } catch (error) {\n",
              "        console.error('Error during call to suggestCharts:', error);\n",
              "      }\n",
              "      quickchartButtonEl.classList.remove('colab-df-spinner');\n",
              "      quickchartButtonEl.classList.add('colab-df-quickchart-complete');\n",
              "    }\n",
              "    (() => {\n",
              "      let quickchartButtonEl =\n",
              "        document.querySelector('#df-86c51a6d-506c-4aad-8096-c585edec0255 button');\n",
              "      quickchartButtonEl.style.display =\n",
              "        google.colab.kernel.accessAllowed ? 'block' : 'none';\n",
              "    })();\n",
              "  </script>\n",
              "</div>\n",
              "\n",
              "    </div>\n",
              "  </div>\n"
            ],
            "application/vnd.google.colaboratory.intrinsic+json": {
              "type": "dataframe",
              "variable_name": "df",
              "summary": "{\n  \"name\": \"df\",\n  \"rows\": 768,\n  \"fields\": [\n    {\n      \"column\": \"Pregnancies\",\n      \"properties\": {\n        \"dtype\": \"number\",\n        \"std\": 3,\n        \"min\": 0,\n        \"max\": 17,\n        \"num_unique_values\": 17,\n        \"samples\": [\n          6,\n          1,\n          3\n        ],\n        \"semantic_type\": \"\",\n        \"description\": \"\"\n      }\n    },\n    {\n      \"column\": \"Glucose\",\n      \"properties\": {\n        \"dtype\": \"number\",\n        \"std\": 31,\n        \"min\": 0,\n        \"max\": 199,\n        \"num_unique_values\": 136,\n        \"samples\": [\n          151,\n          101,\n          112\n        ],\n        \"semantic_type\": \"\",\n        \"description\": \"\"\n      }\n    },\n    {\n      \"column\": \"BloodPressure\",\n      \"properties\": {\n        \"dtype\": \"number\",\n        \"std\": 19,\n        \"min\": 0,\n        \"max\": 122,\n        \"num_unique_values\": 47,\n        \"samples\": [\n          86,\n          46,\n          85\n        ],\n        \"semantic_type\": \"\",\n        \"description\": \"\"\n      }\n    },\n    {\n      \"column\": \"SkinThickness\",\n      \"properties\": {\n        \"dtype\": \"number\",\n        \"std\": 15,\n        \"min\": 0,\n        \"max\": 99,\n        \"num_unique_values\": 51,\n        \"samples\": [\n          7,\n          12,\n          48\n        ],\n        \"semantic_type\": \"\",\n        \"description\": \"\"\n      }\n    },\n    {\n      \"column\": \"Insulin\",\n      \"properties\": {\n        \"dtype\": \"number\",\n        \"std\": 115,\n        \"min\": 0,\n        \"max\": 846,\n        \"num_unique_values\": 186,\n        \"samples\": [\n          52,\n          41,\n          183\n        ],\n        \"semantic_type\": \"\",\n        \"description\": \"\"\n      }\n    },\n    {\n      \"column\": \"BMI\",\n      \"properties\": {\n        \"dtype\": \"number\",\n        \"std\": 7.8841603203754405,\n        \"min\": 0.0,\n        \"max\": 67.1,\n        \"num_unique_values\": 248,\n        \"samples\": [\n          19.9,\n          31.0,\n          38.1\n        ],\n        \"semantic_type\": \"\",\n        \"description\": \"\"\n      }\n    },\n    {\n      \"column\": \"DiabetesPedigreeFunction\",\n      \"properties\": {\n        \"dtype\": \"number\",\n        \"std\": 0.33132859501277484,\n        \"min\": 0.078,\n        \"max\": 2.42,\n        \"num_unique_values\": 517,\n        \"samples\": [\n          1.731,\n          0.426,\n          0.138\n        ],\n        \"semantic_type\": \"\",\n        \"description\": \"\"\n      }\n    },\n    {\n      \"column\": \"Age\",\n      \"properties\": {\n        \"dtype\": \"number\",\n        \"std\": 11,\n        \"min\": 21,\n        \"max\": 81,\n        \"num_unique_values\": 52,\n        \"samples\": [\n          60,\n          47,\n          72\n        ],\n        \"semantic_type\": \"\",\n        \"description\": \"\"\n      }\n    },\n    {\n      \"column\": \"Outcome\",\n      \"properties\": {\n        \"dtype\": \"number\",\n        \"std\": 0,\n        \"min\": 0,\n        \"max\": 1,\n        \"num_unique_values\": 2,\n        \"samples\": [\n          0,\n          1\n        ],\n        \"semantic_type\": \"\",\n        \"description\": \"\"\n      }\n    }\n  ]\n}"
            }
          },
          "metadata": {},
          "execution_count": 41
        }
      ]
    },
    {
      "cell_type": "markdown",
      "source": [
        "Выполним вызов метода info() для объекта df, который представляет собой DataFrame в библиотеке pandas. Этот метод выводит информацию о структуре DataFrame, включая количество строк и столбцов, названия столбцов, их типы данных, количество ненулевых значений в каждом столбце, а также объем памяти, занимаемый DataFrame. Использование df.info() помогает быстро получить общее представление о данных, определить наличие пропущенных значений и понять типы данных для дальнейшей обработки."
      ],
      "metadata": {
        "id": "Tsys8zGpDkXF"
      }
    },
    {
      "cell_type": "code",
      "source": [
        "df.info()"
      ],
      "metadata": {
        "colab": {
          "base_uri": "https://localhost:8080/"
        },
        "id": "9KcUULF2VYEg",
        "outputId": "09c525ca-cef0-4d12-b72b-4b2a1526067f"
      },
      "execution_count": 42,
      "outputs": [
        {
          "output_type": "stream",
          "name": "stdout",
          "text": [
            "<class 'pandas.core.frame.DataFrame'>\n",
            "RangeIndex: 768 entries, 0 to 767\n",
            "Data columns (total 9 columns):\n",
            " #   Column                    Non-Null Count  Dtype  \n",
            "---  ------                    --------------  -----  \n",
            " 0   Pregnancies               768 non-null    int64  \n",
            " 1   Glucose                   768 non-null    int64  \n",
            " 2   BloodPressure             768 non-null    int64  \n",
            " 3   SkinThickness             768 non-null    int64  \n",
            " 4   Insulin                   768 non-null    int64  \n",
            " 5   BMI                       768 non-null    float64\n",
            " 6   DiabetesPedigreeFunction  768 non-null    float64\n",
            " 7   Age                       768 non-null    int64  \n",
            " 8   Outcome                   768 non-null    int64  \n",
            "dtypes: float64(2), int64(7)\n",
            "memory usage: 54.1 KB\n"
          ]
        }
      ]
    },
    {
      "cell_type": "markdown",
      "source": [
        "Выполним проверку на наличие пропущенных значений в каждом столбце DataFrame df. Метод isnull() возвращает DataFrame той же формы, что и исходный, где каждый элемент является булевым значением: True, если значение в соответствующей ячейке пропущено (NaN), и False, если оно присутствует. Затем метод sum() суммирует количество пропущенных значений (где True считается за 1), возвращая количество пропущенных значений в каждом столбце. Это позволяет быстро определить, в каких столбцах имеются пропущенные данные и в каком количестве."
      ],
      "metadata": {
        "id": "8Dn54vCuDrwP"
      }
    },
    {
      "cell_type": "code",
      "source": [
        "df.isnull().sum()"
      ],
      "metadata": {
        "colab": {
          "base_uri": "https://localhost:8080/",
          "height": 366
        },
        "id": "_bC_3ULjVkVt",
        "outputId": "72bb2d76-be71-41a0-dcdb-74676314f32b"
      },
      "execution_count": 43,
      "outputs": [
        {
          "output_type": "execute_result",
          "data": {
            "text/plain": [
              "Pregnancies                 0\n",
              "Glucose                     0\n",
              "BloodPressure               0\n",
              "SkinThickness               0\n",
              "Insulin                     0\n",
              "BMI                         0\n",
              "DiabetesPedigreeFunction    0\n",
              "Age                         0\n",
              "Outcome                     0\n",
              "dtype: int64"
            ],
            "text/html": [
              "<div>\n",
              "<style scoped>\n",
              "    .dataframe tbody tr th:only-of-type {\n",
              "        vertical-align: middle;\n",
              "    }\n",
              "\n",
              "    .dataframe tbody tr th {\n",
              "        vertical-align: top;\n",
              "    }\n",
              "\n",
              "    .dataframe thead th {\n",
              "        text-align: right;\n",
              "    }\n",
              "</style>\n",
              "<table border=\"1\" class=\"dataframe\">\n",
              "  <thead>\n",
              "    <tr style=\"text-align: right;\">\n",
              "      <th></th>\n",
              "      <th>0</th>\n",
              "    </tr>\n",
              "  </thead>\n",
              "  <tbody>\n",
              "    <tr>\n",
              "      <th>Pregnancies</th>\n",
              "      <td>0</td>\n",
              "    </tr>\n",
              "    <tr>\n",
              "      <th>Glucose</th>\n",
              "      <td>0</td>\n",
              "    </tr>\n",
              "    <tr>\n",
              "      <th>BloodPressure</th>\n",
              "      <td>0</td>\n",
              "    </tr>\n",
              "    <tr>\n",
              "      <th>SkinThickness</th>\n",
              "      <td>0</td>\n",
              "    </tr>\n",
              "    <tr>\n",
              "      <th>Insulin</th>\n",
              "      <td>0</td>\n",
              "    </tr>\n",
              "    <tr>\n",
              "      <th>BMI</th>\n",
              "      <td>0</td>\n",
              "    </tr>\n",
              "    <tr>\n",
              "      <th>DiabetesPedigreeFunction</th>\n",
              "      <td>0</td>\n",
              "    </tr>\n",
              "    <tr>\n",
              "      <th>Age</th>\n",
              "      <td>0</td>\n",
              "    </tr>\n",
              "    <tr>\n",
              "      <th>Outcome</th>\n",
              "      <td>0</td>\n",
              "    </tr>\n",
              "  </tbody>\n",
              "</table>\n",
              "</div><br><label><b>dtype:</b> int64</label>"
            ]
          },
          "metadata": {},
          "execution_count": 43
        }
      ]
    },
    {
      "cell_type": "markdown",
      "source": [
        "Выполним построение гистограммы с плотностью распределения для столбца \"Glucose\" из DataFrame df с использованием библиотеки seaborn. Функция sns.distplot() отображает распределение значений столбца \"Glucose\", рисуя гистограмму с наложенной кривой плотности вероятности. Затем устанавливаются заголовок графика с помощью plt.title(), подпись оси X (глюкоза) через plt.xlabel(), и подпись оси Y (частота) через plt.ylabel(). В конце вызывается plt.show(), чтобы отобразить график на экране. Это позволит нам визуализировать распределение значений уровня глюкозы в выборке и анализировать его форму и характеристики.\n",
        "\n",
        "\n",
        "\n",
        "\n",
        "\n",
        "\n"
      ],
      "metadata": {
        "id": "HfU3jxwXERUp"
      }
    },
    {
      "cell_type": "code",
      "source": [
        "sns.distplot(df[\"Glucose\"])\n",
        "plt.title(\"Распределение глюкозы\")\n",
        "plt.xlabel(\"Глюкоза\")\n",
        "plt.ylabel(\"Частота\")\n",
        "plt.show()"
      ],
      "metadata": {
        "colab": {
          "base_uri": "https://localhost:8080/",
          "height": 663
        },
        "id": "xf5y3aslm1ci",
        "outputId": "04d69c64-6b16-4069-d5af-18840d69338a"
      },
      "execution_count": 44,
      "outputs": [
        {
          "output_type": "stream",
          "name": "stderr",
          "text": [
            "<ipython-input-44-15c01ed2ed9b>:1: UserWarning: \n",
            "\n",
            "`distplot` is a deprecated function and will be removed in seaborn v0.14.0.\n",
            "\n",
            "Please adapt your code to use either `displot` (a figure-level function with\n",
            "similar flexibility) or `histplot` (an axes-level function for histograms).\n",
            "\n",
            "For a guide to updating your code to use the new functions, please see\n",
            "https://gist.github.com/mwaskom/de44147ed2974457ad6372750bbe5751\n",
            "\n",
            "  sns.distplot(df[\"Glucose\"])\n"
          ]
        },
        {
          "output_type": "display_data",
          "data": {
            "text/plain": [
              "<Figure size 640x480 with 1 Axes>"
            ],
            "image/png": "[encoded data removed]"
          },
          "metadata": {}
        }
      ]
    },
    {
      "cell_type": "markdown",
      "source": [
        "Выполним построение гистограммы с плотностью распределения для столбца \"BloodPressure\" из DataFrame df с использованием библиотеки seaborn. Функция sns.distplot() отображает распределение значений столбца \"BloodPressure\", рисуя гистограмму и накладывая кривую плотности вероятности. Далее с помощью plt.title() устанавливается заголовок графика, который указывает на то, что изображено распределение давления. plt.xlabel() задает подпись для оси X, которая представляет собой диастолическое артериальное давление, а plt.ylabel() добавляет подпись для оси Y, указывающую на частоту встречаемости значений. В конце вызывается plt.show(), чтобы отобразить график на экране. Это поможет визуализировать распределение значений диастолического артериального давления в выборке."
      ],
      "metadata": {
        "id": "crbu7al_EjZb"
      }
    },
    {
      "cell_type": "code",
      "source": [
        "sns.distplot(df[\"BloodPressure\"])\n",
        "plt.title(\"Распределение давления\")\n",
        "plt.xlabel(\"Диастолическое артериальное давление\")\n",
        "plt.ylabel(\"Частота\")\n",
        "plt.show()"
      ],
      "metadata": {
        "colab": {
          "base_uri": "https://localhost:8080/",
          "height": 663
        },
        "id": "y2JyVUBknA6y",
        "outputId": "f2af84da-d4ae-4c0e-aa3f-9dfa64fa486f"
      },
      "execution_count": 45,
      "outputs": [
        {
          "output_type": "stream",
          "name": "stderr",
          "text": [
            "<ipython-input-45-0fcfaf062007>:1: UserWarning: \n",
            "\n",
            "`distplot` is a deprecated function and will be removed in seaborn v0.14.0.\n",
            "\n",
            "Please adapt your code to use either `displot` (a figure-level function with\n",
            "similar flexibility) or `histplot` (an axes-level function for histograms).\n",
            "\n",
            "For a guide to updating your code to use the new functions, please see\n",
            "https://gist.github.com/mwaskom/de44147ed2974457ad6372750bbe5751\n",
            "\n",
            "  sns.distplot(df[\"BloodPressure\"])\n"
          ]
        },
        {
          "output_type": "display_data",
          "data": {
            "text/plain": [
              "<Figure size 640x480 with 1 Axes>"
            ],
            "image/png": "[encoded data removed]"
          },
          "metadata": {}
        }
      ]
    },
    {
      "cell_type": "markdown",
      "source": [
        "Построим гистограмму с плотностью распределения для столбца \"Age\" из DataFrame df с использованием библиотеки seaborn. Функция sns.distplot() отображает распределение значений столбца \"Age\", рисуя гистограмму с наложенной кривой плотности вероятности. После этого с помощью plt.title() устанавливается заголовок графика, который информирует о том, что на графике показано распределение возраста. Метод plt.xlabel() задает подпись для оси X, которая представляет возраст, а plt.ylabel() добавляет подпись для оси Y, которая указывает на частоту значений. В конце вызывается plt.show(), чтобы отобразить график на экране. Это поможет нам визуализировать, как распределены значения возраста в выборке."
      ],
      "metadata": {
        "id": "rVBSE79BEt4L"
      }
    },
    {
      "cell_type": "code",
      "source": [
        "sns.distplot(df[\"Age\"])\n",
        "plt.title(\"Распределение возраста\")\n",
        "plt.xlabel(\"Возраст\")\n",
        "plt.ylabel(\"Частота\")\n",
        "plt.show()"
      ],
      "metadata": {
        "colab": {
          "base_uri": "https://localhost:8080/",
          "height": 663
        },
        "id": "-PLZIkTUVmSl",
        "outputId": "9d21b839-a43a-46b8-d597-81eb8c928d45"
      },
      "execution_count": 46,
      "outputs": [
        {
          "output_type": "stream",
          "name": "stderr",
          "text": [
            "<ipython-input-46-0d7e1abd7859>:1: UserWarning: \n",
            "\n",
            "`distplot` is a deprecated function and will be removed in seaborn v0.14.0.\n",
            "\n",
            "Please adapt your code to use either `displot` (a figure-level function with\n",
            "similar flexibility) or `histplot` (an axes-level function for histograms).\n",
            "\n",
            "For a guide to updating your code to use the new functions, please see\n",
            "https://gist.github.com/mwaskom/de44147ed2974457ad6372750bbe5751\n",
            "\n",
            "  sns.distplot(df[\"Age\"])\n"
          ]
        },
        {
          "output_type": "display_data",
          "data": {
            "text/plain": [
              "<Figure size 640x480 with 1 Axes>"
            ],
            "image/png": "[encoded data removed]"
          },
          "metadata": {}
        }
      ]
    },
    {
      "cell_type": "markdown",
      "source": [
        "Построим гистограмму с плотностью распределения для столбца \"BMI\" (индекс массы тела) из DataFrame df с использованием библиотеки seaborn. Функция sns.distplot() отображает распределение значений столбца \"BMI\", рисуя гистограмму и накладывая кривую плотности вероятности. Далее с помощью plt.title() устанавливается заголовок графика, который информирует, что на нем показано распределение индекса массы тела. Метод plt.xlabel() задает подпись для оси X, которая представляет собой индекс массы тела, а plt.ylabel() добавляет подпись для оси Y, указывающую на частоту значений. В конце вызывается plt.show(), чтобы отобразить график на экране. Это позволит нам визуализировать, как распределены значения индекса массы тела в выборке.\n",
        "\n",
        "\n",
        "\n",
        "\n",
        "\n",
        "\n"
      ],
      "metadata": {
        "id": "GPkoijHiE5uq"
      }
    },
    {
      "cell_type": "code",
      "source": [
        "sns.distplot(df[\"BMI\"])\n",
        "plt.title(\"Распределение индекса массы тела\")\n",
        "plt.xlabel(\"Индекс массы тела\")\n",
        "plt.ylabel(\"Частота\")\n",
        "plt.show()"
      ],
      "metadata": {
        "colab": {
          "base_uri": "https://localhost:8080/",
          "height": 663
        },
        "id": "CGnGolQAWoeK",
        "outputId": "7ce0595d-16d4-41d2-834c-c7093525713a"
      },
      "execution_count": 47,
      "outputs": [
        {
          "output_type": "stream",
          "name": "stderr",
          "text": [
            "<ipython-input-47-2b95acdef5a7>:1: UserWarning: \n",
            "\n",
            "`distplot` is a deprecated function and will be removed in seaborn v0.14.0.\n",
            "\n",
            "Please adapt your code to use either `displot` (a figure-level function with\n",
            "similar flexibility) or `histplot` (an axes-level function for histograms).\n",
            "\n",
            "For a guide to updating your code to use the new functions, please see\n",
            "https://gist.github.com/mwaskom/de44147ed2974457ad6372750bbe5751\n",
            "\n",
            "  sns.distplot(df[\"BMI\"])\n"
          ]
        },
        {
          "output_type": "display_data",
          "data": {
            "text/plain": [
              "<Figure size 640x480 with 1 Axes>"
            ],
            "image/png": "[encoded data removed]"
          },
          "metadata": {}
        }
      ]
    },
    {
      "cell_type": "markdown",
      "source": [
        "Построим столбчатую диаграмму для визуализации распределения количества беременностей (Pregnancies) с разбивкой по целевой переменной Outcome (наличие или отсутствие диабета) из DataFrame df с использованием функции sns.countplot() библиотеки seaborn. Аргумент x='Pregnancies' указывает на то, что по оси X будет отображаться количество беременностей, а параметр hue='Outcome' позволяет разделить данные по категориям целевой переменной (например, пациенты с диабетом и без диабета). Метод plt.title() задает заголовок графика, который информирует о том, что изображено распределение количества беременностей. С помощью plt.xlabel() добавляется подпись для оси X, указывающая на количество беременностей, а plt.ylabel() добавляет подпись для оси Y, которая обозначает частоту значений. В конце вызывается plt.show(), чтобы отобразить график на экране. Это поможет нам проанализировать, как количество беременностей связано с наличием диабета в выборке."
      ],
      "metadata": {
        "id": "37MwOEt9FGMV"
      }
    },
    {
      "cell_type": "code",
      "source": [
        "sns.countplot(x='Pregnancies', hue='Outcome', data=df)\n",
        "plt.title(\"Распределение количества беременностей\")\n",
        "plt.xlabel(\"Количество беременностей\")\n",
        "plt.ylabel(\"Частота\")\n",
        "plt.show()"
      ],
      "metadata": {
        "colab": {
          "base_uri": "https://localhost:8080/",
          "height": 472
        },
        "id": "eIsS0DvPWGjD",
        "outputId": "189d2738-1689-452f-bfe4-1f13bbf5dd17"
      },
      "execution_count": 48,
      "outputs": [
        {
          "output_type": "display_data",
          "data": {
            "text/plain": [
              "<Figure size 640x480 with 1 Axes>"
            ],
            "image/png": "[encoded data removed]"
          },
          "metadata": {}
        }
      ]
    },
    {
      "cell_type": "markdown",
      "source": [
        "\n",
        "Выведем уникальные значения из столбца \"SkinThickness\" DataFrame df с помощью метода .unique(). Этот метод возвращает массив всех различных значений, которые встречаются в указанном столбце. Результат выводится на экран с помощью функции print(). Такой код позволяет быстро получить представление о том, какие уникальные значения содержатся в столбце \"SkinThickness\" (толщина кожной складки), что полезно для анализа данных и выявления возможных аномалий или ошибок в данных."
      ],
      "metadata": {
        "id": "YaIwphHeFOb3"
      }
    },
    {
      "cell_type": "code",
      "source": [
        "print(df.SkinThickness.unique())"
      ],
      "metadata": {
        "colab": {
          "base_uri": "https://localhost:8080/"
        },
        "id": "atm7CtZjnoIC",
        "outputId": "9332bcc7-6e5d-4f56-c612-21ab51faa1f3"
      },
      "execution_count": 49,
      "outputs": [
        {
          "output_type": "stream",
          "name": "stdout",
          "text": [
            "[35 29  0 23 32 45 19 47 38 30 41 33 26 15 36 11 31 37 42 25 18 24 39 27\n",
            " 21 34 10 60 13 20 22 28 54 40 51 56 14 17 50 44 12 46 16  7 52 43 48  8\n",
            " 49 63 99]\n"
          ]
        }
      ]
    },
    {
      "cell_type": "markdown",
      "source": [
        "Построим тепловую карту (heatmap) для корреляционной матрицы DataFrame df с использованием библиотеки seaborn. Метод df.corr() вычисляет корреляцию между числовыми переменными в DataFrame, создавая корреляционную матрицу. Функция sns.heatmap() отображает эту матрицу в виде тепловой карты, где цвета ячеек отражают степень корреляции между различными переменными. Аргумент annot=True добавляет числовые значения корреляций непосредственно на ячейки карты, что позволяет более наглядно увидеть величины корреляций. Тепловая карта поможет нам визуализировать взаимосвязи между переменными и может быть полезна для выявления сильных и слабых корреляций в данных."
      ],
      "metadata": {
        "id": "5RwtpYK5FXIf"
      }
    },
    {
      "cell_type": "code",
      "source": [
        "sns.heatmap(df.corr(), annot=True);"
      ],
      "metadata": {
        "colab": {
          "base_uri": "https://localhost:8080/",
          "height": 603
        },
        "id": "yGA5-u-dZIXc",
        "outputId": "6b8d1d45-de2e-438a-bb2c-cfd691934a02"
      },
      "execution_count": 50,
      "outputs": [
        {
          "output_type": "display_data",
          "data": {
            "text/plain": [
              "<Figure size 640x480 with 2 Axes>"
            ],
            "image/png": "[encoded data removed]"
          },
          "metadata": {}
        }
      ]
    },
    {
      "cell_type": "markdown",
      "source": [
        "\n",
        "Построим круговую диаграмму (пироговый график) для отображения распределения классов в целевой переменной Outcome из DataFrame df. Сначала метод df.groupby('Outcome')['Outcome'].count() выполняет группировку данных по столбцу Outcome и подсчитывает количество записей для каждого класса (наличие и отсутствие диабета). Результат сохраняется в переменную graf. Далее, с помощью функции plt.pie(), строится круговая диаграмма. Параметр explode=[0.05, 0.1] указывает, что сектора диаграммы для классов \"Отсутствие диабета\" и \"Наличие диабета\" будут немного смещены, чтобы выделить их. Аргумент labels=['Отсутствие диабета', 'Наличие диабета'] задает подписи для каждого сектора. Параметр radius=1.5 увеличивает радиус диаграммы, а autopct='%1.1f%%' добавляет отображение процентных значений на каждом секторе с точностью до одной десятичной цифры. Это поможет нам наглядно представить распределение пациентов с диабетом и без диабета в выборке."
      ],
      "metadata": {
        "id": "svdDfi3BFhBT"
      }
    },
    {
      "cell_type": "code",
      "source": [
        "graf = df.groupby('Outcome')['Outcome'].count()\n",
        "plt.pie(graf, explode=[0.05, 0.1], labels=['Отсутствие диабета', 'Наличие диабета'], radius=1.5, autopct='%1.1f%%');"
      ],
      "metadata": {
        "colab": {
          "base_uri": "https://localhost:8080/",
          "height": 504
        },
        "id": "eFsNe4d_Zaj8",
        "outputId": "c10aa25a-0607-4587-e771-ac947467ad0a"
      },
      "execution_count": 51,
      "outputs": [
        {
          "output_type": "display_data",
          "data": {
            "text/plain": [
              "<Figure size 640x480 with 1 Axes>"
            ],
            "image/png": "[encoded data removed]"
          },
          "metadata": {}
        }
      ]
    },
    {
      "cell_type": "markdown",
      "source": [
        "При более детальном анализе данных было обнаружено, что хотя отсутствуют пропущенные значения, в столбце SkinThickness присутствуют нулевые значения, что не соответствует логике, так как толщина кожной складки не может быть равна нулю."
      ],
      "metadata": {
        "id": "6d_wCnz0vvwF"
      }
    },
    {
      "cell_type": "markdown",
      "source": [
        "\n",
        "Поэтому заменим все нулевые значения в столбце SkinThickness DataFrame df на среднее значение этого столбца. Метод replace(0, df[\"SkinThickness\"].mean()) выполняет замену: все элементы, равные нулю, заменяются на среднее значение столбца SkinThickness, вычисленное с помощью df[\"SkinThickness\"].mean(). Это действие позволяет избежать некорректных данных (нулевых значений) и использовать более логичные данные для дальнейшего анализа."
      ],
      "metadata": {
        "id": "WxhroBngGBDE"
      }
    },
    {
      "cell_type": "code",
      "source": [
        "df[\"SkinThickness\"] = df[\"SkinThickness\"].replace(0, df[\"SkinThickness\"].mean())"
      ],
      "metadata": {
        "id": "A1o3c0fEoyt1"
      },
      "execution_count": 52,
      "outputs": []
    },
    {
      "cell_type": "markdown",
      "source": [
        "Выведем уникальные значения, содержащиеся в столбце SkinThickness DataFrame df. Метод unique() возвращает массив всех уникальных значений в указанном столбце, исключая повторяющиеся. Это позволяет быстро увидеть, какие различные значения присутствуют в столбце, и помогает в дальнейшем анализе данных, например, для выявления аномалий или для понимания распределения данных."
      ],
      "metadata": {
        "id": "qIUgKM_EGNmt"
      }
    },
    {
      "cell_type": "code",
      "source": [
        "print(df.SkinThickness.unique())"
      ],
      "metadata": {
        "colab": {
          "base_uri": "https://localhost:8080/"
        },
        "id": "LBdET64BpP4s",
        "outputId": "b4398eb5-1750-4272-b4ae-7643bf9bef18"
      },
      "execution_count": 53,
      "outputs": [
        {
          "output_type": "stream",
          "name": "stdout",
          "text": [
            "[35.         29.         20.53645833 23.         32.         45.\n",
            " 19.         47.         38.         30.         41.         33.\n",
            " 26.         15.         36.         11.         31.         37.\n",
            " 42.         25.         18.         24.         39.         27.\n",
            " 21.         34.         10.         60.         13.         20.\n",
            " 22.         28.         54.         40.         51.         56.\n",
            " 14.         17.         50.         44.         12.         46.\n",
            " 16.          7.         52.         43.         48.          8.\n",
            " 49.         63.         99.        ]\n"
          ]
        }
      ]
    },
    {
      "cell_type": "markdown",
      "source": [
        "Проведём нормализацию данных, чтобы привести все признаки к единому масштабу. Это поможет модели обучаться более эффективно."
      ],
      "metadata": {
        "id": "YlZwrnnczz1I"
      }
    },
    {
      "cell_type": "markdown",
      "source": [
        "Выполним нормализацию признаков данных и разделение их на обучающую и тестовую выборки. Сначала из DataFrame df выделяются признаки (x), удаляя столбец Outcome, который является целевой переменной, и сохраняется в отдельной переменной y. Далее используется MinMaxScaler из библиотеки sklearn.preprocessing, который масштабирует признаки в диапазон от 0 до 1. Метод fit_transform применяется к данным, чтобы нормализовать их.\n",
        "\n",
        "После нормализации данные делятся на обучающую и тестовую выборки с помощью функции train_test_split. Параметр test_size=0.2 указывает, что 20% данных будет использовано для тестирования, а 80% — для обучения. Параметр random_state=42 обеспечивает воспроизводимость результатов, а stratify=y гарантирует, что пропорции классов в обучающей и тестовой выборках будут одинаковыми.\n",
        "\n",
        "\n",
        "\n",
        "\n",
        "\n",
        "\n"
      ],
      "metadata": {
        "id": "7iLL0FHzGgfY"
      }
    },
    {
      "cell_type": "code",
      "source": [
        "from sklearn.preprocessing import MinMaxScaler\n",
        "\n",
        "x = df.drop('Outcome', axis=1)\n",
        "y = df['Outcome']\n",
        "\n",
        "scaler = MinMaxScaler()\n",
        "x_scaled = scaler.fit_transform(x)\n",
        "x_train, x_test, y_train, y_test = train_test_split(x_scaled, y, test_size=0.2, random_state=42, stratify=y)"
      ],
      "metadata": {
        "id": "eVgRWBtYbBRr"
      },
      "execution_count": 54,
      "outputs": []
    },
    {
      "cell_type": "markdown",
      "source": [
        "При визуализации данных было обнаружено, что класс 0 составляет 66,1% набора данных, а класс 1 — 34,9%. Это указывает на дисбаланс классов. Исправим это"
      ],
      "metadata": {
        "id": "n9vYtejq0AXq"
      }
    },
    {
      "cell_type": "markdown",
      "source": [
        "Используем метод SMOTE (Synthetic Minority Over-sampling Technique) для балансировки классов в обучающей выборке. SMOTE генерирует синтетические примеры для меньшинственного класса, чтобы сбалансировать количество образцов в каждом классе.\n",
        "\n",
        "Сначала импортируется класс SMOTE из библиотеки imblearn.over_sampling. Затем создается объект smote, которому задается фиксированное значение random_state=42 для воспроизводимости результатов. Метод fit_resample применяется к обучающим данным (x_train и y_train), генерируя сбалансированную выборку, которая сохраняется в переменные x_resampled и y_resampled. Эти данные можно использовать для дальнейшего обучения модели."
      ],
      "metadata": {
        "id": "6jn66yIcGwyG"
      }
    },
    {
      "cell_type": "code",
      "source": [
        "from imblearn.over_sampling import SMOTE\n",
        "smote = SMOTE(random_state=42)\n",
        "x_resampled, y_resampled = smote.fit_resample(x_train, y_train)"
      ],
      "metadata": {
        "colab": {
          "base_uri": "https://localhost:8080/"
        },
        "id": "Y6ybiPmph09t",
        "outputId": "3165e0b3-2785-47de-d8ad-acb420d7479f"
      },
      "execution_count": 55,
      "outputs": [
        {
          "output_type": "stream",
          "name": "stderr",
          "text": [
            "/usr/local/lib/python3.10/dist-packages/sklearn/base.py:474: FutureWarning: `BaseEstimator._validate_data` is deprecated in 1.6 and will be removed in 1.7. Use `sklearn.utils.validation.validate_data` instead. This function becomes public and is part of the scikit-learn developer API.\n",
            "  warnings.warn(\n",
            "/usr/local/lib/python3.10/dist-packages/sklearn/utils/_tags.py:354: FutureWarning: The SMOTE or classes from which it inherits use `_get_tags` and `_more_tags`. Please define the `__sklearn_tags__` method, or inherit from `sklearn.base.BaseEstimator` and/or other appropriate mixins such as `sklearn.base.TransformerMixin`, `sklearn.base.ClassifierMixin`, `sklearn.base.RegressorMixin`, and `sklearn.base.OutlierMixin`. From scikit-learn 1.7, not defining `__sklearn_tags__` will raise an error.\n",
            "  warnings.warn(\n"
          ]
        }
      ]
    },
    {
      "cell_type": "markdown",
      "source": [
        "Создадим новый DataFrame x_resampled_df из сбалансированных данных, полученных с помощью метода SMOTE. Для этого используется библиотека pandas, и создается DataFrame из массива x_resampled. В качестве столбцов DataFrame передаются имена признаков из исходных данных x.columns, чтобы сохранить структуру и название столбцов, соответствующих признакам. Результатом является DataFrame с теми же признаками, что и в исходных данных, но уже с добавленными синтетическими примерами для меньшинственного класса. Выводится этот DataFrame с помощью команды x_resampled_df.\n",
        "\n",
        "\n",
        "\n",
        "\n",
        "\n",
        "\n"
      ],
      "metadata": {
        "id": "4jGltt8ZG5Fp"
      }
    },
    {
      "cell_type": "code",
      "source": [
        "x_resampled_df = pd.DataFrame(x_resampled, columns=x.columns)\n",
        "\n",
        "x_resampled_df"
      ],
      "metadata": {
        "colab": {
          "base_uri": "https://localhost:8080/",
          "height": 443
        },
        "id": "ie95w8SdjyOX",
        "outputId": "6b5043f4-3f8a-4e5d-e8c9-025474aa5281"
      },
      "execution_count": 56,
      "outputs": [
        {
          "output_type": "execute_result",
          "data": {
            "text/plain": [
              "     Pregnancies   Glucose  BloodPressure  SkinThickness   Insulin       BMI  \\\n",
              "0       0.058824  0.452261       0.508197       0.054348  0.050827  0.405365   \n",
              "1       0.294118  0.633166       0.639344       0.217391  0.026005  0.441133   \n",
              "2       0.117647  0.527638       0.475410       0.358696  0.111111  0.520119   \n",
              "3       0.058824  0.733668       0.459016       0.147135  0.000000  0.442623   \n",
              "4       0.000000  0.477387       0.524590       0.347826  0.124113  0.664680   \n",
              "..           ...       ...            ...            ...       ...       ...   \n",
              "795     0.018647  0.599337       0.704114       0.448565  0.268121  0.700988   \n",
              "796     0.302493  0.949033       0.516421       0.282609  0.389799  0.467842   \n",
              "797     0.056290  0.632733       0.594687       0.151706  0.029786  0.413099   \n",
              "798     0.000000  0.688011       0.499432       0.312779  0.166778  0.514955   \n",
              "799     0.526674  0.611545       0.463594       0.149782  0.000000  0.497176   \n",
              "\n",
              "     DiabetesPedigreeFunction       Age  \n",
              "0                    0.214347  0.050000  \n",
              "1                    0.154142  0.316667  \n",
              "2                    0.062767  0.066667  \n",
              "3                    0.207515  0.133333  \n",
              "4                    0.122972  0.016667  \n",
              "..                        ...       ...  \n",
              "795                  0.171375  0.166667  \n",
              "796                  0.223014  0.139266  \n",
              "797                  0.084547  0.239367  \n",
              "798                  0.172318  0.002585  \n",
              "799                  0.442486  0.203879  \n",
              "\n",
              "[800 rows x 8 columns]"
            ],
            "text/html": [
              "\n",
              "  <div id=\"df-9a8eabc9-2bae-433c-8792-50ec46ad4ad8\" class=\"colab-df-container\">\n",
              "    <div>\n",
              "<style scoped>\n",
              "    .dataframe tbody tr th:only-of-type {\n",
              "        vertical-align: middle;\n",
              "    }\n",
              "\n",
              "    .dataframe tbody tr th {\n",
              "        vertical-align: top;\n",
              "    }\n",
              "\n",
              "    .dataframe thead th {\n",
              "        text-align: right;\n",
              "    }\n",
              "</style>\n",
              "<table border=\"1\" class=\"dataframe\">\n",
              "  <thead>\n",
              "    <tr style=\"text-align: right;\">\n",
              "      <th></th>\n",
              "      <th>Pregnancies</th>\n",
              "      <th>Glucose</th>\n",
              "      <th>BloodPressure</th>\n",
              "      <th>SkinThickness</th>\n",
              "      <th>Insulin</th>\n",
              "      <th>BMI</th>\n",
              "      <th>DiabetesPedigreeFunction</th>\n",
              "      <th>Age</th>\n",
              "    </tr>\n",
              "  </thead>\n",
              "  <tbody>\n",
              "    <tr>\n",
              "      <th>0</th>\n",
              "      <td>0.058824</td>\n",
              "      <td>0.452261</td>\n",
              "      <td>0.508197</td>\n",
              "      <td>0.054348</td>\n",
              "      <td>0.050827</td>\n",
              "      <td>0.405365</td>\n",
              "      <td>0.214347</td>\n",
              "      <td>0.050000</td>\n",
              "    </tr>\n",
              "    <tr>\n",
              "      <th>1</th>\n",
              "      <td>0.294118</td>\n",
              "      <td>0.633166</td>\n",
              "      <td>0.639344</td>\n",
              "      <td>0.217391</td>\n",
              "      <td>0.026005</td>\n",
              "      <td>0.441133</td>\n",
              "      <td>0.154142</td>\n",
              "      <td>0.316667</td>\n",
              "    </tr>\n",
              "    <tr>\n",
              "      <th>2</th>\n",
              "      <td>0.117647</td>\n",
              "      <td>0.527638</td>\n",
              "      <td>0.475410</td>\n",
              "      <td>0.358696</td>\n",
              "      <td>0.111111</td>\n",
              "      <td>0.520119</td>\n",
              "      <td>0.062767</td>\n",
              "      <td>0.066667</td>\n",
              "    </tr>\n",
              "    <tr>\n",
              "      <th>3</th>\n",
              "      <td>0.058824</td>\n",
              "      <td>0.733668</td>\n",
              "      <td>0.459016</td>\n",
              "      <td>0.147135</td>\n",
              "      <td>0.000000</td>\n",
              "      <td>0.442623</td>\n",
              "      <td>0.207515</td>\n",
              "      <td>0.133333</td>\n",
              "    </tr>\n",
              "    <tr>\n",
              "      <th>4</th>\n",
              "      <td>0.000000</td>\n",
              "      <td>0.477387</td>\n",
              "      <td>0.524590</td>\n",
              "      <td>0.347826</td>\n",
              "      <td>0.124113</td>\n",
              "      <td>0.664680</td>\n",
              "      <td>0.122972</td>\n",
              "      <td>0.016667</td>\n",
              "    </tr>\n",
              "    <tr>\n",
              "      <th>...</th>\n",
              "      <td>...</td>\n",
              "      <td>...</td>\n",
              "      <td>...</td>\n",
              "      <td>...</td>\n",
              "      <td>...</td>\n",
              "      <td>...</td>\n",
              "      <td>...</td>\n",
              "      <td>...</td>\n",
              "    </tr>\n",
              "    <tr>\n",
              "      <th>795</th>\n",
              "      <td>0.018647</td>\n",
              "      <td>0.599337</td>\n",
              "      <td>0.704114</td>\n",
              "      <td>0.448565</td>\n",
              "      <td>0.268121</td>\n",
              "      <td>0.700988</td>\n",
              "      <td>0.171375</td>\n",
              "      <td>0.166667</td>\n",
              "    </tr>\n",
              "    <tr>\n",
              "      <th>796</th>\n",
              "      <td>0.302493</td>\n",
              "      <td>0.949033</td>\n",
              "      <td>0.516421</td>\n",
              "      <td>0.282609</td>\n",
              "      <td>0.389799</td>\n",
              "      <td>0.467842</td>\n",
              "      <td>0.223014</td>\n",
              "      <td>0.139266</td>\n",
              "    </tr>\n",
              "    <tr>\n",
              "      <th>797</th>\n",
              "      <td>0.056290</td>\n",
              "      <td>0.632733</td>\n",
              "      <td>0.594687</td>\n",
              "      <td>0.151706</td>\n",
              "      <td>0.029786</td>\n",
              "      <td>0.413099</td>\n",
              "      <td>0.084547</td>\n",
              "      <td>0.239367</td>\n",
              "    </tr>\n",
              "    <tr>\n",
              "      <th>798</th>\n",
              "      <td>0.000000</td>\n",
              "      <td>0.688011</td>\n",
              "      <td>0.499432</td>\n",
              "      <td>0.312779</td>\n",
              "      <td>0.166778</td>\n",
              "      <td>0.514955</td>\n",
              "      <td>0.172318</td>\n",
              "      <td>0.002585</td>\n",
              "    </tr>\n",
              "    <tr>\n",
              "      <th>799</th>\n",
              "      <td>0.526674</td>\n",
              "      <td>0.611545</td>\n",
              "      <td>0.463594</td>\n",
              "      <td>0.149782</td>\n",
              "      <td>0.000000</td>\n",
              "      <td>0.497176</td>\n",
              "      <td>0.442486</td>\n",
              "      <td>0.203879</td>\n",
              "    </tr>\n",
              "  </tbody>\n",
              "</table>\n",
              "<p>800 rows × 8 columns</p>\n",
              "</div>\n",
              "    <div class=\"colab-df-buttons\">\n",
              "\n",
              "  <div class=\"colab-df-container\">\n",
              "    <button class=\"colab-df-convert\" onclick=\"convertToInteractive('df-9a8eabc9-2bae-433c-8792-50ec46ad4ad8')\"\n",
              "            title=\"Convert this dataframe to an interactive table.\"\n",
              "            style=\"display:none;\">\n",
              "\n",
              "  <svg xmlns=\"http://www.w3.org/2000/svg\" height=\"24px\" viewBox=\"0 -960 960 960\">\n",
              "    <path d=\"M120-120v-720h720v720H120Zm60-500h600v-160H180v160Zm220 220h160v-160H400v160Zm0 220h160v-160H400v160ZM180-400h160v-160H180v160Zm440 0h160v-160H620v160ZM180-180h160v-160H180v160Zm440 0h160v-160H620v160Z\"/>\n",
              "  </svg>\n",
              "    </button>\n",
              "\n",
              "  <style>\n",
              "    .colab-df-container {\n",
              "      display:flex;\n",
              "      gap: 12px;\n",
              "    }\n",
              "\n",
              "    .colab-df-convert {\n",
              "      background-color: #E8F0FE;\n",
              "      border: none;\n",
              "      border-radius: 50%;\n",
              "      cursor: pointer;\n",
              "      display: none;\n",
              "      fill: #1967D2;\n",
              "      height: 32px;\n",
              "      padding: 0 0 0 0;\n",
              "      width: 32px;\n",
              "    }\n",
              "\n",
              "    .colab-df-convert:hover {\n",
              "      background-color: #E2EBFA;\n",
              "      box-shadow: 0px 1px 2px rgba(60, 64, 67, 0.3), 0px 1px 3px 1px rgba(60, 64, 67, 0.15);\n",
              "      fill: #174EA6;\n",
              "    }\n",
              "\n",
              "    .colab-df-buttons div {\n",
              "      margin-bottom: 4px;\n",
              "    }\n",
              "\n",
              "    [theme=dark] .colab-df-convert {\n",
              "      background-color: #3B4455;\n",
              "      fill: #D2E3FC;\n",
              "    }\n",
              "\n",
              "    [theme=dark] .colab-df-convert:hover {\n",
              "      background-color: #434B5C;\n",
              "      box-shadow: 0px 1px 3px 1px rgba(0, 0, 0, 0.15);\n",
              "      filter: drop-shadow(0px 1px 2px rgba(0, 0, 0, 0.3));\n",
              "      fill: #FFFFFF;\n",
              "    }\n",
              "  </style>\n",
              "\n",
              "    <script>\n",
              "      const buttonEl =\n",
              "        document.querySelector('#df-9a8eabc9-2bae-433c-8792-50ec46ad4ad8 button.colab-df-convert');\n",
              "      buttonEl.style.display =\n",
              "        google.colab.kernel.accessAllowed ? 'block' : 'none';\n",
              "\n",
              "      async function convertToInteractive(key) {\n",
              "        const element = document.querySelector('#df-9a8eabc9-2bae-433c-8792-50ec46ad4ad8');\n",
              "        const dataTable =\n",
              "          await google.colab.kernel.invokeFunction('convertToInteractive',\n",
              "                                                    [key], {});\n",
              "        if (!dataTable) return;\n",
              "\n",
              "        const docLinkHtml = 'Like what you see? Visit the ' +\n",
              "          '<a target=\"_blank\" href=https://colab.research.google.com/notebooks/data_table.ipynb>data table notebook</a>'\n",
              "          + ' to learn more about interactive tables.';\n",
              "        element.innerHTML = '';\n",
              "        dataTable['output_type'] = 'display_data';\n",
              "        await google.colab.output.renderOutput(dataTable, element);\n",
              "        const docLink = document.createElement('div');\n",
              "        docLink.innerHTML = docLinkHtml;\n",
              "        element.appendChild(docLink);\n",
              "      }\n",
              "    </script>\n",
              "  </div>\n",
              "\n",
              "\n",
              "<div id=\"df-a6abbb4c-a55d-41c5-b6ec-8006b8f32f95\">\n",
              "  <button class=\"colab-df-quickchart\" onclick=\"quickchart('df-a6abbb4c-a55d-41c5-b6ec-8006b8f32f95')\"\n",
              "            title=\"Suggest charts\"\n",
              "            style=\"display:none;\">\n",
              "\n",
              "<svg xmlns=\"http://www.w3.org/2000/svg\" height=\"24px\"viewBox=\"0 0 24 24\"\n",
              "     width=\"24px\">\n",
              "    <g>\n",
              "        <path d=\"M19 3H5c-1.1 0-2 .9-2 2v14c0 1.1.9 2 2 2h14c1.1 0 2-.9 2-2V5c0-1.1-.9-2-2-2zM9 17H7v-7h2v7zm4 0h-2V7h2v10zm4 0h-2v-4h2v4z\"/>\n",
              "    </g>\n",
              "</svg>\n",
              "  </button>\n",
              "\n",
              "<style>\n",
              "  .colab-df-quickchart {\n",
              "      --bg-color: #E8F0FE;\n",
              "      --fill-color: #1967D2;\n",
              "      --hover-bg-color: #E2EBFA;\n",
              "      --hover-fill-color: #174EA6;\n",
              "      --disabled-fill-color: #AAA;\n",
              "      --disabled-bg-color: #DDD;\n",
              "  }\n",
              "\n",
              "  [theme=dark] .colab-df-quickchart {\n",
              "      --bg-color: #3B4455;\n",
              "      --fill-color: #D2E3FC;\n",
              "      --hover-bg-color: #434B5C;\n",
              "      --hover-fill-color: #FFFFFF;\n",
              "      --disabled-bg-color: #3B4455;\n",
              "      --disabled-fill-color: #666;\n",
              "  }\n",
              "\n",
              "  .colab-df-quickchart {\n",
              "    background-color: var(--bg-color);\n",
              "    border: none;\n",
              "    border-radius: 50%;\n",
              "    cursor: pointer;\n",
              "    display: none;\n",
              "    fill: var(--fill-color);\n",
              "    height: 32px;\n",
              "    padding: 0;\n",
              "    width: 32px;\n",
              "  }\n",
              "\n",
              "  .colab-df-quickchart:hover {\n",
              "    background-color: var(--hover-bg-color);\n",
              "    box-shadow: 0 1px 2px rgba(60, 64, 67, 0.3), 0 1px 3px 1px rgba(60, 64, 67, 0.15);\n",
              "    fill: var(--button-hover-fill-color);\n",
              "  }\n",
              "\n",
              "  .colab-df-quickchart-complete:disabled,\n",
              "  .colab-df-quickchart-complete:disabled:hover {\n",
              "    background-color: var(--disabled-bg-color);\n",
              "    fill: var(--disabled-fill-color);\n",
              "    box-shadow: none;\n",
              "  }\n",
              "\n",
              "  .colab-df-spinner {\n",
              "    border: 2px solid var(--fill-color);\n",
              "    border-color: transparent;\n",
              "    border-bottom-color: var(--fill-color);\n",
              "    animation:\n",
              "      spin 1s steps(1) infinite;\n",
              "  }\n",
              "\n",
              "  @keyframes spin {\n",
              "    0% {\n",
              "      border-color: transparent;\n",
              "      border-bottom-color: var(--fill-color);\n",
              "      border-left-color: var(--fill-color);\n",
              "    }\n",
              "    20% {\n",
              "      border-color: transparent;\n",
              "      border-left-color: var(--fill-color);\n",
              "      border-top-color: var(--fill-color);\n",
              "    }\n",
              "    30% {\n",
              "      border-color: transparent;\n",
              "      border-left-color: var(--fill-color);\n",
              "      border-top-color: var(--fill-color);\n",
              "      border-right-color: var(--fill-color);\n",
              "    }\n",
              "    40% {\n",
              "      border-color: transparent;\n",
              "      border-right-color: var(--fill-color);\n",
              "      border-top-color: var(--fill-color);\n",
              "    }\n",
              "    60% {\n",
              "      border-color: transparent;\n",
              "      border-right-color: var(--fill-color);\n",
              "    }\n",
              "    80% {\n",
              "      border-color: transparent;\n",
              "      border-right-color: var(--fill-color);\n",
              "      border-bottom-color: var(--fill-color);\n",
              "    }\n",
              "    90% {\n",
              "      border-color: transparent;\n",
              "      border-bottom-color: var(--fill-color);\n",
              "    }\n",
              "  }\n",
              "</style>\n",
              "\n",
              "  <script>\n",
              "    async function quickchart(key) {\n",
              "      const quickchartButtonEl =\n",
              "        document.querySelector('#' + key + ' button');\n",
              "      quickchartButtonEl.disabled = true;  // To prevent multiple clicks.\n",
              "      quickchartButtonEl.classList.add('colab-df-spinner');\n",
              "      try {\n",
              "        const charts = await google.colab.kernel.invokeFunction(\n",
              "            'suggestCharts', [key], {});\n",
              "      } catch (error) {\n",
              "        console.error('Error during call to suggestCharts:', error);\n",
              "      }\n",
              "      quickchartButtonEl.classList.remove('colab-df-spinner');\n",
              "      quickchartButtonEl.classList.add('colab-df-quickchart-complete');\n",
              "    }\n",
              "    (() => {\n",
              "      let quickchartButtonEl =\n",
              "        document.querySelector('#df-a6abbb4c-a55d-41c5-b6ec-8006b8f32f95 button');\n",
              "      quickchartButtonEl.style.display =\n",
              "        google.colab.kernel.accessAllowed ? 'block' : 'none';\n",
              "    })();\n",
              "  </script>\n",
              "</div>\n",
              "\n",
              "  <div id=\"id_b9a37da0-df9e-40e3-8d99-2cb403dd6a9b\">\n",
              "    <style>\n",
              "      .colab-df-generate {\n",
              "        background-color: #E8F0FE;\n",
              "        border: none;\n",
              "        border-radius: 50%;\n",
              "        cursor: pointer;\n",
              "        display: none;\n",
              "        fill: #1967D2;\n",
              "        height: 32px;\n",
              "        padding: 0 0 0 0;\n",
              "        width: 32px;\n",
              "      }\n",
              "\n",
              "      .colab-df-generate:hover {\n",
              "        background-color: #E2EBFA;\n",
              "        box-shadow: 0px 1px 2px rgba(60, 64, 67, 0.3), 0px 1px 3px 1px rgba(60, 64, 67, 0.15);\n",
              "        fill: #174EA6;\n",
              "      }\n",
              "\n",
              "      [theme=dark] .colab-df-generate {\n",
              "        background-color: #3B4455;\n",
              "        fill: #D2E3FC;\n",
              "      }\n",
              "\n",
              "      [theme=dark] .colab-df-generate:hover {\n",
              "        background-color: #434B5C;\n",
              "        box-shadow: 0px 1px 3px 1px rgba(0, 0, 0, 0.15);\n",
              "        filter: drop-shadow(0px 1px 2px rgba(0, 0, 0, 0.3));\n",
              "        fill: #FFFFFF;\n",
              "      }\n",
              "    </style>\n",
              "    <button class=\"colab-df-generate\" onclick=\"generateWithVariable('x_resampled_df')\"\n",
              "            title=\"Generate code using this dataframe.\"\n",
              "            style=\"display:none;\">\n",
              "\n",
              "  <svg xmlns=\"http://www.w3.org/2000/svg\" height=\"24px\"viewBox=\"0 0 24 24\"\n",
              "       width=\"24px\">\n",
              "    <path d=\"M7,19H8.4L18.45,9,17,7.55,7,17.6ZM5,21V16.75L18.45,3.32a2,2,0,0,1,2.83,0l1.4,1.43a1.91,1.91,0,0,1,.58,1.4,1.91,1.91,0,0,1-.58,1.4L9.25,21ZM18.45,9,17,7.55Zm-12,3A5.31,5.31,0,0,0,4.9,8.1,5.31,5.31,0,0,0,1,6.5,5.31,5.31,0,0,0,4.9,4.9,5.31,5.31,0,0,0,6.5,1,5.31,5.31,0,0,0,8.1,4.9,5.31,5.31,0,0,0,12,6.5,5.46,5.46,0,0,0,6.5,12Z\"/>\n",
              "  </svg>\n",
              "    </button>\n",
              "    <script>\n",
              "      (() => {\n",
              "      const buttonEl =\n",
              "        document.querySelector('#id_b9a37da0-df9e-40e3-8d99-2cb403dd6a9b button.colab-df-generate');\n",
              "      buttonEl.style.display =\n",
              "        google.colab.kernel.accessAllowed ? 'block' : 'none';\n",
              "\n",
              "      buttonEl.onclick = () => {\n",
              "        google.colab.notebook.generateWithVariable('x_resampled_df');\n",
              "      }\n",
              "      })();\n",
              "    </script>\n",
              "  </div>\n",
              "\n",
              "    </div>\n",
              "  </div>\n"
            ],
            "application/vnd.google.colaboratory.intrinsic+json": {
              "type": "dataframe",
              "variable_name": "x_resampled_df",
              "summary": "{\n  \"name\": \"x_resampled_df\",\n  \"rows\": 800,\n  \"fields\": [\n    {\n      \"column\": \"Pregnancies\",\n      \"properties\": {\n        \"dtype\": \"number\",\n        \"std\": 0.19909845069390006,\n        \"min\": 0.0,\n        \"max\": 1.0,\n        \"num_unique_values\": 163,\n        \"samples\": [\n          0.7881473373174925,\n          0.03680871592260848,\n          0.11863342645684324\n        ],\n        \"semantic_type\": \"\",\n        \"description\": \"\"\n      }\n    },\n    {\n      \"column\": \"Glucose\",\n      \"properties\": {\n        \"dtype\": \"number\",\n        \"std\": 0.15891283685535132,\n        \"min\": 0.0,\n        \"max\": 1.0,\n        \"num_unique_values\": 314,\n        \"samples\": [\n          0.9470383813522862,\n          0.6733668341708543,\n          0.5920617519146547\n        ],\n        \"semantic_type\": \"\",\n        \"description\": \"\"\n      }\n    },\n    {\n      \"column\": \"BloodPressure\",\n      \"properties\": {\n        \"dtype\": \"number\",\n        \"std\": 0.15611221999152433,\n        \"min\": 0.0,\n        \"max\": 1.0,\n        \"num_unique_values\": 208,\n        \"samples\": [\n          0.4891770768989808,\n          0.36065573770491804,\n          0.6764787273390447\n        ],\n        \"semantic_type\": \"\",\n        \"description\": \"\"\n      }\n    },\n    {\n      \"column\": \"SkinThickness\",\n      \"properties\": {\n        \"dtype\": \"number\",\n        \"std\": 0.10244737895056294,\n        \"min\": 0.0,\n        \"max\": 0.9999999999999999,\n        \"num_unique_values\": 179,\n        \"samples\": [\n          0.28376721871748056,\n          0.15217391304347824,\n          0.15801623631157719\n        ],\n        \"semantic_type\": \"\",\n        \"description\": \"\"\n      }\n    },\n    {\n      \"column\": \"Insulin\",\n      \"properties\": {\n        \"dtype\": \"number\",\n        \"std\": 0.12949824073831845,\n        \"min\": 0.0,\n        \"max\": 0.8794326241134751,\n        \"num_unique_values\": 271,\n        \"samples\": [\n          0.26595744680851063,\n          0.33687943262411346,\n          0.38534278959810875\n        ],\n        \"semantic_type\": \"\",\n        \"description\": \"\"\n      }\n    },\n    {\n      \"column\": \"BMI\",\n      \"properties\": {\n        \"dtype\": \"number\",\n        \"std\": 0.11412610193018906,\n        \"min\": 0.0,\n        \"max\": 1.0,\n        \"num_unique_values\": 417,\n        \"samples\": [\n          0.6363636363636365,\n          0.5126573200495976,\n          0.5152260374332821\n        ],\n        \"semantic_type\": \"\",\n        \"description\": \"\"\n      }\n    },\n    {\n      \"column\": \"DiabetesPedigreeFunction\",\n      \"properties\": {\n        \"dtype\": \"number\",\n        \"std\": 0.14242621864355143,\n        \"min\": 0.0025619128949615697,\n        \"max\": 0.9611443210930828,\n        \"num_unique_values\": 626,\n        \"samples\": [\n          0.2780146655821879,\n          0.28394206292769697,\n          0.07301451750640478\n        ],\n        \"semantic_type\": \"\",\n        \"description\": \"\"\n      }\n    },\n    {\n      \"column\": \"Age\",\n      \"properties\": {\n        \"dtype\": \"number\",\n        \"std\": 0.19019522992962226,\n        \"min\": 0.0,\n        \"max\": 1.0,\n        \"num_unique_values\": 220,\n        \"samples\": [\n          0.24577503806933892,\n          0.07355756282248106,\n          0.3078111326963142\n        ],\n        \"semantic_type\": \"\",\n        \"description\": \"\"\n      }\n    }\n  ]\n}"
            }
          },
          "metadata": {},
          "execution_count": 56
        }
      ]
    },
    {
      "cell_type": "markdown",
      "source": [
        "### Пункты d-f. Обучение моделей с улучшенным бейзлайном и сравнение\n",
        "#### KNN"
      ],
      "metadata": {
        "id": "8OYAHku10Z2k"
      }
    },
    {
      "cell_type": "markdown",
      "source": [
        "Выполним обучение модели классификации с использованием алгоритма k ближайших соседей (K-Nearest Neighbors, KNN). Сначала создается объект модели knn с параметром n_neighbors=7, что означает использование 3 ближайших соседей для классификации. Затем модель обучается на сбалансированных данных x_resampled и y_resampled, которые были получены с помощью метода SMOTE для устранения проблемы несбалансированности классов. После обучения модель делает предсказания на тестовой выборке x_test, и результаты этих предсказаний сохраняются в переменной y_pred. В завершение вызывается функция print_evaluation, которая выводит метрики оценки модели, такие как точность, F1-скор и отчет по классификации, для сравнения предсказанных значений с истинными значениями из y_test."
      ],
      "metadata": {
        "id": "uX-a92_xHnxM"
      }
    },
    {
      "cell_type": "code",
      "source": [
        "knn = KNeighborsClassifier(n_neighbors=7)\n",
        "knn.fit(x_resampled, y_resampled)\n",
        "y_pred = knn.predict(x_test)\n",
        "\n",
        "print_evaluation(y_test, y_pred)"
      ],
      "metadata": {
        "colab": {
          "base_uri": "https://localhost:8080/"
        },
        "id": "cvMC6KNuqRKf",
        "outputId": "a1f3dbc7-01c2-4bc4-abc3-37943e8ddc1f"
      },
      "execution_count": 57,
      "outputs": [
        {
          "output_type": "stream",
          "name": "stdout",
          "text": [
            "\n",
            "\n",
            "Accuracy: 0.6558441558441559\n",
            "\n",
            "\n",
            "\n",
            "F1: 0.5954198473282443\n",
            "\n",
            "\n",
            "\n",
            "Classification_report:               precision    recall  f1-score   support\n",
            "\n",
            "           0       0.81      0.62      0.70       100\n",
            "           1       0.51      0.72      0.60        54\n",
            "\n",
            "    accuracy                           0.66       154\n",
            "   macro avg       0.66      0.67      0.65       154\n",
            "weighted avg       0.70      0.66      0.66       154\n",
            "\n",
            "\n"
          ]
        }
      ]
    },
    {
      "cell_type": "markdown",
      "source": [
        "Выведем матрицу ошибок для улучшенного бейзлайна KNN"
      ],
      "metadata": {
        "id": "S72NO1qoH1D5"
      }
    },
    {
      "cell_type": "code",
      "source": [
        "show_confusion_matrix(y_test, y_pred)"
      ],
      "metadata": {
        "colab": {
          "base_uri": "https://localhost:8080/",
          "height": 564
        },
        "id": "apH963PVH99c",
        "outputId": "dbbbfdcc-d3a3-438e-b7de-54dd0ade0e9f"
      },
      "execution_count": 58,
      "outputs": [
        {
          "output_type": "display_data",
          "data": {
            "text/plain": [
              "<Figure size 800x600 with 2 Axes>"
            ],
            "image/png": "[encoded data removed]"
          },
          "metadata": {}
        }
      ]
    },
    {
      "cell_type": "markdown",
      "source": [
        "### Сравнение с прошлой моделью\n",
        "\n",
        "Прошлые результаты:\n",
        "  * Accuracy: 0.6883\n",
        "  * F1: 0.5862\n",
        "\n",
        "Новые результаты:\n",
        "  * Accuracy: 0.6558\n",
        "  * F1: 0.5954  \n",
        "\n",
        "  \n",
        "Вывод: Модель с улучшенным бейзлайном имеет немного более высокий F1-score, но ее точность (accuracy) немного ниже, чем у базовой модели KNN.  Улучшение F1-score при снижении точности может указывать на лучшее выделение меньших классов, но с потерей общей точности модели."
      ],
      "metadata": {
        "id": "8kYi-zNshN_k"
      }
    },
    {
      "cell_type": "markdown",
      "source": [
        "#### Логистическая регрессия"
      ],
      "metadata": {
        "id": "92IfYaJ80xhZ"
      }
    },
    {
      "cell_type": "markdown",
      "source": [
        "Используем алгоритм логистической регрессии для классификации. Сначала создается объект модели logistic_regression с параметром max_iter=100000, который устанавливает максимальное количество итераций для алгоритма. Затем модель обучается на сбалансированных данных, полученных после применения SMOTE, с помощью метода fit, где x_resampled — это признаки, а y_resampled — целевая переменная. После обучения модель делает предсказания на тестовой выборке x_test, и результаты предсказаний сохраняются в переменной y_pred2. Далее рассчитывается среднеквадратичная ошибка (MSE) между предсказанными и истинными значениями (y_test) с помощью функции mean_squared_error. В завершение вызывается функция print_evaluation, которая выводит метрики оценки модели, такие как точность, F1-скор и отчет по классификации."
      ],
      "metadata": {
        "id": "4t_CfokVINsi"
      }
    },
    {
      "cell_type": "code",
      "source": [
        "logistic_regression = LogisticRegression(max_iter=100000)\n",
        "logistic_regression.fit(x_resampled, y_resampled)\n",
        "\n",
        "y_pred2 = logistic_regression.predict(x_test)\n",
        "print(\"MSE score:\", mean_squared_error(y_test, y_pred2))\n",
        "print_evaluation(y_test, y_pred2)"
      ],
      "metadata": {
        "colab": {
          "base_uri": "https://localhost:8080/"
        },
        "id": "UhETd-7-tzPY",
        "outputId": "625dee5e-968f-43e6-e362-6f3fe94c4953"
      },
      "execution_count": 59,
      "outputs": [
        {
          "output_type": "stream",
          "name": "stdout",
          "text": [
            "MSE score: 0.2597402597402597\n",
            "\n",
            "\n",
            "Accuracy: 0.7402597402597403\n",
            "\n",
            "\n",
            "\n",
            "F1: 0.6610169491525424\n",
            "\n",
            "\n",
            "\n",
            "Classification_report:               precision    recall  f1-score   support\n",
            "\n",
            "           0       0.83      0.75      0.79       100\n",
            "           1       0.61      0.72      0.66        54\n",
            "\n",
            "    accuracy                           0.74       154\n",
            "   macro avg       0.72      0.74      0.73       154\n",
            "weighted avg       0.75      0.74      0.74       154\n",
            "\n",
            "\n"
          ]
        }
      ]
    },
    {
      "cell_type": "markdown",
      "source": [
        "Выведем матрицу ошибок для улучшенного бейзлайна логистической регрессии"
      ],
      "metadata": {
        "id": "DSRutrM6ISH6"
      }
    },
    {
      "cell_type": "code",
      "source": [
        "show_confusion_matrix(y_test, y_pred2)"
      ],
      "metadata": {
        "colab": {
          "base_uri": "https://localhost:8080/",
          "height": 564
        },
        "id": "SpiotOFAIX0x",
        "outputId": "cc0b6547-7301-4565-9dff-2969308c897e"
      },
      "execution_count": 60,
      "outputs": [
        {
          "output_type": "display_data",
          "data": {
            "text/plain": [
              "<Figure size 800x600 with 2 Axes>"
            ],
            "image/png": "[encoded data removed]"
          },
          "metadata": {}
        }
      ]
    },
    {
      "cell_type": "markdown",
      "source": [
        "### Сравнение с прошлой моделью\n",
        "\n",
        "Прошлые результаты:\n",
        "  * MSE: 0.2532\n",
        "  * Accuracy: 0.7468\n",
        "  * F1: 0.6549\n",
        "  \n",
        "Новые результаты:\n",
        "  * MSE: 0.2597\n",
        "  * Accuracy: 0.7403\n",
        "  * F1: 0.6610\n",
        "\n",
        " Вывод: Повышение F1-score с небольшой потерей точности и увеличением MSE может указывать на улучшение способности модели работать с дисбалансом классов, но за счет общей стабильности модели."
      ],
      "metadata": {
        "id": "zxECdZbihzMm"
      }
    },
    {
      "cell_type": "markdown",
      "source": [
        "#### Линейная регрессия"
      ],
      "metadata": {
        "id": "HrJG9eS_0sUW"
      }
    },
    {
      "cell_type": "markdown",
      "source": [
        "Испольщуем метод линейной регрессии для классификации. Сначала создается объект модели linear_regression, который затем обучается на сбалансированных данных, полученных с помощью SMOTE, с использованием метода fit. Признаки для обучения передаются в переменной x_resampled, а целевая переменная — в y_resampled. После обучения модель делает предсказания на тестовой выборке x_test, и результаты сохраняются в переменной y_pred3. Далее вычисляется среднеквадратичная ошибка (MSE) между предсказанными значениями и истинными метками с помощью функции mean_squared_error. В конце вызывается функция print_evaluation, которая выводит различные метрики оценки модели, такие как точность, F1-скор и отчет по классификации."
      ],
      "metadata": {
        "id": "JaLBpVrDIjaW"
      }
    },
    {
      "cell_type": "code",
      "source": [
        "linear_regression = LinearRegression()\n",
        "linear_regression.fit(x_resampled, y_resampled)\n",
        "\n",
        "y_pred3 = linear_regression.predict(x_test)\n",
        "print(\"MSE score:\", mean_squared_error(y_test, y_pred3))\n",
        "print_evaluation(y_test, y_pred3)"
      ],
      "metadata": {
        "colab": {
          "base_uri": "https://localhost:8080/"
        },
        "id": "QLu_sNqauIR5",
        "outputId": "45af61c4-2d13-4004-8698-05d843d75649"
      },
      "execution_count": 61,
      "outputs": [
        {
          "output_type": "stream",
          "name": "stdout",
          "text": [
            "MSE score: 0.1809370373315439\n",
            "\n",
            "\n",
            "Accuracy: 0.7337662337662337\n",
            "\n",
            "\n",
            "\n",
            "F1: 0.6434782608695652\n",
            "\n",
            "\n",
            "\n",
            "Classification_report:               precision    recall  f1-score   support\n",
            "\n",
            "           0       0.82      0.76      0.79       100\n",
            "           1       0.61      0.69      0.64        54\n",
            "\n",
            "    accuracy                           0.73       154\n",
            "   macro avg       0.71      0.72      0.72       154\n",
            "weighted avg       0.74      0.73      0.74       154\n",
            "\n",
            "\n"
          ]
        }
      ]
    },
    {
      "cell_type": "markdown",
      "source": [
        "### Сравнение с прошлой моделью\n",
        "\n",
        "Прошлые результаты:\n",
        "  * MSE: 0.1710\n",
        "  * Accuracy: 0.7597\n",
        "  * F1: 0.6667\n",
        "\n",
        "Новые результаты:\n",
        "  * MSE: 0.6610\n",
        "  * Accuracy: 0.7338\n",
        "  * F1: 0.6435\n",
        "\n",
        "Вывод:  Ухудшение всех метрик у линейной регрессии с улучшенным бейзлайном указывает на ухудшение общей производительности модели, что может быть связано с тем, что линейная модель плохо справляется с таким улучшением."
      ],
      "metadata": {
        "id": "D85C0pFEigWj"
      }
    },
    {
      "cell_type": "markdown",
      "source": [
        "#### Решающее дерево"
      ],
      "metadata": {
        "id": "nnAsiznG03FX"
      }
    },
    {
      "cell_type": "markdown",
      "source": [
        "Используем классификатор на основе дерева решений для решения задачи классификации. Сначала создается объект модели decision_tree, где в качестве критерия разделения выбирается \"энтропия\", а для воспроизводимости результатов устанавливается фиксированное значение random_state. Модель обучается на сбалансированных данных, полученных с помощью SMOTE, с использованием метода fit, где признаки передаются в переменной x_resampled, а целевая переменная — в y_resampled. После обучения модель делает предсказания на тестовой выборке x_test, и результаты сохраняются в переменной y_pred4. Затем вызывается функция print_evaluation, которая выводит метрики оценки модели, такие как точность, F1-скор и отчет по классификации, чтобы оценить производительность модели на тестовых данных.\n",
        "\n",
        "\n",
        "\n",
        "\n",
        "\n",
        "\n"
      ],
      "metadata": {
        "id": "KvHPFKbIIsPW"
      }
    },
    {
      "cell_type": "code",
      "source": [
        "decision_tree = DecisionTreeClassifier(criterion=\"entropy\", random_state=42)\n",
        "decision_tree.fit(x_resampled, y_resampled)\n",
        "y_pred4 = decision_tree.predict(x_test)\n",
        "print_evaluation(y_test, y_pred4)"
      ],
      "metadata": {
        "colab": {
          "base_uri": "https://localhost:8080/"
        },
        "id": "xjTheI__vA-x",
        "outputId": "5f44f8b2-1eee-463f-9a66-6cf0f9c6c5ce"
      },
      "execution_count": 62,
      "outputs": [
        {
          "output_type": "stream",
          "name": "stdout",
          "text": [
            "\n",
            "\n",
            "Accuracy: 0.7532467532467533\n",
            "\n",
            "\n",
            "\n",
            "F1: 0.6607142857142857\n",
            "\n",
            "\n",
            "\n",
            "Classification_report:               precision    recall  f1-score   support\n",
            "\n",
            "           0       0.82      0.79      0.81       100\n",
            "           1       0.64      0.69      0.66        54\n",
            "\n",
            "    accuracy                           0.75       154\n",
            "   macro avg       0.73      0.74      0.73       154\n",
            "weighted avg       0.76      0.75      0.76       154\n",
            "\n",
            "\n"
          ]
        }
      ]
    },
    {
      "cell_type": "markdown",
      "source": [
        "Выведем матрицу ошибок для улучшенного бейзлайна решающего дерева"
      ],
      "metadata": {
        "id": "CoebeZ0qIvzp"
      }
    },
    {
      "cell_type": "code",
      "source": [
        "show_confusion_matrix(y_test, y_pred4)"
      ],
      "metadata": {
        "colab": {
          "base_uri": "https://localhost:8080/",
          "height": 564
        },
        "id": "s6t6UOSzI0WE",
        "outputId": "6acb2a38-ecef-4fad-de08-4be6ecc735d8"
      },
      "execution_count": 63,
      "outputs": [
        {
          "output_type": "display_data",
          "data": {
            "text/plain": [
              "<Figure size 800x600 with 2 Axes>"
            ],
            "image/png": "[encoded data removed]"
          },
          "metadata": {}
        }
      ]
    },
    {
      "cell_type": "markdown",
      "source": [
        "### Сравнение с прошлой моделью\n",
        "\n",
        "Прошлые результаты:\n",
        "\n",
        "  * Accuracy: 0.7468\n",
        "  * F1: 0.6723\n",
        "\n",
        "Новые результаты:\n",
        "  * Accuracy: 0.7532\n",
        "  * F1: 0.6607\n",
        "\n",
        "Вывод: Улучшение точности при снижении F1-score может указывать на потерю способности модели работать с менее представленными классами, что может уменьшить ее способность к правильной классификации."
      ],
      "metadata": {
        "id": "4mc6Us5-i3lq"
      }
    },
    {
      "cell_type": "markdown",
      "source": [
        "#### Случайный лес"
      ],
      "metadata": {
        "id": "EL8sJLAz06uz"
      }
    },
    {
      "cell_type": "markdown",
      "source": [],
      "metadata": {
        "id": "I6k4nqmLI2yz"
      }
    },
    {
      "cell_type": "markdown",
      "source": [
        "Используем классификатор случайного леса для решения задачи классификации. Сначала создается объект модели random_forest с параметром n_estimators=100, что указывает на использование 100 деревьев в лесу, и фиксируется значение random_state=42 для обеспечения воспроизводимости результатов. Модель обучается на сбалансированных данных, полученных с помощью SMOTE, с использованием метода fit, где признаки передаются в переменной x_resampled, а целевая переменная — в y_resampled. После обучения модель делает предсказания на тестовой выборке x_test, и результаты сохраняются в переменной y_pred5. Затем вызывается функция print_evaluation, которая выводит метрики оценки модели, такие как точность, F1-скор и отчет по классификации, для анализа производительности модели на тестовых данных.\n",
        "\n",
        "\n",
        "\n",
        "\n",
        "\n",
        "\n"
      ],
      "metadata": {
        "id": "ctFqGN7rI-Fw"
      }
    },
    {
      "cell_type": "code",
      "source": [
        "random_forest = RandomForestClassifier(n_estimators=100, random_state=42)\n",
        "random_forest.fit(x_resampled, y_resampled)\n",
        "y_pred5 = random_forest.predict(x_test)\n",
        "print_evaluation(y_test, y_pred5)"
      ],
      "metadata": {
        "colab": {
          "base_uri": "https://localhost:8080/"
        },
        "id": "OvW3frqsvkGa",
        "outputId": "a0ea021b-84ee-4273-aa91-0e2feea56406"
      },
      "execution_count": 64,
      "outputs": [
        {
          "output_type": "stream",
          "name": "stdout",
          "text": [
            "\n",
            "\n",
            "Accuracy: 0.7337662337662337\n",
            "\n",
            "\n",
            "\n",
            "F1: 0.6495726495726496\n",
            "\n",
            "\n",
            "\n",
            "Classification_report:               precision    recall  f1-score   support\n",
            "\n",
            "           0       0.82      0.75      0.79       100\n",
            "           1       0.60      0.70      0.65        54\n",
            "\n",
            "    accuracy                           0.73       154\n",
            "   macro avg       0.71      0.73      0.72       154\n",
            "weighted avg       0.75      0.73      0.74       154\n",
            "\n",
            "\n"
          ]
        }
      ]
    },
    {
      "cell_type": "markdown",
      "source": [
        "Выведем матрицу ошибок для улучшенного бейзлайна случайного леса"
      ],
      "metadata": {
        "id": "XvAnSR6UJJGX"
      }
    },
    {
      "cell_type": "code",
      "source": [
        "show_confusion_matrix(y_test, y_pred5)"
      ],
      "metadata": {
        "colab": {
          "base_uri": "https://localhost:8080/",
          "height": 564
        },
        "id": "B9PSJ03zJPKM",
        "outputId": "fe93df17-e24b-4ecf-a79c-83d5cf28ff6e"
      },
      "execution_count": 65,
      "outputs": [
        {
          "output_type": "display_data",
          "data": {
            "text/plain": [
              "<Figure size 800x600 with 2 Axes>"
            ],
            "image/png": "[encoded data removed]"
          },
          "metadata": {}
        }
      ]
    },
    {
      "cell_type": "markdown",
      "source": [
        "### Сравнение с прошлой моделью\n",
        "\n",
        "Прошлые результаты:\n",
        "\n",
        "  * Accuracy: 0.7208\n",
        "  * F1: 0.6126\n",
        "\n",
        "Новые результаты:\n",
        "\n",
        "  * Accuracy: 0.7338\n",
        "  * F1: 0.6496\n",
        "\n",
        "Вывод: Улучшение как точности, так и F1-score говорит о том, что улучшенный бейзлайн способствует лучшему обучению модели, улучшая как общую точность, так и способность к выделению важных классов."
      ],
      "metadata": {
        "id": "2L-jliWZjX_-"
      }
    },
    {
      "cell_type": "markdown",
      "source": [
        "#### Градиентный бустинг"
      ],
      "metadata": {
        "id": "7hcwmy8z1Ebx"
      }
    },
    {
      "cell_type": "markdown",
      "source": [
        "Используем классификатор градиентного бустинга для решения задачи классификации. Сначала создается объект модели gradient_boosting с параметрами n_estimators=100, что указывает на использование 100 базовых моделей (деревьев), и learning_rate=0.1, который контролирует шаг обновления в процессе обучения, а также фиксируется значение random_state=42 для обеспечения воспроизводимости. Модель обучается на сбалансированных данных, полученных с помощью SMOTE, с использованием метода fit, где признаки передаются в переменной x_resampled, а целевая переменная — в y_resampled. После обучения модель делает предсказания на тестовой выборке x_test, и результаты сохраняются в переменной y_pred6. Затем вызывается функция print_evaluation, которая выводит метрики оценки модели, такие как точность, F1-скор и отчет по классификации, для анализа производительности модели на тестовых данных."
      ],
      "metadata": {
        "id": "o-LbnUwfJXcf"
      }
    },
    {
      "cell_type": "code",
      "source": [
        "gradient_boosting = GradientBoostingClassifier(n_estimators=100, learning_rate=0.1, random_state=42)\n",
        "gradient_boosting.fit(x_resampled, y_resampled)\n",
        "y_pred6 = gradient_boosting.predict(x_test)\n",
        "print_evaluation(y_test, y_pred6)"
      ],
      "metadata": {
        "colab": {
          "base_uri": "https://localhost:8080/"
        },
        "id": "0d6uw72Sv8fy",
        "outputId": "bf927506-18f4-4b8f-8576-9abbe1d3f454"
      },
      "execution_count": 66,
      "outputs": [
        {
          "output_type": "stream",
          "name": "stdout",
          "text": [
            "\n",
            "\n",
            "Accuracy: 0.7662337662337663\n",
            "\n",
            "\n",
            "\n",
            "F1: 0.6896551724137931\n",
            "\n",
            "\n",
            "\n",
            "Classification_report:               precision    recall  f1-score   support\n",
            "\n",
            "           0       0.85      0.78      0.81       100\n",
            "           1       0.65      0.74      0.69        54\n",
            "\n",
            "    accuracy                           0.77       154\n",
            "   macro avg       0.75      0.76      0.75       154\n",
            "weighted avg       0.78      0.77      0.77       154\n",
            "\n",
            "\n"
          ]
        }
      ]
    },
    {
      "cell_type": "markdown",
      "source": [
        "Выведем матрицу ошибок для улучшенного бейзлайна градиентного бустинга"
      ],
      "metadata": {
        "id": "dLiZbBjOJaqo"
      }
    },
    {
      "cell_type": "code",
      "source": [
        "show_confusion_matrix(y_test, y_pred6)"
      ],
      "metadata": {
        "colab": {
          "base_uri": "https://localhost:8080/",
          "height": 564
        },
        "id": "4WK4FW8mJhlB",
        "outputId": "c0a267ab-5dee-48f8-8c2f-c243a1ecb0b2"
      },
      "execution_count": 67,
      "outputs": [
        {
          "output_type": "display_data",
          "data": {
            "text/plain": [
              "<Figure size 800x600 with 2 Axes>"
            ],
            "image/png": "[encoded data removed]"
          },
          "metadata": {}
        }
      ]
    },
    {
      "cell_type": "markdown",
      "source": [
        "### Сравнение с прошлой моделью\n",
        "\n",
        "Прошлые результаты:\n",
        "\n",
        "  * Accuracy: 0.7403\n",
        "  * F1: 0.6491\n",
        "\n",
        "Новые результаты:\n",
        "\n",
        "  * Accuracy: 0.7662\n",
        "  * F1: 0.6897\n",
        "\n",
        "Значительное улучшение обеих метрик указывает на то, что улучшенный бейзлайн существенно повысил производительность модели, улучшая как общую точность, так и способность к классификации.\n"
      ],
      "metadata": {
        "id": "hE9jQ3RDjvRq"
      }
    },
    {
      "cell_type": "markdown",
      "source": [
        "### g. Общий вывод\n",
        "\n",
        "\n",
        "\n",
        "1.   Улучшение бейзлайна привело к улучшению результатов у Случайного леса и Градиентного бустинга, где улучшились как точность, так и F1-score.\n",
        "2.   Логистическая регрессия и KNN показали небольшие улучшения в F1-score, но потеряли в точности.\n",
        "3. Линейная регрессия значительно ухудшилась по всем меткам, что указывает на неэффективность улучшенного бейзлайна для этой модели\n",
        "\n",
        "\n"
      ],
      "metadata": {
        "id": "FEZ0fjLJj8CY"
      }
    },
    {
      "cell_type": "markdown",
      "source": [
        "## 4. Имплементация алгоритма машинного обучения\n",
        "\n",
        "a.\tСамостоятельно имплементировать алгоритмы машинного обучения (для классификации и регрессии)  \n",
        "b.\tОбучить имплементированные модели (для классификации и регрессии) для выбранных наборов данных  \n",
        "c.\tОценить качество имплементированных моделей (для классификации и регрессии) по выбранным метрикам на выбранных наборах данных  \n",
        "d.\tСравнить результаты имплементированных моделей в сравнении с результатами из пункта 2   \n",
        "e.\tСделать выводы  \n",
        "f.\tДобавить техники из улучшенного бейзлайна (пункт 3с)  \n",
        "g.\tОбучить модели (для классификации и регрессии) для выбранных наборов данных  \n",
        "h.\tОценить качество моделей (для классификации и регрессии) по выбранным метрикам на выбранных наборах данных  \n",
        "i.\tСравнить результаты моделей в сравнении с результатами из пункта 3  \n",
        "j.\tСделать выводы  \n",
        "\n",
        "### Обучение моделей самостоятельной реализации с исходным бейзлайном\n",
        "#### KNN"
      ],
      "metadata": {
        "id": "b2Rb4M-U1J50"
      }
    },
    {
      "cell_type": "markdown",
      "source": [
        "Реализуем модель K-Nearest Neighbors (KNN) с нуля в виде класса MyKNN. В начале импортируются необходимые библиотеки: numpy для работы с массивами данных и вычислений, pandas для работы с табличными данными (хотя в этом коде она не используется, возможно, она понадобится для обработки данных до передачи в модель), а также train_test_split для разделения данных на обучающую и тестовую выборки и accuracy_score для оценки точности модели (но эта функция не используется в самом коде).\n",
        "\n",
        "Класс MyKNN содержит конструктор и два метода. Конструктор __init__(self, num_neighbors=3) инициализирует модель, задавая параметр num_neighbors, который указывает количество ближайших соседей, учитываемых при классификации (по умолчанию их 3). Метод fit(self, features, labels) обучает модель, принимая на вход два аргумента: features (признаки обучающих данных) и labels (метки классов для этих данных), которые затем сохраняются в виде массивов x_train и y_train. Метод predict(self, test_features) делает предсказания для новых данных. Для каждого тестового примера вычисляется евклидово расстояние между ним и всеми обучающими примерами, используя функцию np.linalg.norm. Затем, на основе этих расстояний, выбираются индексы ближайших соседей, и извлекаются соответствующие метки классов. С помощью голосования определяется наиболее частый класс среди ближайших соседей, который и становится предсказанием для данного тестового примера. Этот процесс повторяется для всех тестовых данных.\n",
        "\n",
        "В результате создается базовая реализация алгоритма KNN, где основной акцент сделан на вычислении расстояний между точками и выборе наиболее часто встречающегося класса среди ближайших соседей."
      ],
      "metadata": {
        "id": "cUTzf670mmM9"
      }
    },
    {
      "cell_type": "code",
      "source": [
        "import numpy as np\n",
        "import pandas as pd\n",
        "from sklearn.model_selection import train_test_split\n",
        "from sklearn.metrics import accuracy_score\n",
        "\n",
        "class MyKNN:\n",
        "    def __init__(self, num_neighbors=3):\n",
        "        self.num_neighbors = num_neighbors\n",
        "\n",
        "    def fit(self, features, labels):\n",
        "        self.x_train = np.array(features)\n",
        "        self.y_train = np.array(labels)\n",
        "\n",
        "    def predict(self, test_features):\n",
        "        predictions = []\n",
        "        features = np.array(test_features, dtype=float)\n",
        "        for feature in features:\n",
        "            distances = np.linalg.norm(self.x_train - feature, axis=1)\n",
        "            nearest_indices = np.argsort(distances)[:self.num_neighbors]\n",
        "            nearest_labels = self.y_train[nearest_indices]\n",
        "            predictions.append(np.bincount(nearest_labels).argmax())\n",
        "        return np.array(predictions)"
      ],
      "metadata": {
        "id": "4ll65haAwwbU"
      },
      "execution_count": 19,
      "outputs": []
    },
    {
      "cell_type": "markdown",
      "source": [
        "Обучим новую модель"
      ],
      "metadata": {
        "id": "ig_65jLFmrYS"
      }
    },
    {
      "cell_type": "code",
      "source": [
        "modelMyKNN = MyKNN(num_neighbors=3)\n",
        "modelMyKNN.fit(raw_x_train, raw_y_train)\n",
        "my_raw_y_pred = modelMyKNN.predict(raw_x_test)\n",
        "print_evaluation(raw_y_test, my_raw_y_pred)"
      ],
      "metadata": {
        "colab": {
          "base_uri": "https://localhost:8080/"
        },
        "id": "gLmNyXjYzuiH",
        "outputId": "752aa98b-613e-47fd-81c6-a87f7f1713e1"
      },
      "execution_count": 20,
      "outputs": [
        {
          "output_type": "stream",
          "name": "stdout",
          "text": [
            "\n",
            "\n",
            "Accuracy: 0.6493506493506493\n",
            "\n",
            "\n",
            "\n",
            "F1: 0.5645161290322581\n",
            "\n",
            "\n",
            "\n",
            "Classification_report:               precision    recall  f1-score   support\n",
            "\n",
            "           0       0.76      0.66      0.71        99\n",
            "           1       0.51      0.64      0.56        55\n",
            "\n",
            "    accuracy                           0.65       154\n",
            "   macro avg       0.64      0.65      0.64       154\n",
            "weighted avg       0.67      0.65      0.66       154\n",
            "\n",
            "\n"
          ]
        }
      ]
    },
    {
      "cell_type": "markdown",
      "source": [
        "#### Логистическая регрессия"
      ],
      "metadata": {
        "id": "ZHlxKj491wB_"
      }
    },
    {
      "cell_type": "markdown",
      "source": [
        "Реализуем модель логистической регрессии с нуля в виде класса MyLogisticRegression. В начале определяется конструктор __init__(self, learning_rate=0.01, num_iterations=10000), который инициализирует параметры модели, такие как скорость обучения (learning_rate) и количество итераций обучения (num_iterations). Также в конструкторе создаются атрибуты для весов модели (weights) и смещения (bias), которые инициализируются значениями None.\n",
        "\n",
        "Метод sigmoid(self, z) реализует функцию активации сигмоид, которая используется в логистической регрессии для преобразования линейной комбинации признаков в вероятность, лежащую в интервале от 0 до 1. Формула сигмоиды — это 1 / (1 + np.exp(-z)).\n",
        "\n",
        "Метод fit(self, features, labels) обучает модель. Он принимает на вход признаки обучающего набора (features) и метки классов (labels). Сначала вычисляются количество образцов и признаков в данных, инициализируются веса модели нулями, а смещение устанавливается в 0. Затем выполняется цикл по числу итераций (num_iterations). В каждой итерации вычисляется линейная комбинация признаков с текущими весами и смещением (linear_model), после чего применяется функция сигмоиды для получения предсказанных вероятностей (y_predicted). Далее вычисляются градиенты для весов (dw) и смещения (db), которые показывают, как изменяются параметры модели для минимизации ошибки. После этого веса и смещение обновляются с учетом скорости обучения (learning_rate).\n",
        "\n",
        "Метод predict(self, test_features) используется для предсказания меток классов для новых данных. Для каждого примера из тестового набора вычисляется линейная комбинация признаков с весами и смещением, затем результат передается через функцию сигмоиды для получения вероятности. Если вероятность больше 0.5, то предсказанная метка будет 1 (положительный класс), иначе 0 (отрицательный класс).\n",
        "\n",
        "Таким образом, класс реализует логистическую регрессию с использованием градиентного спуска для обучения модели и функции сигмоиды для предсказания."
      ],
      "metadata": {
        "id": "f0KOTMx2nNyQ"
      }
    },
    {
      "cell_type": "code",
      "source": [
        "class MyLogisticRegression:\n",
        "    def __init__(self, learning_rate=0.01, num_iterations=10000):\n",
        "        self.learning_rate = learning_rate\n",
        "        self.num_iterations = num_iterations\n",
        "        self.weights = None\n",
        "        self.bias = None\n",
        "\n",
        "    def sigmoid(self, z):\n",
        "        return 1 / (1 + np.exp(-z))\n",
        "\n",
        "    def fit(self, features, labels):\n",
        "        n_samples, n_features = features.shape\n",
        "        self.weights = np.zeros(n_features)\n",
        "        self.bias = 0\n",
        "\n",
        "        for _ in range(self.num_iterations):\n",
        "            linear_model = np.dot(features, self.weights) + self.bias\n",
        "            y_predicted = self.sigmoid(linear_model)\n",
        "            dw = (1 / n_samples) * np.dot(features.T, (y_predicted - labels))\n",
        "            db = (1 / n_samples) * np.sum(y_predicted - labels)\n",
        "            self.weights -= self.learning_rate * dw\n",
        "            self.bias -= self.learning_rate * db\n",
        "\n",
        "    def predict(self, test_features):\n",
        "        linear_model = np.dot(test_features, self.weights) + self.bias\n",
        "        y_predicted = self.sigmoid(linear_model)\n",
        "\n",
        "        return [1 if i > 0.5 else 0 for i in y_predicted]"
      ],
      "metadata": {
        "id": "YJKCgctBEUWf"
      },
      "execution_count": 21,
      "outputs": []
    },
    {
      "cell_type": "markdown",
      "source": [
        "Обучим новую модель"
      ],
      "metadata": {
        "id": "JiEp1FEKnSmZ"
      }
    },
    {
      "cell_type": "code",
      "source": [
        "modelMyLogisticRegression = MyLogisticRegression()\n",
        "modelMyLogisticRegression.fit(raw_x_train, raw_y_train)\n",
        "my_raw_y_pred2 = modelMyLogisticRegression.predict(raw_x_test)\n",
        "print_evaluation(raw_y_test, my_raw_y_pred2)"
      ],
      "metadata": {
        "colab": {
          "base_uri": "https://localhost:8080/"
        },
        "id": "a7fawtGqEv3z",
        "outputId": "4bd2eef5-e185-4332-af8b-aee1f7679f0d"
      },
      "execution_count": 22,
      "outputs": [
        {
          "output_type": "stream",
          "name": "stdout",
          "text": [
            "\n",
            "\n",
            "Accuracy: 0.7142857142857143\n",
            "\n",
            "\n",
            "\n",
            "F1: 0.5510204081632653\n",
            "\n",
            "\n",
            "\n",
            "Classification_report:               precision    recall  f1-score   support\n",
            "\n",
            "           0       0.75      0.84      0.79        99\n",
            "           1       0.63      0.49      0.55        55\n",
            "\n",
            "    accuracy                           0.71       154\n",
            "   macro avg       0.69      0.66      0.67       154\n",
            "weighted avg       0.70      0.71      0.70       154\n",
            "\n",
            "\n"
          ]
        }
      ]
    },
    {
      "cell_type": "markdown",
      "source": [
        "#### Линейная регрессия"
      ],
      "metadata": {
        "id": "-DlC7eR-10Xb"
      }
    },
    {
      "cell_type": "markdown",
      "source": [
        "Реализуем модель линейной регрессии с нуля в виде класса MyLinearRegression. В конструкторе __init__(self, learning_rate=0.01, num_iterations=10000) задаются параметры модели, такие как скорость обучения (learning_rate) и количество итераций обучения (num_iterations). Также инициализируются веса модели (weights) и смещение (bias), которые изначально устанавливаются в None.\n",
        "\n",
        "Метод fit(self, features, labels) обучает модель на основе предоставленных данных. Входными параметрами являются признаки обучающего набора (features) и метки (labels). В начале вычисляются количество образцов и признаков, после чего веса модели и смещение инициализируются нулями. Далее, в цикле по количеству итераций (num_iterations), для каждой итерации вычисляется предсказание модели (y_predicted), которое является линейной комбинацией признаков и текущих весов, с добавлением смещения. Затем вычисляются градиенты для весов (dw) и смещения (db), которые показывают, как нужно изменить параметры модели, чтобы минимизировать ошибку. После этого веса и смещение обновляются с использованием градиентного спуска и скорости обучения.\n",
        "\n",
        "Метод predict(self, test_features) используется для предсказания значений на новых данных. Для каждого примера из тестового набора вычисляется линейная комбинация признаков с весами и смещением, что дает результат предсказания модели.\n",
        "\n",
        "Таким образом, класс реализует линейную регрессию с использованием градиентного спуска для обучения модели, где цель — минимизировать ошибку путем корректировки весов и смещения на каждом шаге."
      ],
      "metadata": {
        "id": "h3FSaaxUnWrc"
      }
    },
    {
      "cell_type": "code",
      "source": [
        "class MyLinearRegression:\n",
        "    def __init__(self, learning_rate=0.01, num_iterations=10000):\n",
        "        self.learning_rate = learning_rate\n",
        "        self.num_iterations = num_iterations\n",
        "        self.weights = None\n",
        "        self.bias = None\n",
        "\n",
        "    def fit(self, features, labels):\n",
        "        n_samples, n_features = features.shape\n",
        "        self.weights = np.zeros(n_features)\n",
        "        self.bias = 0\n",
        "\n",
        "        for _ in range(self.num_iterations):\n",
        "            y_predicted = np.dot(features, self.weights) + self.bias\n",
        "            dw = (1 / n_samples) * np.dot(features.T, (y_predicted - labels))\n",
        "            db = (1 / n_samples) * np.sum(y_predicted - labels)\n",
        "\n",
        "            self.weights -= self.learning_rate * dw\n",
        "            self.bias -= self.learning_rate * db\n",
        "\n",
        "    def predict(self, test_features):\n",
        "        return np.dot(test_features, self.weights) + self.bias"
      ],
      "metadata": {
        "id": "FcqWPnWCBAaf"
      },
      "execution_count": 23,
      "outputs": []
    },
    {
      "cell_type": "markdown",
      "source": [
        "Обучим новую модель"
      ],
      "metadata": {
        "id": "MhRK6OuknhOb"
      }
    },
    {
      "cell_type": "code",
      "source": [
        "modelMyLinearRegression = MyLinearRegression()\n",
        "modelMyLinearRegression.fit(raw_x_train, raw_y_train)\n",
        "my_raw_y_pred3 = modelMyLinearRegression.predict(raw_x_test)\n",
        "print_evaluation(raw_y_test, my_raw_y_pred3)"
      ],
      "metadata": {
        "colab": {
          "base_uri": "https://localhost:8080/"
        },
        "id": "9HxgeuvkCWsu",
        "outputId": "413dbf52-0430-40ee-ecdf-7edbee9d9588"
      },
      "execution_count": 24,
      "outputs": [
        {
          "output_type": "stream",
          "name": "stdout",
          "text": [
            "\n",
            "\n",
            "Accuracy: 0.6428571428571429\n",
            "\n",
            "\n",
            "\n",
            "F1: 0.0\n",
            "\n",
            "\n",
            "\n",
            "Classification_report:               precision    recall  f1-score   support\n",
            "\n",
            "           0       0.64      1.00      0.78        99\n",
            "           1       0.00      0.00      0.00        55\n",
            "\n",
            "    accuracy                           0.64       154\n",
            "   macro avg       0.32      0.50      0.39       154\n",
            "weighted avg       0.41      0.64      0.50       154\n",
            "\n",
            "\n"
          ]
        }
      ]
    },
    {
      "cell_type": "markdown",
      "source": [
        "#### Решающее дерево"
      ],
      "metadata": {
        "id": "tb46qsKD14Y9"
      }
    },
    {
      "cell_type": "markdown",
      "source": [
        "Реализуем модель решающего дерева для классификации с нуля в виде класса MyDecisionTree. В конструкторе __init__(self, max_depth=None) задается максимальная глубина дерева (max_depth), которая ограничивает количество уровней в дереве, и инициализируется пустое дерево (tree).\n",
        "\n",
        "Внутри класса есть вложенный класс Node, который представляет узел дерева. Каждый узел может содержать информацию о признаке, пороге для разделения, левых и правых поддеревьях, а также значении, если это конечный лист.\n",
        "\n",
        "Метод fit(self, X, y) используется для обучения модели на данных. В нем вызывается метод _build_tree, который строит дерево на основе входных данных X (признаки) и y (метки классов).\n",
        "\n",
        "Метод _build_tree(self, X, y, depth=0) строит дерево рекурсивно. Для каждого узла вычисляется лучший признак и порог для разделения данных с помощью метода _best_split. Если все примеры в узле принадлежат одному классу или достигнут предел глубины дерева, создается листовой узел с соответствующим классом. Если разделение возможно, узел делится на два подузла (левый и правый), и процесс продолжается для каждого из них.\n",
        "\n",
        "Метод _best_split(self, X, y) ищет лучший признак и порог для разделения данных, используя информацию о приросте информации. Для каждого признака и его порогового значения рассчитывается прирост информации с помощью метода _information_gain. Этот метод измеряет, насколько хорошо разделение на две группы улучшает чистоту данных.\n",
        "\n",
        "Метод _information_gain(self, parent, left_child, right_child) рассчитывает прирост информации, который определяется как разница между энтропией родительского узла и взвешенной суммой энтропий левых и правых поддеревьев.\n",
        "\n",
        "Метод _entropy(self, y) вычисляет энтропию для набора данных, используя формулу Шеннона. Энтропия измеряет степень неопределенности или случайности в данных.\n",
        "\n",
        "Метод predict(self, X) используется для предсказания классов на основе обученной модели. Для каждого примера из тестового набора данных вызывается метод _predict_sample, который рекурсивно проходит по дереву, пока не достигнет листа, в котором содержится прогноз.\n",
        "\n",
        "Метод _predict_sample(self, sample, node) является вспомогательным методом, который рекурсивно проходит по дереву, начиная с корня, и принимает решение на основе значений признаков и порогов в каждом узле, пока не достигнет листа с прогнозируемым значением.\n",
        "\n",
        "Таким образом, данный класс реализует полное решение для построения и использования решающего дерева, используя стандартные методы, такие как расчет энтропии и прироста информации для выбора лучших признаков и порогов."
      ],
      "metadata": {
        "id": "nm29fsHYn1Rg"
      }
    },
    {
      "cell_type": "code",
      "source": [
        "class MyDecisionTree:\n",
        "    def __init__(self, max_depth=None):\n",
        "        self.max_depth = max_depth\n",
        "        self.tree = None\n",
        "\n",
        "    class Node:\n",
        "        def __init__(self, feature=None, threshold=None, left=None, right=None, value=None):\n",
        "            self.feature = feature\n",
        "            self.threshold = threshold\n",
        "            self.left = left\n",
        "            self.right = right\n",
        "            self.value = value\n",
        "\n",
        "    def fit(self, X, y):\n",
        "        self.tree = self._build_tree(X, y)\n",
        "\n",
        "    def _build_tree(self, X, y, depth=0):\n",
        "        n_samples, n_features = X.shape\n",
        "        unique_classes = np.unique(y)\n",
        "\n",
        "        if len(unique_classes) == 1 or (self.max_depth is not None and depth >= self.max_depth):\n",
        "            return self.Node(value=unique_classes[0])\n",
        "\n",
        "        best_feature, best_threshold = self._best_split(X, y)\n",
        "        if best_feature is None:\n",
        "            return self.Node(value=np.bincount(y).argmax())\n",
        "\n",
        "        left_indices = X[:, best_feature] < best_threshold\n",
        "        right_indices = X[:, best_feature] >= best_threshold\n",
        "\n",
        "        left_node = self._build_tree(X[left_indices], y[left_indices], depth + 1)\n",
        "        right_node = self._build_tree(X[right_indices], y[right_indices], depth + 1)\n",
        "\n",
        "        return self.Node(feature=best_feature, threshold=best_threshold, left=left_node, right=right_node)\n",
        "\n",
        "    def _best_split(self, X, y):\n",
        "        n_samples, n_features = X.shape\n",
        "        best_gain = -1\n",
        "        best_feature, best_threshold = None, None\n",
        "\n",
        "        for feature in range(n_features):\n",
        "            thresholds = np.unique(X[:, feature])\n",
        "            for threshold in thresholds:\n",
        "                left_indices = X[:, feature] < threshold\n",
        "                right_indices = X[:, feature] >= threshold\n",
        "\n",
        "                if len(y[left_indices]) == 0 or len(y[right_indices]) == 0:\n",
        "                    continue\n",
        "\n",
        "                gain = self._information_gain(y, y[left_indices], y[right_indices])\n",
        "                if gain > best_gain:\n",
        "                    best_gain = gain\n",
        "                    best_feature = feature\n",
        "                    best_threshold = threshold\n",
        "\n",
        "        return best_feature, best_threshold\n",
        "\n",
        "    def _information_gain(self, parent, left_child, right_child):\n",
        "        weight_left = len(left_child) / len(parent)\n",
        "        weight_right = len(right_child) / len(parent)\n",
        "        return self._entropy(parent) - (weight_left * self._entropy(left_child) + weight_right * self._entropy(right_child))\n",
        "\n",
        "    def _entropy(self, y):\n",
        "        class_labels, counts = np.unique(y, return_counts=True)\n",
        "        probabilities = counts / len(y)\n",
        "        return -np.sum(probabilities * np.log2(probabilities + 1e-9))\n",
        "\n",
        "    def predict(self, X):\n",
        "        return np.array([self._predict_sample(sample, self.tree) for sample in X])\n",
        "\n",
        "    def _predict_sample(self, sample, node):\n",
        "        if node.value is not None:\n",
        "            return node.value\n",
        "        if sample[node.feature] < node.threshold:\n",
        "            return self._predict_sample(sample, node.left)\n",
        "        else:\n",
        "            return self._predict_sample(sample, node.right)"
      ],
      "metadata": {
        "id": "V_oqB4w3EESU"
      },
      "execution_count": 79,
      "outputs": []
    },
    {
      "cell_type": "markdown",
      "source": [
        "Обучим новую модель"
      ],
      "metadata": {
        "id": "oKq4Zh5in4sJ"
      }
    },
    {
      "cell_type": "code",
      "source": [
        "from sklearn.preprocessing import MinMaxScaler # import the necessary module\n",
        "\n",
        "modelMyDecisionTree = MyDecisionTree()\n",
        "scaler = MinMaxScaler() # define the scaler\n",
        "modelMyDecisionTree.fit(scaler.fit_transform(raw_x_train), raw_y_train)\n",
        "my_raw_y_pred4 = modelMyDecisionTree.predict(scaler.fit_transform(raw_x_test))\n",
        "print_evaluation(raw_y_test, my_raw_y_pred4)"
      ],
      "metadata": {
        "colab": {
          "base_uri": "https://localhost:8080/"
        },
        "id": "U82Tal3zGmBs",
        "outputId": "cb39bf5f-6b24-4e44-8a4d-a0af26dec60e"
      },
      "execution_count": 27,
      "outputs": [
        {
          "output_type": "stream",
          "name": "stdout",
          "text": [
            "\n",
            "\n",
            "Accuracy: 0.6038961038961039\n",
            "\n",
            "\n",
            "\n",
            "F1: 0.46017699115044247\n",
            "\n",
            "\n",
            "\n",
            "Classification_report:               precision    recall  f1-score   support\n",
            "\n",
            "           0       0.70      0.68      0.69        99\n",
            "           1       0.45      0.47      0.46        55\n",
            "\n",
            "    accuracy                           0.60       154\n",
            "   macro avg       0.57      0.57      0.57       154\n",
            "weighted avg       0.61      0.60      0.61       154\n",
            "\n",
            "\n"
          ]
        }
      ]
    },
    {
      "cell_type": "markdown",
      "source": [
        "#### Случайный лес"
      ],
      "metadata": {
        "id": "XRRpaWx82A17"
      }
    },
    {
      "cell_type": "markdown",
      "source": [
        "Реализуем модель случайного леса для классификации с нуля в виде класса MyRandomForest. В конструкторе __init__(self, n_trees=10, max_depth=5, sample_size=0.8) задаются параметры случайного леса: количество деревьев (n_trees), максимальная глубина каждого дерева (max_depth) и размер выборки для каждого дерева (sample_size). Внутри конструктора также инициализируется пустой список деревьев (trees), который будет содержать обученные модели деревьев решений.\n",
        "\n",
        "Метод _bootstrap_sample(self, X, y) выполняет процедуру бутстрэп-выборки (выборка с возвращением) для создания обучающего подмножества. Сначала рассчитывается количество образцов, которое будет использовано для тренировки каждого дерева, на основе общего числа образцов X и параметра sample_size. Затем случайным образом выбираются индексы для создания подвыборки с возвращением, и возвращаются соответствующие выборки признаков (X_sample) и меток (y_sample).\n",
        "\n",
        "Метод fit(self, X, y) обучает модель случайного леса. В нем создается пустой список деревьев, затем для каждого дерева из n_trees создается новый объект дерева решений tree с заданной максимальной глубиной (max_depth). Для каждого дерева выполняется бутстрэп-выборка из данных, и модель обучается на выбранных подмножествах данных с помощью метода fit. После обучения дерево добавляется в список trees.\n",
        "\n",
        "Метод predict(self, X) выполняет предсказания для нового набора данных X. Для каждого дерева в случайном лесу выполняется предсказание, и все предсказания собираются в массив tree_predictions. После этого для каждого примера данных выбирается наиболее часто встречающееся предсказание среди всех деревьев (модальное значение) с помощью np.bincount(pred).argmax(). Это и будет итоговым предсказанием для каждого примера, которое возвращается как результат работы метода.\n",
        "\n",
        "Таким образом, класс MyRandomForest реализует модель случайного леса, которая состоит из нескольких деревьев решений, обученных на случайных подмножествах данных с использованием бутстрэп-выборки. Для предсказаний используется принцип голосования деревьев, где итоговое решение определяется на основе большинства голосов."
      ],
      "metadata": {
        "id": "GDKOMB6JodIA"
      }
    },
    {
      "cell_type": "code",
      "source": [
        "class MyRandomForest:\n",
        "    def __init__(self, n_trees=10, max_depth=5, sample_size=0.8):\n",
        "        self.n_trees = n_trees\n",
        "        self.max_depth = max_depth\n",
        "        self.sample_size = sample_size\n",
        "        self.trees = []\n",
        "\n",
        "    def _bootstrap_sample(self, X, y):\n",
        "        n_samples = int(len(X) * self.sample_size)\n",
        "        idxs = np.random.choice(len(X), size=n_samples, replace=True)\n",
        "        return X[idxs], y[idxs]\n",
        "\n",
        "    def fit(self, X, y):\n",
        "        self.trees = []\n",
        "        for _ in range(self.n_trees):\n",
        "            tree = DecisionTreeClassifier(max_depth=self.max_depth)\n",
        "            X_sample, y_sample = self._bootstrap_sample(X, y)\n",
        "            tree.fit(X_sample, y_sample)\n",
        "            self.trees.append(tree)\n",
        "\n",
        "    def predict(self, X):\n",
        "        tree_predictions = np.array([tree.predict(X) for tree in self.trees])\n",
        "        return np.array([np.bincount(pred).argmax() for pred in tree_predictions.T])\n"
      ],
      "metadata": {
        "id": "jKSGJuHDMM3B"
      },
      "execution_count": 28,
      "outputs": []
    },
    {
      "cell_type": "markdown",
      "source": [
        "Обучим новую модель"
      ],
      "metadata": {
        "id": "LTLkMtgxogUC"
      }
    },
    {
      "cell_type": "code",
      "source": [
        "modelMyRandomForest = MyRandomForest()\n",
        "modelMyRandomForest.fit(raw_x_train.values, raw_y_train.values)\n",
        "my_raw_y_pred5 = modelMyRandomForest.predict(raw_x_test.values)\n",
        "print_evaluation(raw_y_test, my_raw_y_pred5)"
      ],
      "metadata": {
        "colab": {
          "base_uri": "https://localhost:8080/"
        },
        "id": "I1lVV9u6GmGT",
        "outputId": "da1a5725-d757-433d-9248-b9450e01ff68"
      },
      "execution_count": 68,
      "outputs": [
        {
          "output_type": "stream",
          "name": "stdout",
          "text": [
            "\n",
            "\n",
            "Accuracy: 0.7727272727272727\n",
            "\n",
            "\n",
            "\n",
            "F1: 0.6666666666666666\n",
            "\n",
            "\n",
            "\n",
            "Classification_report:               precision    recall  f1-score   support\n",
            "\n",
            "           0       0.81      0.85      0.83        99\n",
            "           1       0.70      0.64      0.67        55\n",
            "\n",
            "    accuracy                           0.77       154\n",
            "   macro avg       0.75      0.74      0.75       154\n",
            "weighted avg       0.77      0.77      0.77       154\n",
            "\n",
            "\n"
          ]
        }
      ]
    },
    {
      "cell_type": "markdown",
      "source": [
        "#### Градиентный бустинг"
      ],
      "metadata": {
        "id": "3jnpQmIH2D3x"
      }
    },
    {
      "cell_type": "markdown",
      "source": [
        "Реализуем модель градиентного бустинга для регрессии с нуля в виде класса MyGradientBoosting. В конструкторе __init__(self, n_estimators=100, learning_rate=0.1, max_depth=3) задаются основные параметры модели: количество итераций (или базовых моделей) (n_estimators), скорость обучения (learning_rate) и максимальная глубина дерева решений, которое используется в качестве базовой модели (max_depth). Также создаются два атрибута: список для хранения базовых моделей (models) и переменная для хранения начального предсказания (initial_prediction).\n",
        "\n",
        "Метод fit(self, X, y) обучает модель градиентного бустинга. Сначала инициализируется начальное предсказание как среднее значение целевой переменной y. Далее создается массив предсказаний y_pred, который на старте равен этому среднему значению. В цикле, который повторяется n_estimators раз (для каждого базового дерева), вычисляются остатки (residuals) как разница между истинными значениями y и текущими предсказаниями y_pred. Затем создается и обучается модель дерева решений (MyDecisionTree) на остатках. После обучения дерева, оно добавляется в список моделей, а предсказания обновляются путем добавления результата предсказания текущего дерева, умноженного на скорость обучения. Это обновление предсказаний повторяется для каждой итерации.\n",
        "\n",
        "Метод predict(self, X) выполняет предсказания для новых данных X. Сначала предсказания инициализируются как начальное предсказание initial_prediction. Затем для каждой модели в списке models выполняется предсказание на данных X, и результат умножается на скорость обучения. Итоговые предсказания накапливаются, и в конце возвращается окончательное предсказание.\n",
        "\n",
        "Таким образом, класс MyGradientBoosting реализует метод градиентного бустинга для регрессии, где в качестве базовых моделей используются деревья решений. Модели обучаются на остатках ошибок предыдущих моделей, и предсказания корректируются на каждом шаге с помощью добавления предсказаний деревьев, взвешенных скоростью обучения."
      ],
      "metadata": {
        "id": "fSJbjCz-pjAZ"
      }
    },
    {
      "cell_type": "code",
      "source": [
        "class MyGradientBoosting:\n",
        "    def __init__(self, n_estimators=100, learning_rate=0.1, max_depth=3):\n",
        "        self.n_estimators = n_estimators\n",
        "        self.learning_rate = learning_rate\n",
        "        self.max_depth = max_depth\n",
        "        self.models = []\n",
        "        self.initial_prediction = None\n",
        "\n",
        "    def fit(self, X, y):\n",
        "        self.initial_prediction = np.mean(y)\n",
        "        y_pred = np.full(y.shape, self.initial_prediction)\n",
        "\n",
        "        for _ in range(self.n_estimators):\n",
        "            residuals = y - y_pred\n",
        "\n",
        "            model = MyDecisionTree(max_depth=self.max_depth)\n",
        "            model.fit(X, residuals)\n",
        "            self.models.append(model)\n",
        "\n",
        "            y_pred += self.learning_rate * model.predict(X)\n",
        "\n",
        "    def predict(self, X):\n",
        "        y_pred = np.full(X.shape[0], self.initial_prediction)\n",
        "\n",
        "        for model in self.models:\n",
        "            y_pred += self.learning_rate * model.predict(X)\n",
        "\n",
        "        return y_pred"
      ],
      "metadata": {
        "id": "ndjsU1G8NB33"
      },
      "execution_count": 81,
      "outputs": []
    },
    {
      "cell_type": "markdown",
      "source": [
        "Обучим новую модель"
      ],
      "metadata": {
        "id": "50-h_2NHplho"
      }
    },
    {
      "cell_type": "code",
      "source": [
        "modelMyGradientBoosting = MyGradientBoosting()\n",
        "modelMyGradientBoosting.fit(raw_x_train.values, raw_y_train.values)\n",
        "my_raw_y_pred6 = modelMyGradientBoosting.predict(raw_x_test.values)\n",
        "print_evaluation(raw_y_test, my_raw_y_pred6)"
      ],
      "metadata": {
        "colab": {
          "base_uri": "https://localhost:8080/"
        },
        "id": "uWUvFjegNB7u",
        "outputId": "cc646279-c78e-4eae-a859-e581e554b285"
      },
      "execution_count": 70,
      "outputs": [
        {
          "output_type": "stream",
          "name": "stdout",
          "text": [
            "\n",
            "\n",
            "Accuracy: 0.6428571428571429\n",
            "\n",
            "\n",
            "\n",
            "F1: 0.0\n",
            "\n",
            "\n",
            "\n",
            "Classification_report:               precision    recall  f1-score   support\n",
            "\n",
            "           0       0.64      1.00      0.78        99\n",
            "           1       0.00      0.00      0.00        55\n",
            "\n",
            "    accuracy                           0.64       154\n",
            "   macro avg       0.32      0.50      0.39       154\n",
            "weighted avg       0.41      0.64      0.50       154\n",
            "\n",
            "\n"
          ]
        }
      ]
    },
    {
      "cell_type": "markdown",
      "source": [
        "### Обучение моделей самостоятельной реализации с улучшенным бейзлайном\n",
        "#### KNN"
      ],
      "metadata": {
        "id": "f2zzeqI92IZs"
      }
    },
    {
      "cell_type": "code",
      "source": [
        "MyKNN = MyKNN(num_neighbors=3)\n",
        "MyKNN.fit(x_resampled, y_resampled)\n",
        "my_y_pred = MyKNN.predict(x_test)\n",
        "print_evaluation(y_test, my_y_pred)"
      ],
      "metadata": {
        "colab": {
          "base_uri": "https://localhost:8080/"
        },
        "id": "s1NyWcxR_zdZ",
        "outputId": "a658d092-a9ca-420c-8bc0-9a11ca39db7b"
      },
      "execution_count": 71,
      "outputs": [
        {
          "output_type": "stream",
          "name": "stdout",
          "text": [
            "\n",
            "\n",
            "Accuracy: 0.6818181818181818\n",
            "\n",
            "\n",
            "\n",
            "F1: 0.5950413223140496\n",
            "\n",
            "\n",
            "\n",
            "Classification_report:               precision    recall  f1-score   support\n",
            "\n",
            "           0       0.79      0.69      0.74       100\n",
            "           1       0.54      0.67      0.60        54\n",
            "\n",
            "    accuracy                           0.68       154\n",
            "   macro avg       0.67      0.68      0.67       154\n",
            "weighted avg       0.70      0.68      0.69       154\n",
            "\n",
            "\n"
          ]
        }
      ]
    },
    {
      "cell_type": "markdown",
      "source": [
        "#### Логистическая регрессия"
      ],
      "metadata": {
        "id": "lNUN4Iw_2hdH"
      }
    },
    {
      "cell_type": "code",
      "source": [
        "MyLogisticRegression = MyLogisticRegression()\n",
        "MyLogisticRegression.fit(x_resampled, y_resampled)\n",
        "my_y_pred2 = MyLogisticRegression.predict(x_test)\n",
        "print_evaluation(y_test, my_y_pred2)"
      ],
      "metadata": {
        "colab": {
          "base_uri": "https://localhost:8080/"
        },
        "id": "FZv7i7HTFJZD",
        "outputId": "002e9601-8a46-406a-b0ad-98686cf3229e"
      },
      "execution_count": 72,
      "outputs": [
        {
          "output_type": "stream",
          "name": "stdout",
          "text": [
            "\n",
            "\n",
            "Accuracy: 0.7532467532467533\n",
            "\n",
            "\n",
            "\n",
            "F1: 0.6984126984126984\n",
            "\n",
            "\n",
            "\n",
            "Classification_report:               precision    recall  f1-score   support\n",
            "\n",
            "           0       0.88      0.72      0.79       100\n",
            "           1       0.61      0.81      0.70        54\n",
            "\n",
            "    accuracy                           0.75       154\n",
            "   macro avg       0.74      0.77      0.74       154\n",
            "weighted avg       0.78      0.75      0.76       154\n",
            "\n",
            "\n"
          ]
        }
      ]
    },
    {
      "cell_type": "markdown",
      "source": [
        "#### Линейная регрессия"
      ],
      "metadata": {
        "id": "lcm9Gjpt2lW_"
      }
    },
    {
      "cell_type": "code",
      "source": [
        "MyLinearRegression = MyLinearRegression()\n",
        "MyLinearRegression.fit(x_resampled, y_resampled)\n",
        "my_y_pred3 = MyLinearRegression.predict(x_test)\n",
        "print_evaluation(y_test, my_y_pred3)"
      ],
      "metadata": {
        "colab": {
          "base_uri": "https://localhost:8080/"
        },
        "id": "0azFiQh6DfnS",
        "outputId": "a9dca105-33c0-4fa4-f268-9a20d32e69bc"
      },
      "execution_count": 73,
      "outputs": [
        {
          "output_type": "stream",
          "name": "stdout",
          "text": [
            "\n",
            "\n",
            "Accuracy: 0.7402597402597403\n",
            "\n",
            "\n",
            "\n",
            "F1: 0.6610169491525424\n",
            "\n",
            "\n",
            "\n",
            "Classification_report:               precision    recall  f1-score   support\n",
            "\n",
            "           0       0.83      0.75      0.79       100\n",
            "           1       0.61      0.72      0.66        54\n",
            "\n",
            "    accuracy                           0.74       154\n",
            "   macro avg       0.72      0.74      0.73       154\n",
            "weighted avg       0.75      0.74      0.74       154\n",
            "\n",
            "\n"
          ]
        }
      ]
    },
    {
      "cell_type": "markdown",
      "source": [
        "#### Решающее дерево"
      ],
      "metadata": {
        "id": "cPoKAC9W2pXk"
      }
    },
    {
      "cell_type": "code",
      "source": [
        "MyDecisionTree = MyDecisionTree()\n",
        "MyDecisionTree.fit(x_resampled, y_resampled)\n",
        "my_y_pred4 = MyDecisionTree.predict(x_test)\n",
        "print_evaluation(y_test, my_y_pred4)"
      ],
      "metadata": {
        "colab": {
          "base_uri": "https://localhost:8080/"
        },
        "id": "JPia5lS2FIS9",
        "outputId": "43d51a0b-d7fe-4c29-d229-ca40399a31f6"
      },
      "execution_count": 74,
      "outputs": [
        {
          "output_type": "stream",
          "name": "stdout",
          "text": [
            "\n",
            "\n",
            "Accuracy: 0.7272727272727273\n",
            "\n",
            "\n",
            "\n",
            "F1: 0.65\n",
            "\n",
            "\n",
            "\n",
            "Classification_report:               precision    recall  f1-score   support\n",
            "\n",
            "           0       0.83      0.73      0.78       100\n",
            "           1       0.59      0.72      0.65        54\n",
            "\n",
            "    accuracy                           0.73       154\n",
            "   macro avg       0.71      0.73      0.71       154\n",
            "weighted avg       0.75      0.73      0.73       154\n",
            "\n",
            "\n"
          ]
        }
      ]
    },
    {
      "cell_type": "markdown",
      "source": [
        "#### Случайный лес"
      ],
      "metadata": {
        "id": "65LAcAb-2r9Q"
      }
    },
    {
      "cell_type": "code",
      "source": [
        "MyRandomForest = MyRandomForest()\n",
        "MyRandomForest.fit(x_resampled, y_resampled)\n",
        "my_y_pred5 = MyRandomForest.predict(x_test)\n",
        "print_evaluation(y_test, my_y_pred5)"
      ],
      "metadata": {
        "colab": {
          "base_uri": "https://localhost:8080/"
        },
        "id": "uudcuaGDMJhY",
        "outputId": "10527994-6610-4b27-ea50-464bb9d56370"
      },
      "execution_count": 75,
      "outputs": [
        {
          "output_type": "stream",
          "name": "stdout",
          "text": [
            "\n",
            "\n",
            "Accuracy: 0.7337662337662337\n",
            "\n",
            "\n",
            "\n",
            "F1: 0.6434782608695652\n",
            "\n",
            "\n",
            "\n",
            "Classification_report:               precision    recall  f1-score   support\n",
            "\n",
            "           0       0.82      0.76      0.79       100\n",
            "           1       0.61      0.69      0.64        54\n",
            "\n",
            "    accuracy                           0.73       154\n",
            "   macro avg       0.71      0.72      0.72       154\n",
            "weighted avg       0.74      0.73      0.74       154\n",
            "\n",
            "\n"
          ]
        }
      ]
    },
    {
      "cell_type": "markdown",
      "source": [
        "####  Градиентный бустинг"
      ],
      "metadata": {
        "id": "8nrB_we42vuN"
      }
    },
    {
      "cell_type": "code",
      "source": [
        "MyGradientBoosting = MyGradientBoosting()\n",
        "MyGradientBoosting.fit(x_resampled, y_resampled)\n",
        "my_y_pred6 = MyGradientBoosting.predict(x_test)\n",
        "print_evaluation(y_test, my_y_pred6)"
      ],
      "metadata": {
        "colab": {
          "base_uri": "https://localhost:8080/"
        },
        "id": "bMFClPdNMKEE",
        "outputId": "489be307-7eec-4faf-bc0e-5462ca58557a"
      },
      "execution_count": 82,
      "outputs": [
        {
          "output_type": "stream",
          "name": "stdout",
          "text": [
            "\n",
            "\n",
            "Accuracy: 0.6493506493506493\n",
            "\n",
            "\n",
            "\n",
            "F1: 0.0\n",
            "\n",
            "\n",
            "\n",
            "Classification_report:               precision    recall  f1-score   support\n",
            "\n",
            "           0       0.65      1.00      0.79       100\n",
            "           1       0.00      0.00      0.00        54\n",
            "\n",
            "    accuracy                           0.65       154\n",
            "   macro avg       0.32      0.50      0.39       154\n",
            "weighted avg       0.42      0.65      0.51       154\n",
            "\n",
            "\n"
          ]
        }
      ]
    },
    {
      "cell_type": "markdown",
      "source": [
        "## Выводы\n",
        "\n",
        "В результате выполнения данного задания мне удалось значительно улучшить бейзлайн, применяя различные методы оптимизации и подходы, что позволило реализовать несколько эффективных моделей машинного обучения. Среди них можно выделить K-Nearest Neighbors (KNN), логистическую и линейную регрессии, а также более сложные модели, такие как градиентный бустинг, случайный лес и решающее дерево. Каждая из этих моделей была настроена и протестирована с использованием разнообразных методов обучения и предсказания.\n",
        "\n",
        "Точность, достигнутая моими моделями, оказалась достаточно высокой. В ряде случаев, особенно в задачах с небольшими и средними по сложности датасетами, мои модели продемонстрировали даже лучшие результаты по сравнению с аналогичными решениями, реализованными в популярной библиотеке scikit-learn. Это подтверждает, что модели, разработанные в рамках данного проекта, могут быть вполне эффективными для решения реальных задач, когда требуется работать с ограниченными объемами данных или когда задача не требует использования слишком сложных алгоритмов.\n",
        "\n",
        "Тем не менее, для работы с более сложными задачами, требующими обработки больших объемов данных или работы с высокоразмерными признаками, использование библиотек, таких как scikit-learn, остается предпочтительным. Эти решения обладают рядом оптимизаций, которые обеспечивают не только более высокую производительность, но и возможность адаптации моделей к различным характеристикам данных, таким как шум, пропуски или дисбаланс классов. Они также предлагают широкий набор готовых инструментов для подбора гиперпараметров и регуляризации, что позволяет повысить качество моделей на более сложных и разнообразных датасетах.\n",
        "\n",
        "Таким образом, результаты моего проекта показывают, что мои модели могут быть успешно применены в условиях, где сложность задачи и объем данных находятся в пределах, доступных для ручной настройки и оптимизации, однако для более масштабных проектов или более сложных данных стоит использовать специализированные и оптимизированные решения из уже существующих библиотек, таких как scikit-learn."
      ],
      "metadata": {
        "id": "tOpLIoO322jG"
      }
    }
  ]
}